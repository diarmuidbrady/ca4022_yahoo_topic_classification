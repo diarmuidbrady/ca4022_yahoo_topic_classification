{
 "cells": [
  {
   "cell_type": "markdown",
   "id": "7ee38ba4-dc13-46b7-8f50-94f88b69dc52",
   "metadata": {},
   "source": [
    "# Yahoo Topic Classification"
   ]
  },
  {
   "cell_type": "markdown",
   "id": "0ff719a6-166a-41bb-acf3-8be5d0f2409c",
   "metadata": {
    "execution": {
     "iopub.execute_input": "2022-11-24T10:38:08.745184Z",
     "iopub.status.busy": "2022-11-24T10:38:08.743460Z",
     "iopub.status.idle": "2022-11-24T10:38:09.328424Z",
     "shell.execute_reply": "2022-11-24T10:38:09.325422Z",
     "shell.execute_reply.started": "2022-11-24T10:38:08.744184Z"
    },
    "tags": []
   },
   "source": [
    "## Setting up Libraries and Environments"
   ]
  },
  {
   "cell_type": "code",
   "execution_count": 1,
   "id": "cbb9a2b7-d4ec-4caf-bf1a-770986bfe332",
   "metadata": {
    "execution": {
     "iopub.execute_input": "2022-12-16T08:18:32.166525Z",
     "iopub.status.busy": "2022-12-16T08:18:32.166525Z",
     "iopub.status.idle": "2022-12-16T08:18:34.968321Z",
     "shell.execute_reply": "2022-12-16T08:18:34.967551Z",
     "shell.execute_reply.started": "2022-12-16T08:18:32.166525Z"
    },
    "tags": []
   },
   "outputs": [],
   "source": [
    "# Basic\n",
    "import pandas as pd\n",
    "import numpy as np\n",
    "import findspark\n",
    "import pyspark\n",
    "from pyspark import SparkFiles\n",
    "\n",
    "# Data Manipulation\n",
    "from pyspark.sql import SparkSession\n",
    "from pyspark.sql.types import *\n",
    "from pyspark.sql.functions import *\n",
    "from pyspark.sql.window import Window\n",
    "\n",
    "# ML\n",
    "from pyspark.ml.feature import *\n",
    "from pyspark.ml.linalg import Vector\n",
    "from pyspark.ml import Pipeline\n",
    "from pyspark.ml.classification import OneVsRest, LinearSVC, RandomForestClassifier\n",
    "from pyspark.ml.evaluation import MulticlassClassificationEvaluator"
   ]
  },
  {
   "cell_type": "code",
   "execution_count": 2,
   "id": "b4a745df-3b53-44d6-b49a-f3656dac14df",
   "metadata": {
    "execution": {
     "iopub.execute_input": "2022-12-16T08:18:34.971289Z",
     "iopub.status.busy": "2022-12-16T08:18:34.970818Z",
     "iopub.status.idle": "2022-12-16T08:18:45.814731Z",
     "shell.execute_reply": "2022-12-16T08:18:45.814731Z",
     "shell.execute_reply.started": "2022-12-16T08:18:34.971289Z"
    },
    "tags": []
   },
   "outputs": [],
   "source": [
    "findspark.init()\n",
    "\n",
    "spark = SparkSession.builder.appName('SparkByExamples.com').getOrCreate()"
   ]
  },
  {
   "cell_type": "markdown",
   "id": "97d591fd-51c5-46bc-987f-6ac8ca5360af",
   "metadata": {
    "execution": {
     "iopub.execute_input": "2022-11-25T15:12:38.695557Z",
     "iopub.status.busy": "2022-11-25T15:12:38.695557Z",
     "iopub.status.idle": "2022-11-25T15:12:42.365718Z",
     "shell.execute_reply": "2022-11-25T15:12:42.364754Z",
     "shell.execute_reply.started": "2022-11-25T15:12:38.695557Z"
    },
    "tags": []
   },
   "source": [
    "## Data Import"
   ]
  },
  {
   "cell_type": "code",
   "execution_count": 3,
   "id": "f51b2065-0187-468d-8c89-4a1c8e990f2e",
   "metadata": {
    "execution": {
     "iopub.execute_input": "2022-12-16T08:18:45.816695Z",
     "iopub.status.busy": "2022-12-16T08:18:45.815697Z",
     "iopub.status.idle": "2022-12-16T08:18:45.831696Z",
     "shell.execute_reply": "2022-12-16T08:18:45.830762Z",
     "shell.execute_reply.started": "2022-12-16T08:18:45.816695Z"
    },
    "tags": []
   },
   "outputs": [],
   "source": [
    "schema_list = [\n",
    "    StructField('Label', StringType(), False), \n",
    "    StructField('Title', StringType(), True), \n",
    "    StructField('Content', StringType(), True),\n",
    "    StructField('Answer', StringType(), True),\n",
    "    StructField('Set', StringType(), True)\n",
    "]\n",
    "schema_df = StructType(fields=schema_list)"
   ]
  },
  {
   "cell_type": "code",
   "execution_count": 4,
   "id": "5d88c51c-f25e-4c4e-98af-592fcf95e1ef",
   "metadata": {
    "execution": {
     "iopub.execute_input": "2022-12-16T08:18:45.834696Z",
     "iopub.status.busy": "2022-12-16T08:18:45.833696Z",
     "iopub.status.idle": "2022-12-16T08:18:48.922406Z",
     "shell.execute_reply": "2022-12-16T08:18:48.921510Z",
     "shell.execute_reply.started": "2022-12-16T08:18:45.834696Z"
    },
    "tags": []
   },
   "outputs": [],
   "source": [
    "# Import Data from reduced folders\n",
    "df = spark.read.csv(\"../data/reduced\", schema=schema_df)"
   ]
  },
  {
   "cell_type": "markdown",
   "id": "c15f0701-ee21-467d-9b24-3e666e211e1f",
   "metadata": {},
   "source": [
    "## Data Preview\n",
    "This includes some basic view of the data before processing"
   ]
  },
  {
   "cell_type": "code",
   "execution_count": 5,
   "id": "eee87c20-e092-4c65-b2b8-56f6742f2dbe",
   "metadata": {
    "execution": {
     "iopub.execute_input": "2022-12-16T08:18:48.923406Z",
     "iopub.status.busy": "2022-12-16T08:18:48.923406Z",
     "iopub.status.idle": "2022-12-16T08:18:51.313400Z",
     "shell.execute_reply": "2022-12-16T08:18:51.312400Z",
     "shell.execute_reply.started": "2022-12-16T08:18:48.923406Z"
    },
    "tags": []
   },
   "outputs": [
    {
     "name": "stderr",
     "output_type": "stream",
     "text": [
      "[Stage 0:>                                                          (0 + 1) / 1]\r"
     ]
    },
    {
     "name": "stdout",
     "output_type": "stream",
     "text": [
      "+-----+--------------------+--------------------+--------------------+-----+\n",
      "|Label|               Title|             Content|              Answer|  Set|\n",
      "+-----+--------------------+--------------------+--------------------+-----+\n",
      "|    9|I've tried talkin...|                null|~I was going to s...|Train|\n",
      "|    2|Find the coordina...|Find the coordina...|\"Let P be (a,b). ...|Train|\n",
      "|    6|       Who will win?|Who's gonna win t...|ND go irish. USC ...|Train|\n",
      "|   10|    Where do I vote?|                null|If you don't know...|Train|\n",
      "|    2| help for the s.a.t?|can anyone give m...|Try some of these...|Train|\n",
      "+-----+--------------------+--------------------+--------------------+-----+\n",
      "only showing top 5 rows\n",
      "\n"
     ]
    },
    {
     "name": "stderr",
     "output_type": "stream",
     "text": [
      "                                                                                \r"
     ]
    }
   ],
   "source": [
    "df.show(5)"
   ]
  },
  {
   "cell_type": "code",
   "execution_count": 6,
   "id": "f042ac05-7a79-40b4-82ca-3c8d33fa61d3",
   "metadata": {
    "execution": {
     "iopub.execute_input": "2022-12-16T08:18:51.314401Z",
     "iopub.status.busy": "2022-12-16T08:18:51.314401Z",
     "iopub.status.idle": "2022-12-16T08:18:58.471206Z",
     "shell.execute_reply": "2022-12-16T08:18:58.470269Z",
     "shell.execute_reply.started": "2022-12-16T08:18:51.314401Z"
    },
    "tags": []
   },
   "outputs": [
    {
     "name": "stderr",
     "output_type": "stream",
     "text": [
      "[Stage 1:====================================================>     (9 + 1) / 10]\r"
     ]
    },
    {
     "name": "stdout",
     "output_type": "stream",
     "text": [
      "+-------+------------------+--------------------+--------------------------------+----------------------+------+\n",
      "|summary|             Label|               Title|                         Content|                Answer|   Set|\n",
      "+-------+------------------+--------------------+--------------------------------+----------------------+------+\n",
      "|  count|            365124|              365124|                          201247|                358339|365124|\n",
      "|   mean| 5.493070847164251|                null|                        Infinity|              Infinity|  null|\n",
      "| stddev|2.8693308861059896|                null|                             NaN|                   NaN|  null|\n",
      "|    min|                 1|! Does anyone els...|                               !|  ! \"\"Please excuse...|  Test|\n",
      "|    max|                 9|﻿Speculate about ...|나보기가역겨워. 가실 때에는. ...|혼돈\\nhttp://dictio...| Train|\n",
      "+-------+------------------+--------------------+--------------------------------+----------------------+------+\n",
      "\n"
     ]
    },
    {
     "name": "stderr",
     "output_type": "stream",
     "text": [
      "                                                                                \r"
     ]
    }
   ],
   "source": [
    "df.describe().show()"
   ]
  },
  {
   "cell_type": "markdown",
   "id": "7baa9206-ef31-4de3-b2e0-aec5d148e249",
   "metadata": {},
   "source": [
    "## Data Processing"
   ]
  },
  {
   "cell_type": "markdown",
   "id": "0883b5f8-d895-470a-9310-1b632abeb35f",
   "metadata": {
    "execution": {
     "iopub.execute_input": "2022-12-11T15:11:29.355690Z",
     "iopub.status.busy": "2022-12-11T15:11:29.354796Z",
     "iopub.status.idle": "2022-12-11T15:11:29.362691Z",
     "shell.execute_reply": "2022-12-11T15:11:29.361689Z",
     "shell.execute_reply.started": "2022-12-11T15:11:29.355690Z"
    },
    "tags": []
   },
   "source": [
    "### Steps to Take\n",
    "- Merge Test and Train\n",
    "- Rename columns\n",
    "- Change data types\n",
    "- Tokenization\n",
    "- Stop Word Removal\n",
    "- NGram"
   ]
  },
  {
   "cell_type": "markdown",
   "id": "fe89d40c-1e5c-4f05-b860-190e90ce6be5",
   "metadata": {},
   "source": [
    "#### Column Concatenation"
   ]
  },
  {
   "cell_type": "code",
   "execution_count": 7,
   "id": "1a597a0c-ec63-41b2-8cb1-a3ba11a8b757",
   "metadata": {
    "execution": {
     "iopub.execute_input": "2022-12-16T08:18:58.473507Z",
     "iopub.status.busy": "2022-12-16T08:18:58.473205Z",
     "iopub.status.idle": "2022-12-16T08:18:58.534203Z",
     "shell.execute_reply": "2022-12-16T08:18:58.533259Z",
     "shell.execute_reply.started": "2022-12-16T08:18:58.473507Z"
    },
    "tags": []
   },
   "outputs": [],
   "source": [
    "df = df.fillna('')"
   ]
  },
  {
   "cell_type": "code",
   "execution_count": 8,
   "id": "35ed22f5-24e9-4f72-a338-d95ec2c0102e",
   "metadata": {
    "execution": {
     "iopub.execute_input": "2022-12-16T08:18:58.535203Z",
     "iopub.status.busy": "2022-12-16T08:18:58.535203Z",
     "iopub.status.idle": "2022-12-16T08:18:58.801309Z",
     "shell.execute_reply": "2022-12-16T08:18:58.800700Z",
     "shell.execute_reply.started": "2022-12-16T08:18:58.535203Z"
    },
    "tags": []
   },
   "outputs": [
    {
     "name": "stdout",
     "output_type": "stream",
     "text": [
      "+--------------------+-----+-----+\n",
      "|            Document|  Set|Label|\n",
      "+--------------------+-----+-----+\n",
      "|I've tried talkin...|Train|    9|\n",
      "|Find the coordina...|Train|    2|\n",
      "|Who will win?Who'...|Train|    6|\n",
      "|Where do I vote?I...|Train|   10|\n",
      "|help for the s.a....|Train|    2|\n",
      "+--------------------+-----+-----+\n",
      "only showing top 5 rows\n",
      "\n"
     ]
    }
   ],
   "source": [
    "df = df.withColumn('Document', concat(df['Title'], df['Content'], df['Answer'])).select(['Document', 'Set', 'Label'])\n",
    "df.show(5)"
   ]
  },
  {
   "cell_type": "code",
   "execution_count": 9,
   "id": "12cd0dbb-e291-4474-8ff1-b68c483a7851",
   "metadata": {
    "execution": {
     "iopub.execute_input": "2022-12-15T20:18:08.091934Z",
     "iopub.status.busy": "2022-12-15T20:18:08.090934Z",
     "iopub.status.idle": "2022-12-15T20:18:11.456779Z",
     "shell.execute_reply": "2022-12-15T20:18:11.455994Z",
     "shell.execute_reply.started": "2022-12-15T20:18:08.091934Z"
    },
    "tags": []
   },
   "outputs": [
    {
     "name": "stderr",
     "output_type": "stream",
     "text": [
      "                                                                                \r"
     ]
    }
   ],
   "source": [
    "before = df.count()\n",
    "before_train = df.filter('Set == \"Train\"').count()\n",
    "before_test = df.filter('Set == \"Test\"').count()\n",
    "df = df.filter('Document is NOT NULL').withColumn('Length', length(df['Document']))\n",
    "after = df.count()\n",
    "after_train = df.filter('Set == \"Train\"').count()\n",
    "after_test = df.filter('Set == \"Test\"').count()"
   ]
  },
  {
   "cell_type": "code",
   "execution_count": 10,
   "id": "d6b1b6e7-73cf-4b96-bf71-b9348229cf42",
   "metadata": {
    "execution": {
     "iopub.execute_input": "2022-12-15T20:18:11.458780Z",
     "iopub.status.busy": "2022-12-15T20:18:11.458780Z",
     "iopub.status.idle": "2022-12-15T20:18:12.481216Z",
     "shell.execute_reply": "2022-12-15T20:18:12.480300Z",
     "shell.execute_reply.started": "2022-12-15T20:18:11.458780Z"
    },
    "tags": []
   },
   "outputs": [
    {
     "name": "stdout",
     "output_type": "stream",
     "text": [
      "There were 350042 training samples and 15082 test samples\n",
      "0 rows were dropped, 0 training samples and 0 test samples.\n"
     ]
    },
    {
     "name": "stderr",
     "output_type": "stream",
     "text": [
      "[Stage 26:===================================================>     (9 + 1) / 10]\r"
     ]
    },
    {
     "name": "stdout",
     "output_type": "stream",
     "text": [
      "There are now 350042 training samples and 15082 test samples\n"
     ]
    },
    {
     "name": "stderr",
     "output_type": "stream",
     "text": [
      "                                                                                \r"
     ]
    }
   ],
   "source": [
    "print(f'''There were {before_train} training samples and {before_test} test samples''')\n",
    "print(f'{before - after} rows were dropped, {before_train - after_train} training samples and {before_test - after_test} test samples.')\n",
    "print(f'''There are now {df.filter('Set == \"Train\"').count()} training samples and {df.filter('Set == \"Test\"').count()} test samples''')"
   ]
  },
  {
   "cell_type": "markdown",
   "id": "e0dc6dc0-f17d-40a7-9dbd-b536aa15b91f",
   "metadata": {},
   "source": [
    "### Full Processing Pipeline"
   ]
  },
  {
   "cell_type": "markdown",
   "id": "a0ec6b67",
   "metadata": {},
   "source": [
    "#### Full Experiment"
   ]
  },
  {
   "cell_type": "code",
   "execution_count": 11,
   "id": "a47b07cc-bc3c-45ea-982e-435b150d91de",
   "metadata": {
    "execution": {
     "iopub.execute_input": "2022-12-16T08:56:14.469016Z",
     "iopub.status.busy": "2022-12-16T08:56:14.469016Z"
    },
    "tags": []
   },
   "outputs": [
    {
     "name": "stderr",
     "output_type": "stream",
     "text": [
      "22/12/16 14:55:04 WARN MemoryStore: Not enough space to cache rdd_116_7 in memory! (computed 34.8 MiB so far)\n",
      "22/12/16 14:55:04 WARN BlockManager: Persisting block rdd_116_7 to disk instead.\n",
      "22/12/16 14:55:04 WARN MemoryStore: Not enough space to cache rdd_116_4 in memory! (computed 34.8 MiB so far)\n",
      "22/12/16 14:55:04 WARN BlockManager: Persisting block rdd_116_4 to disk instead.\n",
      "22/12/16 14:55:04 WARN MemoryStore: Not enough space to cache rdd_116_0 in memory! (computed 34.8 MiB so far)\n",
      "22/12/16 14:55:04 WARN BlockManager: Persisting block rdd_116_0 to disk instead.\n",
      "22/12/16 14:55:05 WARN MemoryStore: Not enough space to cache rdd_116_1 in memory! (computed 53.1 MiB so far)\n",
      "22/12/16 14:55:05 WARN BlockManager: Persisting block rdd_116_1 to disk instead.\n",
      "22/12/16 14:55:05 WARN MemoryStore: Not enough space to cache rdd_116_3 in memory! (computed 53.1 MiB so far)\n",
      "22/12/16 14:55:05 WARN BlockManager: Persisting block rdd_116_3 to disk instead.\n",
      "22/12/16 14:55:07 WARN MemoryStore: Not enough space to cache rdd_116_5 in memory! (computed 119.8 MiB so far)\n",
      "22/12/16 14:55:07 WARN BlockManager: Persisting block rdd_116_5 to disk instead.\n",
      "22/12/16 14:55:07 WARN MemoryStore: Not enough space to cache rdd_116_6 in memory! (computed 119.8 MiB so far)\n",
      "22/12/16 14:55:07 WARN BlockManager: Persisting block rdd_116_6 to disk instead.\n",
      "22/12/16 14:55:07 WARN MemoryStore: Not enough space to cache rdd_116_2 in memory! (computed 119.8 MiB so far)\n",
      "22/12/16 14:55:07 WARN BlockManager: Persisting block rdd_116_2 to disk instead.\n",
      "22/12/16 14:55:17 WARN MemoryStore: Not enough space to cache rdd_116_0 in memory! (computed 13.5 MiB so far)\n",
      "22/12/16 14:55:17 WARN MemoryStore: Not enough space to cache rdd_116_4 in memory! (computed 79.8 MiB so far)\n",
      "22/12/16 14:55:17 WARN MemoryStore: Not enough space to cache rdd_116_3 in memory! (computed 1031.2 KiB so far)\n",
      "22/12/16 14:55:18 WARN MemoryStore: Not enough space to cache rdd_116_7 in memory! (computed 281.1 MiB so far)\n",
      "22/12/16 14:55:18 WARN MemoryStore: Not enough space to cache rdd_116_1 in memory! (computed 13.5 MiB so far)\n",
      "22/12/16 14:55:18 WARN MemoryStore: Not enough space to cache rdd_116_6 in memory! (computed 1031.2 KiB so far)\n",
      "22/12/16 14:55:18 WARN MemoryStore: Not enough space to cache rdd_116_2 in memory! (computed 79.8 MiB so far)\n",
      "22/12/16 14:55:18 WARN MemoryStore: Not enough space to cache rdd_116_5 in memory! (computed 13.5 MiB so far)\n",
      "22/12/16 14:55:20 WARN MemoryStore: Not enough space to cache rdd_116_2 in memory! (computed 34.8 MiB so far)\n",
      "22/12/16 14:55:20 WARN MemoryStore: Not enough space to cache rdd_116_7 in memory! (computed 34.8 MiB so far)\n",
      "22/12/16 14:55:20 WARN MemoryStore: Not enough space to cache rdd_116_3 in memory! (computed 34.8 MiB so far)\n",
      "22/12/16 14:55:20 WARN MemoryStore: Not enough space to cache rdd_116_1 in memory! (computed 53.1 MiB so far)\n",
      "22/12/16 14:55:20 WARN MemoryStore: Not enough space to cache rdd_116_4 in memory! (computed 53.1 MiB so far)\n",
      "22/12/16 14:55:20 WARN MemoryStore: Not enough space to cache rdd_116_6 in memory! (computed 53.1 MiB so far)\n",
      "22/12/16 14:55:20 WARN MemoryStore: Not enough space to cache rdd_116_5 in memory! (computed 53.1 MiB so far)\n",
      "22/12/16 14:55:20 WARN MemoryStore: Not enough space to cache rdd_116_0 in memory! (computed 53.1 MiB so far)\n",
      "22/12/16 14:55:22 WARN MemoryStore: Not enough space to cache rdd_116_7 in memory! (computed 34.8 MiB so far)\n",
      "22/12/16 14:55:22 WARN MemoryStore: Not enough space to cache rdd_116_5 in memory! (computed 34.8 MiB so far)\n",
      "22/12/16 14:55:22 WARN MemoryStore: Not enough space to cache rdd_116_6 in memory! (computed 34.8 MiB so far)\n",
      "22/12/16 14:55:23 WARN MemoryStore: Not enough space to cache rdd_116_0 in memory! (computed 53.1 MiB so far)\n",
      "22/12/16 14:55:23 WARN MemoryStore: Not enough space to cache rdd_116_4 in memory! (computed 53.1 MiB so far)\n",
      "22/12/16 14:55:23 WARN MemoryStore: Not enough space to cache rdd_116_3 in memory! (computed 53.1 MiB so far)\n",
      "22/12/16 14:55:23 WARN MemoryStore: Not enough space to cache rdd_116_1 in memory! (computed 53.1 MiB so far)\n",
      "22/12/16 14:55:23 WARN MemoryStore: Not enough space to cache rdd_116_2 in memory! (computed 53.1 MiB so far)\n",
      "22/12/16 14:55:25 WARN MemoryStore: Not enough space to cache rdd_116_3 in memory! (computed 34.8 MiB so far)\n",
      "22/12/16 14:55:25 WARN MemoryStore: Not enough space to cache rdd_116_1 in memory! (computed 34.8 MiB so far)\n",
      "22/12/16 14:55:25 WARN MemoryStore: Not enough space to cache rdd_116_0 in memory! (computed 34.8 MiB so far)\n",
      "22/12/16 14:55:25 WARN MemoryStore: Not enough space to cache rdd_116_4 in memory! (computed 53.1 MiB so far)\n",
      "22/12/16 14:55:25 WARN MemoryStore: Not enough space to cache rdd_116_6 in memory! (computed 53.1 MiB so far)\n",
      "22/12/16 14:55:25 WARN MemoryStore: Not enough space to cache rdd_116_7 in memory! (computed 53.1 MiB so far)\n",
      "22/12/16 14:55:25 WARN MemoryStore: Not enough space to cache rdd_116_5 in memory! (computed 53.1 MiB so far)\n",
      "22/12/16 14:55:25 WARN MemoryStore: Not enough space to cache rdd_116_2 in memory! (computed 53.1 MiB so far)\n",
      "22/12/16 14:55:28 WARN MemoryStore: Not enough space to cache rdd_116_0 in memory! (computed 34.8 MiB so far)\n",
      "22/12/16 14:55:28 WARN MemoryStore: Not enough space to cache rdd_116_7 in memory! (computed 34.8 MiB so far)\n",
      "22/12/16 14:55:28 WARN MemoryStore: Not enough space to cache rdd_116_2 in memory! (computed 34.8 MiB so far)\n",
      "22/12/16 14:55:28 WARN MemoryStore: Not enough space to cache rdd_116_3 in memory! (computed 53.1 MiB so far)\n",
      "22/12/16 14:55:28 WARN MemoryStore: Not enough space to cache rdd_116_6 in memory! (computed 53.1 MiB so far)\n",
      "22/12/16 14:55:28 WARN MemoryStore: Not enough space to cache rdd_116_5 in memory! (computed 53.1 MiB so far)\n",
      "22/12/16 14:55:28 WARN MemoryStore: Not enough space to cache rdd_116_1 in memory! (computed 53.1 MiB so far)\n",
      "22/12/16 14:55:29 WARN MemoryStore: Not enough space to cache rdd_116_4 in memory! (computed 281.1 MiB so far)\n",
      "22/12/16 14:56:27 WARN MemoryStore: Not enough space to cache rdd_194_4 in memory! (computed 34.0 MiB so far)\n",
      "22/12/16 14:56:27 WARN BlockManager: Persisting block rdd_194_4 to disk instead.\n",
      "22/12/16 14:56:27 WARN MemoryStore: Not enough space to cache rdd_194_7 in memory! (computed 34.0 MiB so far)\n",
      "22/12/16 14:56:27 WARN BlockManager: Persisting block rdd_194_7 to disk instead.\n",
      "22/12/16 14:56:27 WARN MemoryStore: Not enough space to cache rdd_194_0 in memory! (computed 34.0 MiB so far)\n",
      "22/12/16 14:56:27 WARN BlockManager: Persisting block rdd_194_0 to disk instead.\n",
      "22/12/16 14:56:27 WARN MemoryStore: Not enough space to cache rdd_194_1 in memory! (computed 51.8 MiB so far)\n",
      "22/12/16 14:56:27 WARN BlockManager: Persisting block rdd_194_1 to disk instead.\n",
      "22/12/16 14:56:28 WARN MemoryStore: Not enough space to cache rdd_194_5 in memory! (computed 79.1 MiB so far)\n",
      "22/12/16 14:56:28 WARN BlockManager: Persisting block rdd_194_5 to disk instead.\n",
      "22/12/16 14:56:29 WARN MemoryStore: Not enough space to cache rdd_194_2 in memory! (computed 79.1 MiB so far)\n",
      "22/12/16 14:56:29 WARN BlockManager: Persisting block rdd_194_2 to disk instead.\n",
      "22/12/16 14:56:29 WARN MemoryStore: Not enough space to cache rdd_194_3 in memory! (computed 79.1 MiB so far)\n",
      "22/12/16 14:56:29 WARN BlockManager: Persisting block rdd_194_3 to disk instead.\n",
      "22/12/16 14:56:36 WARN MemoryStore: Not enough space to cache rdd_194_6 in memory! (computed 269.8 MiB so far)\n",
      "22/12/16 14:56:36 WARN BlockManager: Persisting block rdd_194_6 to disk instead.\n",
      "22/12/16 14:56:47 WARN MemoryStore: Not enough space to cache rdd_194_7 in memory! (computed 178.4 MiB so far)\n",
      "22/12/16 14:56:47 WARN MemoryStore: Not enough space to cache rdd_194_0 in memory! (computed 14.7 MiB so far)\n",
      "22/12/16 14:56:47 WARN MemoryStore: Not enough space to cache rdd_194_3 in memory! (computed 51.8 MiB so far)\n",
      "22/12/16 14:56:48 WARN MemoryStore: Not enough space to cache rdd_194_4 in memory! (computed 269.8 MiB so far)\n",
      "22/12/16 14:56:48 WARN MemoryStore: Not enough space to cache rdd_194_2 in memory! (computed 79.1 MiB so far)\n",
      "22/12/16 14:56:48 WARN MemoryStore: Not enough space to cache rdd_194_1 in memory! (computed 14.7 MiB so far)\n",
      "22/12/16 14:56:49 WARN MemoryStore: Not enough space to cache rdd_194_6 in memory! (computed 51.8 MiB so far)\n",
      "22/12/16 14:56:50 WARN MemoryStore: Not enough space to cache rdd_194_5 in memory! (computed 269.8 MiB so far)\n",
      "22/12/16 14:56:52 WARN MemoryStore: Not enough space to cache rdd_194_6 in memory! (computed 34.0 MiB so far)\n",
      "22/12/16 14:56:52 WARN MemoryStore: Not enough space to cache rdd_194_4 in memory! (computed 34.0 MiB so far)\n",
      "22/12/16 14:56:52 WARN MemoryStore: Not enough space to cache rdd_194_2 in memory! (computed 51.8 MiB so far)\n",
      "22/12/16 14:56:52 WARN MemoryStore: Not enough space to cache rdd_194_3 in memory! (computed 51.8 MiB so far)\n",
      "22/12/16 14:56:52 WARN MemoryStore: Not enough space to cache rdd_194_0 in memory! (computed 51.8 MiB so far)\n",
      "22/12/16 14:56:52 WARN MemoryStore: Not enough space to cache rdd_194_1 in memory! (computed 34.0 MiB so far)\n",
      "22/12/16 14:56:52 WARN MemoryStore: Not enough space to cache rdd_194_7 in memory! (computed 51.8 MiB so far)\n",
      "22/12/16 14:56:52 WARN MemoryStore: Not enough space to cache rdd_194_5 in memory! (computed 51.8 MiB so far)\n",
      "22/12/16 14:56:55 WARN MemoryStore: Not enough space to cache rdd_194_7 in memory! (computed 34.0 MiB so far)\n",
      "22/12/16 14:56:55 WARN MemoryStore: Not enough space to cache rdd_194_1 in memory! (computed 34.0 MiB so far)\n",
      "22/12/16 14:56:55 WARN MemoryStore: Not enough space to cache rdd_194_0 in memory! (computed 51.8 MiB so far)\n",
      "22/12/16 14:56:55 WARN MemoryStore: Not enough space to cache rdd_194_6 in memory! (computed 51.8 MiB so far)\n",
      "22/12/16 14:56:55 WARN MemoryStore: Not enough space to cache rdd_194_2 in memory! (computed 51.8 MiB so far)\n",
      "22/12/16 14:56:55 WARN MemoryStore: Not enough space to cache rdd_194_4 in memory! (computed 51.8 MiB so far)\n",
      "22/12/16 14:56:55 WARN MemoryStore: Not enough space to cache rdd_194_5 in memory! (computed 51.8 MiB so far)\n",
      "22/12/16 14:56:55 WARN MemoryStore: Not enough space to cache rdd_194_3 in memory! (computed 34.0 MiB so far)\n",
      "22/12/16 14:56:58 WARN MemoryStore: Not enough space to cache rdd_194_5 in memory! (computed 34.0 MiB so far)\n",
      "22/12/16 14:56:58 WARN MemoryStore: Not enough space to cache rdd_194_0 in memory! (computed 34.0 MiB so far)\n",
      "22/12/16 14:56:58 WARN MemoryStore: Not enough space to cache rdd_194_6 in memory! (computed 34.0 MiB so far)\n",
      "22/12/16 14:56:58 WARN MemoryStore: Not enough space to cache rdd_194_4 in memory! (computed 51.8 MiB so far)\n",
      "22/12/16 14:56:58 WARN MemoryStore: Not enough space to cache rdd_194_3 in memory! (computed 51.8 MiB so far)\n",
      "22/12/16 14:56:58 WARN MemoryStore: Not enough space to cache rdd_194_1 in memory! (computed 51.8 MiB so far)\n",
      "22/12/16 14:56:58 WARN MemoryStore: Not enough space to cache rdd_194_7 in memory! (computed 51.8 MiB so far)\n",
      "22/12/16 14:56:58 WARN MemoryStore: Not enough space to cache rdd_194_2 in memory! (computed 51.8 MiB so far)\n",
      "22/12/16 14:57:02 WARN MemoryStore: Not enough space to cache rdd_194_7 in memory! (computed 34.0 MiB so far)\n",
      "22/12/16 14:57:02 WARN MemoryStore: Not enough space to cache rdd_194_4 in memory! (computed 34.0 MiB so far)\n",
      "22/12/16 14:57:02 WARN MemoryStore: Not enough space to cache rdd_194_3 in memory! (computed 34.0 MiB so far)\n",
      "22/12/16 14:57:02 WARN MemoryStore: Not enough space to cache rdd_194_5 in memory! (computed 51.8 MiB so far)\n",
      "22/12/16 14:57:02 WARN MemoryStore: Not enough space to cache rdd_194_1 in memory! (computed 51.8 MiB so far)\n",
      "22/12/16 14:57:02 WARN MemoryStore: Not enough space to cache rdd_194_2 in memory! (computed 51.8 MiB so far)\n",
      "22/12/16 14:57:02 WARN MemoryStore: Not enough space to cache rdd_194_6 in memory! (computed 51.8 MiB so far)\n",
      "22/12/16 14:57:02 WARN MemoryStore: Not enough space to cache rdd_194_0 in memory! (computed 51.8 MiB so far)\n",
      "22/12/16 14:57:57 WARN MemoryStore: Not enough space to cache rdd_272_3 in memory! (computed 34.0 MiB so far)\n",
      "22/12/16 14:57:57 WARN BlockManager: Persisting block rdd_272_3 to disk instead.\n",
      "22/12/16 14:57:57 WARN MemoryStore: Not enough space to cache rdd_272_4 in memory! (computed 34.0 MiB so far)\n",
      "22/12/16 14:57:57 WARN BlockManager: Persisting block rdd_272_4 to disk instead.\n",
      "22/12/16 14:57:57 WARN MemoryStore: Not enough space to cache rdd_272_0 in memory! (computed 34.0 MiB so far)\n",
      "22/12/16 14:57:57 WARN BlockManager: Persisting block rdd_272_0 to disk instead.\n",
      "22/12/16 14:57:58 WARN MemoryStore: Not enough space to cache rdd_272_7 in memory! (computed 52.2 MiB so far)\n",
      "22/12/16 14:57:58 WARN BlockManager: Persisting block rdd_272_7 to disk instead.\n",
      "22/12/16 14:57:59 WARN MemoryStore: Not enough space to cache rdd_272_6 in memory! (computed 78.4 MiB so far)\n",
      "22/12/16 14:57:59 WARN BlockManager: Persisting block rdd_272_6 to disk instead.\n",
      "22/12/16 14:57:59 WARN MemoryStore: Not enough space to cache rdd_272_1 in memory! (computed 78.4 MiB so far)\n",
      "22/12/16 14:57:59 WARN BlockManager: Persisting block rdd_272_1 to disk instead.\n",
      "22/12/16 14:57:59 WARN MemoryStore: Not enough space to cache rdd_272_2 in memory! (computed 78.4 MiB so far)\n",
      "22/12/16 14:57:59 WARN BlockManager: Persisting block rdd_272_2 to disk instead.\n",
      "22/12/16 14:58:04 WARN MemoryStore: Not enough space to cache rdd_272_5 in memory! (computed 277.6 MiB so far)\n",
      "22/12/16 14:58:04 WARN BlockManager: Persisting block rdd_272_5 to disk instead.\n",
      "22/12/16 14:58:22 WARN MemoryStore: Not enough space to cache rdd_272_3 in memory! (computed 14.7 MiB so far)\n",
      "22/12/16 14:58:22 WARN MemoryStore: Not enough space to cache rdd_272_0 in memory! (computed 52.2 MiB so far)\n",
      "22/12/16 14:58:22 WARN MemoryStore: Not enough space to cache rdd_272_7 in memory! (computed 178.6 MiB so far)\n",
      "22/12/16 14:58:22 WARN MemoryStore: Not enough space to cache rdd_272_4 in memory! (computed 117.7 MiB so far)\n",
      "22/12/16 14:58:24 WARN MemoryStore: Not enough space to cache rdd_272_5 in memory! (computed 9.7 MiB so far)\n",
      "22/12/16 14:58:24 WARN MemoryStore: Not enough space to cache rdd_272_1 in memory! (computed 178.6 MiB so far)\n",
      "22/12/16 14:58:25 WARN MemoryStore: Not enough space to cache rdd_272_2 in memory! (computed 178.6 MiB so far)\n",
      "22/12/16 14:58:25 WARN MemoryStore: Not enough space to cache rdd_272_6 in memory! (computed 9.7 MiB so far)\n",
      "22/12/16 14:58:29 WARN MemoryStore: Not enough space to cache rdd_272_7 in memory! (computed 22.1 MiB so far)\n",
      "22/12/16 14:58:29 WARN MemoryStore: Not enough space to cache rdd_272_5 in memory! (computed 34.0 MiB so far)\n",
      "22/12/16 14:58:29 WARN MemoryStore: Not enough space to cache rdd_272_1 in memory! (computed 52.2 MiB so far)\n",
      "22/12/16 14:58:29 WARN MemoryStore: Not enough space to cache rdd_272_6 in memory! (computed 52.2 MiB so far)\n",
      "22/12/16 14:58:29 WARN MemoryStore: Not enough space to cache rdd_272_3 in memory! (computed 52.2 MiB so far)\n",
      "22/12/16 14:58:29 WARN MemoryStore: Not enough space to cache rdd_272_4 in memory! (computed 52.2 MiB so far)\n",
      "22/12/16 14:58:30 WARN MemoryStore: Not enough space to cache rdd_272_2 in memory! (computed 178.6 MiB so far)\n",
      "22/12/16 14:58:30 WARN MemoryStore: Not enough space to cache rdd_272_0 in memory! (computed 178.6 MiB so far)\n",
      "22/12/16 14:58:36 WARN MemoryStore: Not enough space to cache rdd_272_3 in memory! (computed 34.0 MiB so far)\n",
      "22/12/16 14:58:36 WARN MemoryStore: Not enough space to cache rdd_272_1 in memory! (computed 34.0 MiB so far)\n",
      "22/12/16 14:58:37 WARN MemoryStore: Not enough space to cache rdd_272_0 in memory! (computed 34.0 MiB so far)\n",
      "22/12/16 14:58:37 WARN MemoryStore: Not enough space to cache rdd_272_6 in memory! (computed 52.2 MiB so far)\n",
      "22/12/16 14:58:37 WARN MemoryStore: Not enough space to cache rdd_272_2 in memory! (computed 52.2 MiB so far)\n",
      "22/12/16 14:58:37 WARN MemoryStore: Not enough space to cache rdd_272_5 in memory! (computed 52.2 MiB so far)\n",
      "22/12/16 14:58:37 WARN MemoryStore: Not enough space to cache rdd_272_4 in memory! (computed 52.2 MiB so far)\n",
      "22/12/16 14:58:37 WARN MemoryStore: Not enough space to cache rdd_272_7 in memory! (computed 52.2 MiB so far)\n",
      "22/12/16 14:58:44 WARN MemoryStore: Not enough space to cache rdd_272_0 in memory! (computed 34.0 MiB so far)\n",
      "22/12/16 14:58:44 WARN MemoryStore: Not enough space to cache rdd_272_5 in memory! (computed 34.0 MiB so far)\n",
      "22/12/16 14:58:44 WARN MemoryStore: Not enough space to cache rdd_272_1 in memory! (computed 34.0 MiB so far)\n",
      "22/12/16 14:58:44 WARN MemoryStore: Not enough space to cache rdd_272_6 in memory! (computed 52.2 MiB so far)\n",
      "22/12/16 14:58:44 WARN MemoryStore: Not enough space to cache rdd_272_2 in memory! (computed 52.2 MiB so far)\n",
      "22/12/16 14:58:44 WARN MemoryStore: Not enough space to cache rdd_272_7 in memory! (computed 52.2 MiB so far)\n",
      "22/12/16 14:58:44 WARN MemoryStore: Not enough space to cache rdd_272_4 in memory! (computed 52.2 MiB so far)\n",
      "22/12/16 14:58:44 WARN MemoryStore: Not enough space to cache rdd_272_3 in memory! (computed 52.2 MiB so far)\n",
      "22/12/16 14:58:52 WARN MemoryStore: Not enough space to cache rdd_272_2 in memory! (computed 34.0 MiB so far)\n",
      "22/12/16 14:58:52 WARN MemoryStore: Not enough space to cache rdd_272_7 in memory! (computed 34.0 MiB so far)\n",
      "22/12/16 14:58:52 WARN MemoryStore: Not enough space to cache rdd_272_4 in memory! (computed 34.0 MiB so far)\n",
      "22/12/16 14:58:52 WARN MemoryStore: Not enough space to cache rdd_272_0 in memory! (computed 52.2 MiB so far)\n",
      "22/12/16 14:58:52 WARN MemoryStore: Not enough space to cache rdd_272_5 in memory! (computed 52.2 MiB so far)\n",
      "22/12/16 14:58:52 WARN MemoryStore: Not enough space to cache rdd_272_6 in memory! (computed 52.2 MiB so far)\n",
      "22/12/16 14:58:52 WARN MemoryStore: Not enough space to cache rdd_272_3 in memory! (computed 52.2 MiB so far)\n",
      "22/12/16 14:58:53 WARN MemoryStore: Not enough space to cache rdd_272_1 in memory! (computed 277.6 MiB so far)\n",
      "22/12/16 14:59:45 WARN MemoryStore: Not enough space to cache rdd_350_6 in memory! (computed 42.3 MiB so far)\n",
      "22/12/16 14:59:45 WARN BlockManager: Persisting block rdd_350_6 to disk instead.\n",
      "22/12/16 14:59:46 WARN MemoryStore: Not enough space to cache rdd_350_1 in memory! (computed 42.3 MiB so far)\n",
      "22/12/16 14:59:46 WARN BlockManager: Persisting block rdd_350_1 to disk instead.\n",
      "22/12/16 14:59:46 WARN MemoryStore: Not enough space to cache rdd_350_3 in memory! (computed 42.3 MiB so far)\n",
      "22/12/16 14:59:46 WARN BlockManager: Persisting block rdd_350_3 to disk instead.\n",
      "22/12/16 14:59:46 WARN MemoryStore: Not enough space to cache rdd_350_2 in memory! (computed 42.3 MiB so far)\n",
      "22/12/16 14:59:46 WARN BlockManager: Persisting block rdd_350_2 to disk instead.\n",
      "22/12/16 14:59:46 WARN MemoryStore: Not enough space to cache rdd_350_4 in memory! (computed 42.3 MiB so far)\n",
      "22/12/16 14:59:46 WARN BlockManager: Persisting block rdd_350_4 to disk instead.\n",
      "22/12/16 14:59:46 WARN MemoryStore: Not enough space to cache rdd_350_7 in memory! (computed 42.3 MiB so far)\n",
      "22/12/16 14:59:46 WARN BlockManager: Persisting block rdd_350_7 to disk instead.\n",
      "22/12/16 14:59:49 WARN MemoryStore: Not enough space to cache rdd_350_5 in memory! (computed 146.8 MiB so far)\n",
      "22/12/16 14:59:49 WARN BlockManager: Persisting block rdd_350_5 to disk instead.\n",
      "22/12/16 14:59:56 WARN MemoryStore: Not enough space to cache rdd_350_0 in memory! (computed 346.2 MiB so far)\n",
      "22/12/16 14:59:56 WARN BlockManager: Persisting block rdd_350_0 to disk instead.\n",
      "22/12/16 15:00:14 WARN MemoryStore: Not enough space to cache rdd_350_7 in memory! (computed 222.8 MiB so far)\n",
      "22/12/16 15:00:14 WARN MemoryStore: Not enough space to cache rdd_350_4 in memory! (computed 97.8 MiB so far)\n",
      "22/12/16 15:00:14 WARN MemoryStore: Not enough space to cache rdd_350_0 in memory! (computed 18.3 MiB so far)\n",
      "22/12/16 15:00:16 WARN MemoryStore: Not enough space to cache rdd_350_2 in memory! (computed 27.6 MiB so far)\n",
      "22/12/16 15:00:16 WARN MemoryStore: Not enough space to cache rdd_350_1 in memory! (computed 3.4 MiB so far)\n",
      "22/12/16 15:00:16 WARN MemoryStore: Not enough space to cache rdd_350_3 in memory! (computed 346.2 MiB so far)\n",
      "22/12/16 15:00:17 WARN MemoryStore: Not enough space to cache rdd_350_5 in memory! (computed 146.8 MiB so far)\n",
      "22/12/16 15:00:17 WARN MemoryStore: Not enough space to cache rdd_350_6 in memory! (computed 146.8 MiB so far)\n",
      "22/12/16 15:00:20 WARN MemoryStore: Not enough space to cache rdd_350_7 in memory! (computed 42.3 MiB so far)\n",
      "22/12/16 15:00:20 WARN MemoryStore: Not enough space to cache rdd_350_0 in memory! (computed 42.3 MiB so far)\n",
      "22/12/16 15:00:20 WARN MemoryStore: Not enough space to cache rdd_350_1 in memory! (computed 42.3 MiB so far)\n",
      "22/12/16 15:00:20 WARN MemoryStore: Not enough space to cache rdd_350_5 in memory! (computed 42.3 MiB so far)\n",
      "22/12/16 15:00:20 WARN MemoryStore: Not enough space to cache rdd_350_3 in memory! (computed 42.3 MiB so far)\n",
      "22/12/16 15:00:20 WARN MemoryStore: Not enough space to cache rdd_350_2 in memory! (computed 42.3 MiB so far)\n",
      "22/12/16 15:00:20 WARN MemoryStore: Not enough space to cache rdd_350_4 in memory! (computed 42.3 MiB so far)\n",
      "22/12/16 15:00:22 WARN MemoryStore: Not enough space to cache rdd_350_6 in memory! (computed 346.2 MiB so far)\n",
      "22/12/16 15:00:25 WARN MemoryStore: Not enough space to cache rdd_350_3 in memory! (computed 42.3 MiB so far)\n",
      "22/12/16 15:00:25 WARN MemoryStore: Not enough space to cache rdd_350_7 in memory! (computed 42.3 MiB so far)\n",
      "22/12/16 15:00:25 WARN MemoryStore: Not enough space to cache rdd_350_0 in memory! (computed 42.3 MiB so far)\n",
      "22/12/16 15:00:25 WARN MemoryStore: Not enough space to cache rdd_350_1 in memory! (computed 42.3 MiB so far)\n",
      "22/12/16 15:00:25 WARN MemoryStore: Not enough space to cache rdd_350_5 in memory! (computed 42.3 MiB so far)\n",
      "22/12/16 15:00:25 WARN MemoryStore: Not enough space to cache rdd_350_4 in memory! (computed 42.3 MiB so far)\n",
      "22/12/16 15:00:25 WARN MemoryStore: Not enough space to cache rdd_350_2 in memory! (computed 42.3 MiB so far)\n",
      "22/12/16 15:00:27 WARN MemoryStore: Not enough space to cache rdd_350_6 in memory! (computed 346.2 MiB so far)\n",
      "22/12/16 15:00:31 WARN MemoryStore: Not enough space to cache rdd_350_6 in memory! (computed 42.3 MiB so far)\n",
      "22/12/16 15:00:31 WARN MemoryStore: Not enough space to cache rdd_350_0 in memory! (computed 42.3 MiB so far)\n",
      "22/12/16 15:00:31 WARN MemoryStore: Not enough space to cache rdd_350_3 in memory! (computed 42.3 MiB so far)\n",
      "22/12/16 15:00:31 WARN MemoryStore: Not enough space to cache rdd_350_7 in memory! (computed 42.3 MiB so far)\n",
      "22/12/16 15:00:31 WARN MemoryStore: Not enough space to cache rdd_350_1 in memory! (computed 42.3 MiB so far)\n",
      "22/12/16 15:00:31 WARN MemoryStore: Not enough space to cache rdd_350_5 in memory! (computed 42.3 MiB so far)\n",
      "22/12/16 15:00:31 WARN MemoryStore: Not enough space to cache rdd_350_4 in memory! (computed 42.3 MiB so far)\n",
      "22/12/16 15:00:32 WARN MemoryStore: Not enough space to cache rdd_350_2 in memory! (computed 346.2 MiB so far)\n",
      "22/12/16 15:00:37 WARN MemoryStore: Not enough space to cache rdd_350_2 in memory! (computed 42.3 MiB so far)\n",
      "22/12/16 15:00:37 WARN MemoryStore: Not enough space to cache rdd_350_7 in memory! (computed 42.3 MiB so far)\n",
      "22/12/16 15:00:37 WARN MemoryStore: Not enough space to cache rdd_350_4 in memory! (computed 42.3 MiB so far)\n",
      "22/12/16 15:00:37 WARN MemoryStore: Not enough space to cache rdd_350_0 in memory! (computed 42.3 MiB so far)\n",
      "22/12/16 15:00:37 WARN MemoryStore: Not enough space to cache rdd_350_3 in memory! (computed 42.3 MiB so far)\n",
      "22/12/16 15:00:37 WARN MemoryStore: Not enough space to cache rdd_350_1 in memory! (computed 42.3 MiB so far)\n",
      "22/12/16 15:00:37 WARN MemoryStore: Not enough space to cache rdd_350_5 in memory! (computed 42.3 MiB so far)\n",
      "22/12/16 15:00:37 WARN MemoryStore: Not enough space to cache rdd_350_6 in memory! (computed 65.1 MiB so far)\n",
      "22/12/16 15:01:33 WARN MemoryStore: Not enough space to cache rdd_428_3 in memory! (computed 39.8 MiB so far)\n",
      "22/12/16 15:01:33 WARN BlockManager: Persisting block rdd_428_3 to disk instead.\n",
      "22/12/16 15:01:33 WARN MemoryStore: Not enough space to cache rdd_428_4 in memory! (computed 39.8 MiB so far)\n",
      "22/12/16 15:01:33 WARN MemoryStore: Not enough space to cache rdd_428_1 in memory! (computed 39.8 MiB so far)\n",
      "22/12/16 15:01:33 WARN BlockManager: Persisting block rdd_428_4 to disk instead.\n",
      "22/12/16 15:01:33 WARN BlockManager: Persisting block rdd_428_1 to disk instead.\n",
      "22/12/16 15:01:33 WARN MemoryStore: Not enough space to cache rdd_428_2 in memory! (computed 39.8 MiB so far)\n",
      "22/12/16 15:01:33 WARN BlockManager: Persisting block rdd_428_2 to disk instead.\n",
      "22/12/16 15:01:33 WARN MemoryStore: Not enough space to cache rdd_428_7 in memory! (computed 39.8 MiB so far)\n",
      "22/12/16 15:01:33 WARN BlockManager: Persisting block rdd_428_7 to disk instead.\n",
      "22/12/16 15:01:33 WARN MemoryStore: Not enough space to cache rdd_428_0 in memory! (computed 39.8 MiB so far)\n",
      "22/12/16 15:01:33 WARN BlockManager: Persisting block rdd_428_0 to disk instead.\n",
      "22/12/16 15:01:36 WARN MemoryStore: Not enough space to cache rdd_428_5 in memory! (computed 157.0 MiB so far)\n",
      "22/12/16 15:01:36 WARN MemoryStore: Not enough space to cache rdd_428_6 in memory! (computed 157.0 MiB so far)\n",
      "22/12/16 15:01:36 WARN BlockManager: Persisting block rdd_428_5 to disk instead.\n",
      "22/12/16 15:01:36 WARN BlockManager: Persisting block rdd_428_6 to disk instead.\n",
      "22/12/16 15:02:07 WARN MemoryStore: Not enough space to cache rdd_428_7 in memory! (computed 157.0 MiB so far)\n",
      "22/12/16 15:02:07 WARN MemoryStore: Not enough space to cache rdd_428_4 in memory! (computed 157.0 MiB so far)\n",
      "22/12/16 15:02:08 WARN MemoryStore: Not enough space to cache rdd_428_3 in memory! (computed 102.7 MiB so far)\n",
      "22/12/16 15:02:08 WARN MemoryStore: Not enough space to cache rdd_428_0 in memory! (computed 236.0 MiB so far)\n",
      "22/12/16 15:02:10 WARN MemoryStore: Not enough space to cache rdd_428_1 in memory! (computed 102.7 MiB so far)\n",
      "22/12/16 15:02:10 WARN MemoryStore: Failed to reserve initial memory threshold of 1024.0 KiB for computing block rdd_428_5 in memory.\n",
      "22/12/16 15:02:10 WARN MemoryStore: Not enough space to cache rdd_428_5 in memory! (computed 384.0 B so far)\n",
      "22/12/16 15:02:10 WARN MemoryStore: Not enough space to cache rdd_428_6 in memory! (computed 11.3 MiB so far)\n",
      "22/12/16 15:02:10 WARN MemoryStore: Not enough space to cache rdd_428_2 in memory! (computed 354.2 MiB so far)\n",
      "22/12/16 15:02:15 WARN MemoryStore: Not enough space to cache rdd_428_1 in memory! (computed 39.8 MiB so far)\n",
      "22/12/16 15:02:15 WARN MemoryStore: Not enough space to cache rdd_428_4 in memory! (computed 39.8 MiB so far)\n",
      "22/12/16 15:02:15 WARN MemoryStore: Not enough space to cache rdd_428_6 in memory! (computed 39.8 MiB so far)\n",
      "22/12/16 15:02:15 WARN MemoryStore: Not enough space to cache rdd_428_0 in memory! (computed 39.8 MiB so far)\n",
      "22/12/16 15:02:15 WARN MemoryStore: Not enough space to cache rdd_428_3 in memory! (computed 39.8 MiB so far)\n",
      "22/12/16 15:02:15 WARN MemoryStore: Not enough space to cache rdd_428_2 in memory! (computed 39.8 MiB so far)\n",
      "22/12/16 15:02:15 WARN MemoryStore: Not enough space to cache rdd_428_5 in memory! (computed 157.0 MiB so far)\n",
      "22/12/16 15:02:15 WARN MemoryStore: Not enough space to cache rdd_428_7 in memory! (computed 157.0 MiB so far)\n",
      "22/12/16 15:02:20 WARN MemoryStore: Not enough space to cache rdd_428_6 in memory! (computed 39.8 MiB so far)\n",
      "22/12/16 15:02:20 WARN MemoryStore: Not enough space to cache rdd_428_2 in memory! (computed 39.8 MiB so far)\n",
      "22/12/16 15:02:20 WARN MemoryStore: Not enough space to cache rdd_428_0 in memory! (computed 39.8 MiB so far)\n",
      "22/12/16 15:02:20 WARN MemoryStore: Not enough space to cache rdd_428_7 in memory! (computed 39.8 MiB so far)\n",
      "22/12/16 15:02:20 WARN MemoryStore: Not enough space to cache rdd_428_5 in memory! (computed 39.8 MiB so far)\n",
      "22/12/16 15:02:20 WARN MemoryStore: Not enough space to cache rdd_428_1 in memory! (computed 39.8 MiB so far)\n",
      "22/12/16 15:02:20 WARN MemoryStore: Not enough space to cache rdd_428_4 in memory! (computed 60.0 MiB so far)\n",
      "22/12/16 15:02:21 WARN MemoryStore: Not enough space to cache rdd_428_3 in memory! (computed 354.2 MiB so far)\n",
      "22/12/16 15:02:26 WARN MemoryStore: Not enough space to cache rdd_428_2 in memory! (computed 39.8 MiB so far)\n",
      "22/12/16 15:02:26 WARN MemoryStore: Not enough space to cache rdd_428_4 in memory! (computed 39.8 MiB so far)\n",
      "22/12/16 15:02:26 WARN MemoryStore: Not enough space to cache rdd_428_5 in memory! (computed 39.8 MiB so far)\n",
      "22/12/16 15:02:26 WARN MemoryStore: Not enough space to cache rdd_428_1 in memory! (computed 39.8 MiB so far)\n",
      "22/12/16 15:02:26 WARN MemoryStore: Not enough space to cache rdd_428_6 in memory! (computed 39.8 MiB so far)\n",
      "22/12/16 15:02:26 WARN MemoryStore: Not enough space to cache rdd_428_7 in memory! (computed 39.8 MiB so far)\n",
      "22/12/16 15:02:26 WARN MemoryStore: Not enough space to cache rdd_428_3 in memory! (computed 157.0 MiB so far)\n",
      "22/12/16 15:02:26 WARN MemoryStore: Not enough space to cache rdd_428_0 in memory! (computed 157.0 MiB so far)\n",
      "22/12/16 15:02:32 WARN MemoryStore: Not enough space to cache rdd_428_6 in memory! (computed 39.8 MiB so far)\n",
      "22/12/16 15:02:32 WARN MemoryStore: Not enough space to cache rdd_428_4 in memory! (computed 39.8 MiB so far)\n",
      "22/12/16 15:02:32 WARN MemoryStore: Not enough space to cache rdd_428_5 in memory! (computed 39.8 MiB so far)\n",
      "22/12/16 15:02:32 WARN MemoryStore: Not enough space to cache rdd_428_3 in memory! (computed 39.8 MiB so far)\n",
      "22/12/16 15:02:32 WARN MemoryStore: Not enough space to cache rdd_428_2 in memory! (computed 39.8 MiB so far)\n",
      "22/12/16 15:02:32 WARN MemoryStore: Not enough space to cache rdd_428_1 in memory! (computed 39.8 MiB so far)\n",
      "22/12/16 15:02:32 WARN MemoryStore: Not enough space to cache rdd_428_7 in memory! (computed 60.0 MiB so far)\n",
      "22/12/16 15:02:33 WARN MemoryStore: Not enough space to cache rdd_428_0 in memory! (computed 354.2 MiB so far)\n",
      "                                                                                \r"
     ]
    }
   ],
   "source": [
    "schema_results = StructType([ \\\n",
    "    StructField(\"FeatureLength\",IntegerType(),True), \\\n",
    "    StructField(\"Accuracy\", StringType(), True)\\\n",
    "  ])\n",
    "\n",
    "df_results_full = spark.createDataFrame(data=[(None,None)], schema=schema_results)\n",
    "\n",
    "reg_tokenizer = RegexTokenizer(inputCol='Document', outputCol='Tokens', pattern='\\\\W')\n",
    "stop_word_remover = StopWordsRemover(inputCol='Tokens', outputCol='StopTokens')\n",
    "string_indexer = StringIndexer(inputCol='Label', outputCol='LabelString')\n",
    "rf = RandomForestClassifier(featuresCol='TF-IDF', labelCol='LabelString')\n",
    "evaluator = MulticlassClassificationEvaluator(labelCol='LabelString')\n",
    "\n",
    "for numFeatures in range(2000,6001,1000):\n",
    "    tf = HashingTF(inputCol='StopTokens', outputCol='CountVec', numFeatures=numFeatures)\n",
    "    idf = IDF(inputCol='CountVec', outputCol='TF-IDF')\n",
    "\n",
    "    # Putting pipeline together\n",
    "    pipeline = Pipeline(stages=[\n",
    "        reg_tokenizer,\n",
    "        stop_word_remover,\n",
    "        tf,\n",
    "        idf,\n",
    "        string_indexer,\n",
    "    ])\n",
    "\n",
    "    # Training and fitting\n",
    "    pipeline = pipeline.fit(df)\n",
    "    df_processed = pipeline.transform(df)\n",
    "\n",
    "    df_train = df_processed.filter('Set == \"Train\"').select('Document', 'TF-IDF', 'LabelString')\n",
    "    df_test = df_processed.filter('Set == \"Test\"').select('Document', 'TF-IDF', 'LabelString')\n",
    "\n",
    "    rfModel = rf.fit(df_train)\n",
    "    predictions = rfModel.transform(df_test)\n",
    "\n",
    "    accuracy = evaluator.evaluate(predictions)\n",
    "\n",
    "    vals = [(numFeatures, accuracy)]\n",
    "    new_row = spark.createDataFrame(data=vals, schema=schema_results)\n",
    "    df_results_full = df_results_full.union(new_row)\n"
   ]
  },
  {
   "cell_type": "code",
   "execution_count": 12,
   "id": "d9ffade0",
   "metadata": {},
   "outputs": [
    {
     "name": "stderr",
     "output_type": "stream",
     "text": [
      "                                                                                \r"
     ]
    },
    {
     "name": "stdout",
     "output_type": "stream",
     "text": [
      "+-------------+-------------------+\n",
      "|FeatureLength|           Accuracy|\n",
      "+-------------+-------------------+\n",
      "|         null|               null|\n",
      "|         2000|0.35734544120171197|\n",
      "|         3000| 0.3741715418500487|\n",
      "|         4000| 0.3655116795480998|\n",
      "|         5000|0.36190512938439723|\n",
      "|         6000|0.38779613624007353|\n",
      "+-------------+-------------------+\n",
      "\n"
     ]
    }
   ],
   "source": [
    "df_results_full.show()"
   ]
  },
  {
   "cell_type": "code",
   "execution_count": 14,
   "id": "408f4f52",
   "metadata": {},
   "outputs": [
    {
     "name": "stderr",
     "output_type": "stream",
     "text": [
      "                                                                                \r"
     ]
    }
   ],
   "source": [
    "df_results_full.write.csv('../results/random_forest')"
   ]
  },
  {
   "cell_type": "code",
   "execution_count": 15,
   "id": "a0d269dd",
   "metadata": {},
   "outputs": [
    {
     "name": "stderr",
     "output_type": "stream",
     "text": [
      "                                                                                \r"
     ]
    }
   ],
   "source": [
    "tsne_df = df_processed.select('TF-IDF', 'LabelString').toPandas()"
   ]
  },
  {
   "cell_type": "markdown",
   "id": "a2be2d92",
   "metadata": {},
   "source": [
    "### Evaluating results\n",
    "\n",
    "We saw that increasing the size of tf-idf vector continues to increase the accuracy of the model up to the upper limit we set, but the results with random forest are less than that of the linear SVM at this classification task."
   ]
  },
  {
   "cell_type": "code",
   "execution_count": 16,
   "id": "d6e50aed",
   "metadata": {},
   "outputs": [],
   "source": [
    "# Plot results in lineplot\n",
    "import pandas as pd\n",
    "import matplotlib.pyplot as plt\n",
    "import seaborn as sns"
   ]
  },
  {
   "cell_type": "code",
   "execution_count": 17,
   "id": "57a2387c",
   "metadata": {},
   "outputs": [
    {
     "data": {
      "text/html": [
       "<div>\n",
       "<style scoped>\n",
       "    .dataframe tbody tr th:only-of-type {\n",
       "        vertical-align: middle;\n",
       "    }\n",
       "\n",
       "    .dataframe tbody tr th {\n",
       "        vertical-align: top;\n",
       "    }\n",
       "\n",
       "    .dataframe thead th {\n",
       "        text-align: right;\n",
       "    }\n",
       "</style>\n",
       "<table border=\"1\" class=\"dataframe\">\n",
       "  <thead>\n",
       "    <tr style=\"text-align: right;\">\n",
       "      <th></th>\n",
       "      <th>FeatureLength</th>\n",
       "      <th>Accuracy</th>\n",
       "    </tr>\n",
       "  </thead>\n",
       "  <tbody>\n",
       "    <tr>\n",
       "      <th>1</th>\n",
       "      <td>2000.0</td>\n",
       "      <td>0.35734544120171197</td>\n",
       "    </tr>\n",
       "    <tr>\n",
       "      <th>2</th>\n",
       "      <td>3000.0</td>\n",
       "      <td>0.3741715418500487</td>\n",
       "    </tr>\n",
       "    <tr>\n",
       "      <th>3</th>\n",
       "      <td>4000.0</td>\n",
       "      <td>0.3655116795480998</td>\n",
       "    </tr>\n",
       "    <tr>\n",
       "      <th>4</th>\n",
       "      <td>5000.0</td>\n",
       "      <td>0.36190512938439723</td>\n",
       "    </tr>\n",
       "    <tr>\n",
       "      <th>5</th>\n",
       "      <td>6000.0</td>\n",
       "      <td>0.38779613624007353</td>\n",
       "    </tr>\n",
       "  </tbody>\n",
       "</table>\n",
       "</div>"
      ],
      "text/plain": [
       "   FeatureLength             Accuracy\n",
       "1         2000.0  0.35734544120171197\n",
       "2         3000.0   0.3741715418500487\n",
       "3         4000.0   0.3655116795480998\n",
       "4         5000.0  0.36190512938439723\n",
       "5         6000.0  0.38779613624007353"
      ]
     },
     "execution_count": 17,
     "metadata": {},
     "output_type": "execute_result"
    }
   ],
   "source": [
    "df_rf = df_results_full.toPandas().iloc[1:, :]\n",
    "df_rf"
   ]
  },
  {
   "cell_type": "code",
   "execution_count": 18,
   "id": "870cb21d",
   "metadata": {},
   "outputs": [],
   "source": [
    "df_rf['Accuracy'] = df_rf['Accuracy'].astype(float)"
   ]
  },
  {
   "cell_type": "code",
   "execution_count": 30,
   "id": "862de1ea",
   "metadata": {},
   "outputs": [
    {
     "data": {
      "image/png": "[encoded data removed]",
      "text/plain": [
       "<Figure size 700x400 with 1 Axes>"
      ]
     },
     "metadata": {},
     "output_type": "display_data"
    }
   ],
   "source": [
    "sns.set_style('whitegrid')\n",
    "\n",
    "plt.figure(figsize=(7, 4))\n",
    "sns.lineplot(x='FeatureLength', y='Accuracy', data=df_rf, markers=True, dashes=False, marker=\"o\", color='black')\n",
    "plt.show()"
   ]
  },
  {
   "cell_type": "code",
   "execution_count": 31,
   "id": "21a0ce76",
   "metadata": {},
   "outputs": [
    {
     "name": "stdout",
     "output_type": "stream",
     "text": [
      "+--------------------+--------------------+-----------+--------------------+--------------------+----------+\n",
      "|            Document|              TF-IDF|LabelString|       rawPrediction|         probability|prediction|\n",
      "+--------------------+--------------------+-----------+--------------------+--------------------+----------+\n",
      "|do you think i sh...|(6000,[248,270,33...|        2.0|[2.42061859264531...|[0.12103092963226...|       7.0|\n",
      "|any ideas on quit...|(6000,[335,540,56...|        2.0|[1.97808017203919...|[0.09890400860195...|       2.0|\n",
      "|can you guess thi...|(6000,[2281,2535,...|        3.0|[2.04952832155116...|[0.10247641607755...|       1.0|\n",
      "|Do u believe in g...|(6000,[234,533,10...|        0.0|[1.95395420711933...|[0.09769771035596...|       4.0|\n",
      "|what hapeend to t...|(6000,[432,2278,2...|        8.0|[2.05819707930117...|[0.10290985396505...|       6.0|\n",
      "+--------------------+--------------------+-----------+--------------------+--------------------+----------+\n",
      "only showing top 5 rows\n",
      "\n"
     ]
    },
    {
     "name": "stderr",
     "output_type": "stream",
     "text": [
      "                                                                                \r"
     ]
    }
   ],
   "source": [
    "predictions.show(5)"
   ]
  },
  {
   "cell_type": "code",
   "execution_count": 32,
   "id": "e72f4289",
   "metadata": {},
   "outputs": [
    {
     "name": "stderr",
     "output_type": "stream",
     "text": [
      "                                                                                \r"
     ]
    }
   ],
   "source": [
    "incorrect_pred = predictions.filter(col('LabelString') != col('prediction')).select('Document', 'LabelString', 'prediction').toPandas()\n",
    "correct_pred = predictions.filter(col('LabelString') == col('prediction')).select('Document', 'LabelString', 'prediction').toPandas()\n"
   ]
  },
  {
   "cell_type": "code",
   "execution_count": 33,
   "id": "4c7a4800",
   "metadata": {},
   "outputs": [
    {
     "data": {
      "text/html": [
       "<div>\n",
       "<style scoped>\n",
       "    .dataframe tbody tr th:only-of-type {\n",
       "        vertical-align: middle;\n",
       "    }\n",
       "\n",
       "    .dataframe tbody tr th {\n",
       "        vertical-align: top;\n",
       "    }\n",
       "\n",
       "    .dataframe thead th {\n",
       "        text-align: right;\n",
       "    }\n",
       "</style>\n",
       "<table border=\"1\" class=\"dataframe\">\n",
       "  <thead>\n",
       "    <tr style=\"text-align: right;\">\n",
       "      <th></th>\n",
       "      <th>Document</th>\n",
       "      <th>LabelString</th>\n",
       "      <th>prediction</th>\n",
       "    </tr>\n",
       "  </thead>\n",
       "  <tbody>\n",
       "    <tr>\n",
       "      <th>1917</th>\n",
       "      <td>Anyone know about boxing?K, so I'm getting rea...</td>\n",
       "      <td>8.0</td>\n",
       "      <td>7.0</td>\n",
       "    </tr>\n",
       "    <tr>\n",
       "      <th>685</th>\n",
       "      <td>How can I get my programs (like Photoshop or I...</td>\n",
       "      <td>5.0</td>\n",
       "      <td>2.0</td>\n",
       "    </tr>\n",
       "    <tr>\n",
       "      <th>1685</th>\n",
       "      <td>What are some political issues that affect you...</td>\n",
       "      <td>9.0</td>\n",
       "      <td>1.0</td>\n",
       "    </tr>\n",
       "    <tr>\n",
       "      <th>288</th>\n",
       "      <td>Do women think much about sleeping with there ...</td>\n",
       "      <td>7.0</td>\n",
       "      <td>1.0</td>\n",
       "    </tr>\n",
       "    <tr>\n",
       "      <th>2403</th>\n",
       "      <td>Why is the Wii called Wii? Its such an ugly na...</td>\n",
       "      <td>3.0</td>\n",
       "      <td>1.0</td>\n",
       "    </tr>\n",
       "  </tbody>\n",
       "</table>\n",
       "</div>"
      ],
      "text/plain": [
       "                                               Document  LabelString  \\\n",
       "1917  Anyone know about boxing?K, so I'm getting rea...          8.0   \n",
       "685   How can I get my programs (like Photoshop or I...          5.0   \n",
       "1685  What are some political issues that affect you...          9.0   \n",
       "288   Do women think much about sleeping with there ...          7.0   \n",
       "2403  Why is the Wii called Wii? Its such an ugly na...          3.0   \n",
       "\n",
       "      prediction  \n",
       "1917         7.0  \n",
       "685          2.0  \n",
       "1685         1.0  \n",
       "288          1.0  \n",
       "2403         1.0  "
      ]
     },
     "execution_count": 33,
     "metadata": {},
     "output_type": "execute_result"
    }
   ],
   "source": [
    "incorrect_pred.sample(5, random_state=1)"
   ]
  },
  {
   "cell_type": "code",
   "execution_count": 34,
   "id": "cf728ed8",
   "metadata": {},
   "outputs": [
    {
     "data": {
      "text/html": [
       "<div>\n",
       "<style scoped>\n",
       "    .dataframe tbody tr th:only-of-type {\n",
       "        vertical-align: middle;\n",
       "    }\n",
       "\n",
       "    .dataframe tbody tr th {\n",
       "        vertical-align: top;\n",
       "    }\n",
       "\n",
       "    .dataframe thead th {\n",
       "        text-align: right;\n",
       "    }\n",
       "</style>\n",
       "<table border=\"1\" class=\"dataframe\">\n",
       "  <thead>\n",
       "    <tr style=\"text-align: right;\">\n",
       "      <th></th>\n",
       "      <th>Document</th>\n",
       "      <th>LabelString</th>\n",
       "      <th>prediction</th>\n",
       "    </tr>\n",
       "  </thead>\n",
       "  <tbody>\n",
       "    <tr>\n",
       "      <th>1300</th>\n",
       "      <td>\"who and what is this song called?  \"\"I will n...</td>\n",
       "      <td>3.0</td>\n",
       "      <td>3.0</td>\n",
       "    </tr>\n",
       "    <tr>\n",
       "      <th>2856</th>\n",
       "      <td>could anyone tell me what a complete volume of...</td>\n",
       "      <td>1.0</td>\n",
       "      <td>1.0</td>\n",
       "    </tr>\n",
       "    <tr>\n",
       "      <th>554</th>\n",
       "      <td>Has anyone on here had Pectus Excavatum? Or kn...</td>\n",
       "      <td>2.0</td>\n",
       "      <td>2.0</td>\n",
       "    </tr>\n",
       "    <tr>\n",
       "      <th>3954</th>\n",
       "      <td>do males or female have a better sense of smel...</td>\n",
       "      <td>6.0</td>\n",
       "      <td>6.0</td>\n",
       "    </tr>\n",
       "    <tr>\n",
       "      <th>5519</th>\n",
       "      <td>Who's gonna win this Sat Night UFC Matt Serra ...</td>\n",
       "      <td>8.0</td>\n",
       "      <td>8.0</td>\n",
       "    </tr>\n",
       "  </tbody>\n",
       "</table>\n",
       "</div>"
      ],
      "text/plain": [
       "                                               Document  LabelString  \\\n",
       "1300  \"who and what is this song called?  \"\"I will n...          3.0   \n",
       "2856  could anyone tell me what a complete volume of...          1.0   \n",
       "554   Has anyone on here had Pectus Excavatum? Or kn...          2.0   \n",
       "3954  do males or female have a better sense of smel...          6.0   \n",
       "5519  Who's gonna win this Sat Night UFC Matt Serra ...          8.0   \n",
       "\n",
       "      prediction  \n",
       "1300         3.0  \n",
       "2856         1.0  \n",
       "554          2.0  \n",
       "3954         6.0  \n",
       "5519         8.0  "
      ]
     },
     "execution_count": 34,
     "metadata": {},
     "output_type": "execute_result"
    }
   ],
   "source": [
    "correct_pred.sample(5, random_state=1)"
   ]
  }
 ],
 "metadata": {
  "kernelspec": {
   "display_name": "Python 3 (ipykernel)",
   "language": "python",
   "name": "python3"
  },
  "language_info": {
   "codemirror_mode": {
    "name": "ipython",
    "version": 3
   },
   "file_extension": ".py",
   "mimetype": "text/x-python",
   "name": "python",
   "nbconvert_exporter": "python",
   "pygments_lexer": "ipython3",
   "version": "3.8.15"
  },
  "vscode": {
   "interpreter": {
    "hash": "8a1524db6d30cecd9499819b2838fc928f01903195772e5788511080a339eb2f"
   }
  }
 },
 "nbformat": 4,
 "nbformat_minor": 5
}
