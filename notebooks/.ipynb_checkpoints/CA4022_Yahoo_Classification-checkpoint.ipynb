{
 "cells": [
  {
   "cell_type": "markdown",
   "id": "7ee38ba4-dc13-46b7-8f50-94f88b69dc52",
   "metadata": {},
   "source": [
    "# Yahoo Topic Classification"
   ]
  },
  {
   "cell_type": "markdown",
   "id": "0ff719a6-166a-41bb-acf3-8be5d0f2409c",
   "metadata": {
    "execution": {
     "iopub.execute_input": "2022-11-24T10:38:08.745184Z",
     "iopub.status.busy": "2022-11-24T10:38:08.743460Z",
     "iopub.status.idle": "2022-11-24T10:38:09.328424Z",
     "shell.execute_reply": "2022-11-24T10:38:09.325422Z",
     "shell.execute_reply.started": "2022-11-24T10:38:08.744184Z"
    },
    "tags": []
   },
   "source": [
    "## Import Libraries"
   ]
  },
  {
   "cell_type": "code",
   "execution_count": 1,
   "id": "cbb9a2b7-d4ec-4caf-bf1a-770986bfe332",
   "metadata": {
    "execution": {
     "iopub.execute_input": "2022-11-24T16:23:02.292305Z",
     "iopub.status.busy": "2022-11-24T16:23:02.292305Z",
     "iopub.status.idle": "2022-11-24T16:23:04.140981Z",
     "shell.execute_reply": "2022-11-24T16:23:04.139396Z",
     "shell.execute_reply.started": "2022-11-24T16:23:02.292305Z"
    },
    "tags": []
   },
   "outputs": [],
   "source": [
    "# Basic\n",
    "import pandas as pd\n",
    "import numpy as np\n",
    "import findspark\n",
    "import pyspark\n",
    "from pyspark import SparkFiles\n",
    "from pyspark.sql import SparkSession"
   ]
  },
  {
   "cell_type": "code",
   "execution_count": 2,
   "id": "79ac2de3-468f-403d-af60-dacbb291eadc",
   "metadata": {
    "execution": {
     "iopub.execute_input": "2022-11-24T16:23:04.145295Z",
     "iopub.status.busy": "2022-11-24T16:23:04.143625Z",
     "iopub.status.idle": "2022-11-24T16:23:04.177585Z",
     "shell.execute_reply": "2022-11-24T16:23:04.176458Z",
     "shell.execute_reply.started": "2022-11-24T16:23:04.145295Z"
    },
    "tags": []
   },
   "outputs": [
    {
     "data": {
      "text/plain": [
       "'C:\\\\Users\\\\joluw\\\\anaconda3\\\\envs\\\\yahoo\\\\lib\\\\site-packages\\\\pyspark'"
      ]
     },
     "execution_count": 2,
     "metadata": {},
     "output_type": "execute_result"
    }
   ],
   "source": [
    "findspark.init()\n",
    "findspark.find()"
   ]
  },
  {
   "cell_type": "code",
   "execution_count": 3,
   "id": "c4b71490-54c7-4673-9b76-c01ec64d39ac",
   "metadata": {
    "execution": {
     "iopub.execute_input": "2022-11-24T16:23:06.290843Z",
     "iopub.status.busy": "2022-11-24T16:23:06.290843Z",
     "iopub.status.idle": "2022-11-24T16:23:11.335195Z",
     "shell.execute_reply": "2022-11-24T16:23:11.335195Z",
     "shell.execute_reply.started": "2022-11-24T16:23:06.290843Z"
    },
    "tags": []
   },
   "outputs": [],
   "source": [
    "spark = SparkSession.builder.appName('SparkByExamples.com').getOrCreate()"
   ]
  },
  {
   "cell_type": "code",
   "execution_count": 4,
   "id": "344c7d10-4a59-4b98-97af-42de93eaf431",
   "metadata": {
    "execution": {
     "iopub.execute_input": "2022-11-24T16:23:12.992198Z",
     "iopub.status.busy": "2022-11-24T16:23:12.992198Z",
     "iopub.status.idle": "2022-11-24T16:23:57.420135Z",
     "shell.execute_reply": "2022-11-24T16:23:57.415820Z",
     "shell.execute_reply.started": "2022-11-24T16:23:12.992198Z"
    },
    "tags": []
   },
   "outputs": [
    {
     "name": "stdout",
     "output_type": "stream",
     "text": [
      "(5, I am not a spam, I promise!!!) --> prob=[0.6521807620658057,0.34781923793419434], prediction=0.000000\n",
      "(6, Spark can work on top of hadoop or standalone) --> prob=[0.9905976606387534,0.00940233936124657], prediction=0.000000\n",
      "(7, New release available for Spark on DataSets) --> prob=[0.8734689599280426,0.12653104007195737], prediction=0.000000\n"
     ]
    }
   ],
   "source": [
    "from pyspark.ml import Pipeline\n",
    "from pyspark.ml.classification import LogisticRegression\n",
    "from pyspark.ml.feature import HashingTF, Tokenizer\n",
    "\n",
    "from pyspark.sql import SparkSession\n",
    "\n",
    "if __name__ == \"__main__\":\n",
    "    spark = SparkSession\\\n",
    "        .builder\\\n",
    "        .appName(\"PipelineExample\")\\\n",
    "        .getOrCreate()\n",
    "\n",
    "# Prepare training documents from a list of (id, text, label) tuples, where label ham=0/spam=1\n",
    "training = spark.createDataFrame([\n",
    "    (0, \"Meetup Spark user group Dublin\", 0.0),\n",
    "    (1, \"Quick Loans availuble!\", 1.0),\n",
    "    (2, \"New: The 20 pounds-per-day diet. Must try.\", 1.0),\n",
    "    (3, \"hadoop mapreduce\", 0.0),\n",
    "    (4, \"GET YOUR UUNIVERSITY DEGREE IN DATA ANALYSTICS. IN JUST 1 DAY\", 1.0)\n",
    "], [\"id\", \"text\", \"label\"])\n",
    "\n",
    "# Configure an ML pipeline, which consists of three stages: tokenizer, hashingTF, and lr.\n",
    "tokenizer = Tokenizer(inputCol=\"text\", outputCol=\"words\")\n",
    "hashingTF = HashingTF(inputCol=tokenizer.getOutputCol(), outputCol=\"features\")\n",
    "lr = LogisticRegression(maxIter=10, regParam=0.001)\n",
    "pipeline = Pipeline(stages=[tokenizer, hashingTF, lr])\n",
    "\n",
    "# Fit the pipeline to training documents.\n",
    "model = pipeline.fit(training)\n",
    "\n",
    "# Prepare test documents, which are unlabeled (id, text) tuples.\n",
    "test = spark.createDataFrame([\n",
    "    (5, \"I am not a spam, I promise!!!\"),\n",
    "    (6, \"Spark can work on top of hadoop or standalone\"),\n",
    "    (7, \"New release available for Spark on DataSets\")\n",
    "], [\"id\", \"text\"])\n",
    "\n",
    "# Make predictions on test documents and print columns of interest.\n",
    "prediction = model.transform(test)\n",
    "selected = prediction.select(\"id\", \"text\", \"probability\", \"prediction\")\n",
    "for row in selected.collect():\n",
    "    rid, text, prob, prediction = row\n",
    "    print(\"(%d, %s) --> prob=%s, prediction=%f\" % (rid, text, str(prob), prediction))\n",
    "\n",
    "spark.stop()"
   ]
  },
  {
   "cell_type": "code",
   "execution_count": 5,
   "id": "c59d3db6-2f17-4811-944e-e5e6fc7a2e05",
   "metadata": {
    "execution": {
     "iopub.execute_input": "2022-11-24T16:24:33.902732Z",
     "iopub.status.busy": "2022-11-24T16:24:33.900736Z",
     "iopub.status.idle": "2022-11-24T16:24:58.879899Z",
     "shell.execute_reply": "2022-11-24T16:24:58.878916Z",
     "shell.execute_reply.started": "2022-11-24T16:24:33.901736Z"
    },
    "tags": []
   },
   "outputs": [],
   "source": [
    "import pandas as pd\n",
    "\n",
    "# read in the reduced yahoo questions data\n",
    "url0='https://drive.google.com/file/d/1kVJm80XwOQ1M2ux2gvuD8nxtixnLUHGY/view?usp=share_link'\n",
    "file_id0=url0.split('/')[-2]\n",
    "dwn_url0='https://drive.google.com/uc?id=' + file_id0\n",
    "df0 = pd.read_csv(dwn_url0, header=None, on_bad_lines='skip', engine='python')\n",
    "\n",
    "url1='https://drive.google.com/file/d/1ME3s03rdNNd3OJy-36uyrdNNfhZ12c_F/view?usp=share_link'\n",
    "file_id1=url1.split('/')[-2]\n",
    "dwn_url1='https://drive.google.com/uc?id=' + file_id1\n",
    "df1 = pd.read_csv(dwn_url1, header=None, on_bad_lines='skip', engine='python')\n",
    "\n"
   ]
  },
  {
   "cell_type": "code",
   "execution_count": 9,
   "id": "e7d1fe7e-7004-469f-9c67-bcc43e9608c4",
   "metadata": {
    "execution": {
     "iopub.execute_input": "2022-11-24T16:25:43.162882Z",
     "iopub.status.busy": "2022-11-24T16:25:43.161781Z",
     "iopub.status.idle": "2022-11-24T16:25:43.177479Z",
     "shell.execute_reply": "2022-11-24T16:25:43.175478Z",
     "shell.execute_reply.started": "2022-11-24T16:25:43.162882Z"
    },
    "tags": []
   },
   "outputs": [
    {
     "data": {
      "text/plain": [
       "136126"
      ]
     },
     "execution_count": 9,
     "metadata": {},
     "output_type": "execute_result"
    }
   ],
   "source": [
    "df1.shape[0] + df1.shape[0]"
   ]
  },
  {
   "cell_type": "code",
   "execution_count": 10,
   "id": "bcd386c5-6ec3-4714-a8b8-097611db46f5",
   "metadata": {
    "execution": {
     "iopub.execute_input": "2022-11-24T16:25:48.029573Z",
     "iopub.status.busy": "2022-11-24T16:25:48.029573Z",
     "iopub.status.idle": "2022-11-24T16:25:48.057723Z",
     "shell.execute_reply": "2022-11-24T16:25:48.057723Z",
     "shell.execute_reply.started": "2022-11-24T16:25:48.029573Z"
    },
    "tags": []
   },
   "outputs": [
    {
     "data": {
      "text/html": [
       "<div>\n",
       "<style scoped>\n",
       "    .dataframe tbody tr th:only-of-type {\n",
       "        vertical-align: middle;\n",
       "    }\n",
       "\n",
       "    .dataframe tbody tr th {\n",
       "        vertical-align: top;\n",
       "    }\n",
       "\n",
       "    .dataframe thead th {\n",
       "        text-align: right;\n",
       "    }\n",
       "</style>\n",
       "<table border=\"1\" class=\"dataframe\">\n",
       "  <thead>\n",
       "    <tr style=\"text-align: right;\">\n",
       "      <th></th>\n",
       "      <th>0</th>\n",
       "      <th>1</th>\n",
       "      <th>2</th>\n",
       "      <th>3</th>\n",
       "    </tr>\n",
       "  </thead>\n",
       "  <tbody>\n",
       "    <tr>\n",
       "      <th>0</th>\n",
       "      <td>1</td>\n",
       "      <td>where do I buy latex to create my own clothing...</td>\n",
       "      <td>NaN</td>\n",
       "      <td>now are you talking liquid latex or cloth like...</td>\n",
       "    </tr>\n",
       "    <tr>\n",
       "      <th>1</th>\n",
       "      <td>1</td>\n",
       "      <td>If  you could be someone else for a day, who w...</td>\n",
       "      <td>NaN</td>\n",
       "      <td>None</td>\n",
       "    </tr>\n",
       "    <tr>\n",
       "      <th>2</th>\n",
       "      <td>1</td>\n",
       "      <td>What are the things that make you happy?</td>\n",
       "      <td>How do I become one?</td>\n",
       "      <td>Snowflakes that stay on my nose and eyelashes.</td>\n",
       "    </tr>\n",
       "    <tr>\n",
       "      <th>3</th>\n",
       "      <td>1</td>\n",
       "      <td>A christian sign waiver was speaking against p...</td>\n",
       "      <td>people were telling him how great premarital s...</td>\n",
       "      <td>None</td>\n",
       "    </tr>\n",
       "    <tr>\n",
       "      <th>4</th>\n",
       "      <td>1</td>\n",
       "      <td>What is the best question? But doesn't have an...</td>\n",
       "      <td>NaN</td>\n",
       "      <td>The one that is never asked.</td>\n",
       "    </tr>\n",
       "    <tr>\n",
       "      <th>5</th>\n",
       "      <td>1</td>\n",
       "      <td>photos of the pelsall iron and steel company 1...</td>\n",
       "      <td>NaN</td>\n",
       "      <td>where is th epix? it seems you are painter</td>\n",
       "    </tr>\n",
       "    <tr>\n",
       "      <th>6</th>\n",
       "      <td>1</td>\n",
       "      <td>Is Islamophobia form of racism?Can Christians ...</td>\n",
       "      <td>NaN</td>\n",
       "      <td>yes its the worst type of racism ... if some o...</td>\n",
       "    </tr>\n",
       "    <tr>\n",
       "      <th>7</th>\n",
       "      <td>1</td>\n",
       "      <td>do u feel special ?... if so .. then it what w...</td>\n",
       "      <td>NaN</td>\n",
       "      <td>Because Rockinjellyfish told me i was \"special...</td>\n",
       "    </tr>\n",
       "    <tr>\n",
       "      <th>8</th>\n",
       "      <td>1</td>\n",
       "      <td>Why won't God cure my son of Leukemia?  If he ...</td>\n",
       "      <td>There is no change in his condition...only get...</td>\n",
       "      <td>None</td>\n",
       "    </tr>\n",
       "    <tr>\n",
       "      <th>9</th>\n",
       "      <td>1</td>\n",
       "      <td>If there can’t be light without darkness or go...</td>\n",
       "      <td>How can Heaven be perfect? The Garden of Eden ...</td>\n",
       "      <td>None</td>\n",
       "    </tr>\n",
       "  </tbody>\n",
       "</table>\n",
       "</div>"
      ],
      "text/plain": [
       "   0                                                  1  \\\n",
       "0  1  where do I buy latex to create my own clothing...   \n",
       "1  1  If  you could be someone else for a day, who w...   \n",
       "2  1           What are the things that make you happy?   \n",
       "3  1  A christian sign waiver was speaking against p...   \n",
       "4  1  What is the best question? But doesn't have an...   \n",
       "5  1  photos of the pelsall iron and steel company 1...   \n",
       "6  1  Is Islamophobia form of racism?Can Christians ...   \n",
       "7  1  do u feel special ?... if so .. then it what w...   \n",
       "8  1  Why won't God cure my son of Leukemia?  If he ...   \n",
       "9  1  If there can’t be light without darkness or go...   \n",
       "\n",
       "                                                   2  \\\n",
       "0                                                NaN   \n",
       "1                                                NaN   \n",
       "2                               How do I become one?   \n",
       "3  people were telling him how great premarital s...   \n",
       "4                                                NaN   \n",
       "5                                                NaN   \n",
       "6                                                NaN   \n",
       "7                                                NaN   \n",
       "8  There is no change in his condition...only get...   \n",
       "9  How can Heaven be perfect? The Garden of Eden ...   \n",
       "\n",
       "                                                   3  \n",
       "0  now are you talking liquid latex or cloth like...  \n",
       "1                                               None  \n",
       "2     Snowflakes that stay on my nose and eyelashes.  \n",
       "3                                               None  \n",
       "4                       The one that is never asked.  \n",
       "5         where is th epix? it seems you are painter  \n",
       "6  yes its the worst type of racism ... if some o...  \n",
       "7  Because Rockinjellyfish told me i was \"special...  \n",
       "8                                               None  \n",
       "9                                               None  "
      ]
     },
     "execution_count": 10,
     "metadata": {},
     "output_type": "execute_result"
    }
   ],
   "source": [
    "df1.head(10)"
   ]
  },
  {
   "cell_type": "code",
   "execution_count": null,
   "id": "e157411d-12d0-488d-bba7-9f97e1361d6c",
   "metadata": {},
   "outputs": [],
   "source": []
  }
 ],
 "metadata": {
  "kernelspec": {
   "display_name": "Python 3 (ipykernel)",
   "language": "python",
   "name": "python3"
  },
  "language_info": {
   "codemirror_mode": {
    "name": "ipython",
    "version": 3
   },
   "file_extension": ".py",
   "mimetype": "text/x-python",
   "name": "python",
   "nbconvert_exporter": "python",
   "pygments_lexer": "ipython3",
   "version": "3.8.15"
  }
 },
 "nbformat": 4,
 "nbformat_minor": 5
}
