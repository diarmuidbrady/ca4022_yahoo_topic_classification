{
 "cells": [
  {
   "cell_type": "markdown",
   "id": "7ee38ba4-dc13-46b7-8f50-94f88b69dc52",
   "metadata": {},
   "source": [
    "# Yahoo Topic Classification\n",
    "\n",
    "Here we import the reduced data from Hive into pyspark dataframe"
   ]
  },
  {
   "cell_type": "markdown",
   "id": "0ff719a6-166a-41bb-acf3-8be5d0f2409c",
   "metadata": {
    "execution": {
     "iopub.execute_input": "2022-11-24T10:38:08.745184Z",
     "iopub.status.busy": "2022-11-24T10:38:08.743460Z",
     "iopub.status.idle": "2022-11-24T10:38:09.328424Z",
     "shell.execute_reply": "2022-11-24T10:38:09.325422Z",
     "shell.execute_reply.started": "2022-11-24T10:38:08.744184Z"
    },
    "tags": []
   },
   "source": [
    "## Import Libraries"
   ]
  },
  {
   "cell_type": "code",
   "execution_count": 1,
   "id": "cbb9a2b7-d4ec-4caf-bf1a-770986bfe332",
   "metadata": {
    "execution": {
     "iopub.execute_input": "2022-12-12T17:15:22.765779Z",
     "iopub.status.busy": "2022-12-12T17:15:22.764766Z",
     "iopub.status.idle": "2022-12-12T17:15:23.433524Z",
     "shell.execute_reply": "2022-12-12T17:15:23.433524Z",
     "shell.execute_reply.started": "2022-12-12T17:15:22.765779Z"
    },
    "tags": []
   },
   "outputs": [],
   "source": [
    "# Basic\n",
    "import os\n",
    "import pandas as pd\n",
    "import numpy as np\n",
    "import findspark\n",
    "import pyspark\n",
    "from pyspark import SparkFiles\n",
    "from pyspark.sql import SparkSession\n",
    "import pyspark.sql.functions as f"
   ]
  },
  {
   "cell_type": "code",
   "execution_count": 2,
   "id": "ab9791e1-6755-4436-be1d-dfac897f48f9",
   "metadata": {
    "execution": {
     "iopub.execute_input": "2022-12-12T17:15:23.435468Z",
     "iopub.status.busy": "2022-12-12T17:15:23.434442Z",
     "iopub.status.idle": "2022-12-12T17:15:23.450408Z",
     "shell.execute_reply": "2022-12-12T17:15:23.449407Z",
     "shell.execute_reply.started": "2022-12-12T17:15:23.435468Z"
    },
    "tags": []
   },
   "outputs": [
    {
     "name": "stdout",
     "output_type": "stream",
     "text": [
      "C:\\Users\\Diarmuid\\anaconda3\\envs\\yahoo\\Library\\lib\\jvm\n",
      "C:\\spark-3.3.1-bin-hadoop3\\\n",
      "C:\\spark-3.3.1-bin-hadoop3\\\n"
     ]
    }
   ],
   "source": [
    "# Here are some variables that need to be checked before running following commands\n",
    "diarmuid_path = 'C:\\\\Users\\\\Diarmuid\\\\Documents\\\\dcu\\\\final-year\\\\ca4022_data_at_speed_and_scale\\\\Assignments\\\\ca4022_yahoo_topic_classification\\\\notebooks'\n",
    "if os.getcwd() == diarmuid_path:\n",
    "    #os.environ['JAVA_HOME'] = 'C:\\Users\\Diarmuid\\anaconda3\\envs\\yahoo\\Library\\lib\\jvm'\n",
    "    #os.environ['HADOOP_HOME'] = 'C:\\spark-3.3.1-bin-hadoop3\\'\n",
    "    #os.environ['SPARK_HOME'] = 'C:\\spark-3.3.1-bin-hadoop3\\'\n",
    "    print(os.environ['JAVA_HOME'])\n",
    "    print(os.environ['HADOOP_HOME'])\n",
    "    print(os.environ['SPARK_HOME'])\n"
   ]
  },
  {
   "cell_type": "code",
   "execution_count": 3,
   "id": "79ac2de3-468f-403d-af60-dacbb291eadc",
   "metadata": {
    "execution": {
     "iopub.execute_input": "2022-12-12T17:15:23.452409Z",
     "iopub.status.busy": "2022-12-12T17:15:23.452409Z",
     "iopub.status.idle": "2022-12-12T17:15:23.465413Z",
     "shell.execute_reply": "2022-12-12T17:15:23.464411Z",
     "shell.execute_reply.started": "2022-12-12T17:15:23.452409Z"
    },
    "tags": []
   },
   "outputs": [
    {
     "data": {
      "text/plain": [
       "'C:\\\\spark-3.3.1-bin-hadoop3\\\\'"
      ]
     },
     "execution_count": 3,
     "metadata": {},
     "output_type": "execute_result"
    }
   ],
   "source": [
    "findspark.init()\n",
    "findspark.find()"
   ]
  },
  {
   "cell_type": "code",
   "execution_count": 4,
   "id": "c4b71490-54c7-4673-9b76-c01ec64d39ac",
   "metadata": {
    "execution": {
     "iopub.execute_input": "2022-12-12T17:15:23.471408Z",
     "iopub.status.busy": "2022-12-12T17:15:23.470419Z",
     "iopub.status.idle": "2022-12-12T17:15:28.541194Z",
     "shell.execute_reply": "2022-12-12T17:15:28.541194Z",
     "shell.execute_reply.started": "2022-12-12T17:15:23.471408Z"
    },
    "tags": []
   },
   "outputs": [],
   "source": [
    "spark = SparkSession.builder.appName('SparkByExamples.com').getOrCreate()"
   ]
  },
  {
   "cell_type": "markdown",
   "id": "0d7dd9c6-2b0d-49f8-9bb5-a1b7d2f90f3d",
   "metadata": {
    "execution": {
     "iopub.execute_input": "2022-11-25T15:12:38.695557Z",
     "iopub.status.busy": "2022-11-25T15:12:38.695557Z",
     "iopub.status.idle": "2022-11-25T15:12:42.365718Z",
     "shell.execute_reply": "2022-11-25T15:12:42.364754Z",
     "shell.execute_reply.started": "2022-11-25T15:12:38.695557Z"
    },
    "tags": []
   },
   "source": [
    "## Using Original tables\n",
    "\n",
    "Found that reducing the data using PySpark is more convenient than in Hive. When we used hive, the output table had delimeter issues which lead to parsing errors"
   ]
  },
  {
   "cell_type": "code",
   "execution_count": 5,
   "id": "50f1f38e-baad-45de-92d4-a7cd72b23bf9",
   "metadata": {
    "execution": {
     "iopub.execute_input": "2022-12-12T17:15:28.543214Z",
     "iopub.status.busy": "2022-12-12T17:15:28.542194Z",
     "iopub.status.idle": "2022-12-12T17:15:34.486976Z",
     "shell.execute_reply": "2022-12-12T17:15:34.485976Z",
     "shell.execute_reply.started": "2022-12-12T17:15:28.543214Z"
    },
    "tags": []
   },
   "outputs": [
    {
     "name": "stdout",
     "output_type": "stream",
     "text": [
      "test shapea: (60000, 4)\n"
     ]
    }
   ],
   "source": [
    "# import data into spark dataframe\n",
    "import pyspark.sql.functions as f\n",
    "from pyspark.sql.window import Window\n",
    "\n",
    "# Google Drive URL wasn't working for the large train file, so uploaded datasets to data folder manually\n",
    "train = spark.read.csv(\"../data/train.csv\")\n",
    "test = spark.read.csv(\"../data/test.csv\")\n",
    "\n",
    "# rename columns\n",
    "train = train.select(f.col(\"_c0\").alias(\"topic\").astype('int'), f.col(\"_c1\").alias(\"q_title\"), f.col(\"_c2\").alias(\"q_content\"), f.col(\"_c3\").alias(\"answer\"))\n",
    "test = test.select(f.col(\"_c0\").alias(\"topic\").astype('int'), f.col(\"_c1\").alias(\"q_title\"), f.col(\"_c2\").alias(\"q_content\"), f.col(\"_c3\").alias(\"answer\"))\n",
    "\n",
    "print(\"test shapea:\", \"({}, {})\".format(test.count(), len(test.columns)))\n"
   ]
  },
  {
   "cell_type": "code",
   "execution_count": 6,
   "id": "549d9273-3602-4d62-9eed-b5f1276c05d7",
   "metadata": {
    "execution": {
     "iopub.execute_input": "2022-12-12T17:15:34.488975Z",
     "iopub.status.busy": "2022-12-12T17:15:34.488975Z",
     "iopub.status.idle": "2022-12-12T17:15:34.741976Z",
     "shell.execute_reply": "2022-12-12T17:15:34.740977Z",
     "shell.execute_reply.started": "2022-12-12T17:15:34.488975Z"
    },
    "tags": []
   },
   "outputs": [
    {
     "name": "stdout",
     "output_type": "stream",
     "text": [
      "+-----+--------------------+--------------------+--------------------+\n",
      "|topic|             q_title|           q_content|              answer|\n",
      "+-----+--------------------+--------------------+--------------------+\n",
      "|    9|What makes friend...|How does the spar...|good communicatio...|\n",
      "|    2|Why does Zebras h...|What is the purpo...|this provides cam...|\n",
      "|    4|What did the itsy...|                null|          waterspout|\n",
      "|    4|What is the diffe...|                null|One difference be...|\n",
      "|    3|Why do women get ...|                null|Premenstrual synd...|\n",
      "+-----+--------------------+--------------------+--------------------+\n",
      "only showing top 5 rows\n",
      "\n"
     ]
    }
   ],
   "source": [
    "test.show(5)"
   ]
  },
  {
   "cell_type": "code",
   "execution_count": 7,
   "id": "6f04dc7b-7b91-4690-90fa-1c4735b0e600",
   "metadata": {
    "execution": {
     "iopub.execute_input": "2022-12-12T17:15:34.743980Z",
     "iopub.status.busy": "2022-12-12T17:15:34.742975Z",
     "iopub.status.idle": "2022-12-12T17:15:37.667977Z",
     "shell.execute_reply": "2022-12-12T17:15:37.666975Z",
     "shell.execute_reply.started": "2022-12-12T17:15:34.743980Z"
    },
    "tags": []
   },
   "outputs": [
    {
     "name": "stdout",
     "output_type": "stream",
     "text": [
      "+-----+-------+\n",
      "|topic|percent|\n",
      "+-----+-------+\n",
      "|    1|    0.1|\n",
      "|    2|    0.1|\n",
      "|    3|    0.1|\n",
      "|    4|    0.1|\n",
      "|    5|    0.1|\n",
      "|    6|    0.1|\n",
      "|    7|    0.1|\n",
      "|    8|    0.1|\n",
      "|    9|    0.1|\n",
      "|   10|    0.1|\n",
      "+-----+-------+\n",
      "\n"
     ]
    }
   ],
   "source": [
    "# reduce both datasets to quarter size using stratified sampling\n",
    "\n",
    "by_topic = train.groupby(\"topic\").count()\n",
    "by_topic = by_topic.withColumn(\"percent\", f.col(\"count\")/f.sum(\"count\").over(Window.partitionBy()))\n",
    "by_topic.orderBy('topic').select('topic', 'percent').show()"
   ]
  },
  {
   "cell_type": "code",
   "execution_count": 8,
   "id": "1b225b31-ab63-4f5a-9f79-1f5848af1ca7",
   "metadata": {
    "execution": {
     "iopub.execute_input": "2022-12-12T17:15:37.668976Z",
     "iopub.status.busy": "2022-12-12T17:15:37.668976Z",
     "iopub.status.idle": "2022-12-12T17:15:41.518975Z",
     "shell.execute_reply": "2022-12-12T17:15:41.517977Z",
     "shell.execute_reply.started": "2022-12-12T17:15:37.668976Z"
    },
    "tags": []
   },
   "outputs": [
    {
     "name": "stdout",
     "output_type": "stream",
     "text": [
      "train shape: (349605, 4)\n",
      "test shape: (15010, 4)\n",
      "+-----+-----------------+\n",
      "|topic|round(percent, 2)|\n",
      "+-----+-----------------+\n",
      "|    1|              0.1|\n",
      "|    2|              0.1|\n",
      "|    3|              0.1|\n",
      "|    4|              0.1|\n",
      "|    5|              0.1|\n",
      "|    6|              0.1|\n",
      "|    7|              0.1|\n",
      "|    8|              0.1|\n",
      "|    9|              0.1|\n",
      "|   10|              0.1|\n",
      "+-----+-----------------+\n",
      "\n"
     ]
    }
   ],
   "source": [
    "train_df = train.sampleBy(col='topic', fractions={i:0.25 for i in range(1, 11, 1)})\n",
    "test_df = test.sampleBy(col='topic', fractions={i:0.25 for i in range(1, 11, 1)})\n",
    "\n",
    "print(\"train shape:\", \"({}, {})\".format(train_df.count(), len(train_df.columns)))\n",
    "print(\"test shape:\", \"({}, {})\".format(test_df.count(), len(test_df.columns)))\n",
    "\n",
    "\n",
    "by_topic = train_df.groupby(\"topic\").count()\n",
    "by_topic = by_topic.withColumn(\"percent\", f.col(\"count\")/f.sum(\"count\").over(Window.partitionBy()).astype('float'))\n",
    "#by_topic = by_topic.select(\"topic\", f.col(\"percent\").astype('float'))\n",
    "by_topic.orderBy('topic').select('topic', f.round('percent', 2)).show()"
   ]
  },
  {
   "cell_type": "code",
   "execution_count": 9,
   "id": "4f0f8070-0cba-40da-b06c-ac350d330437",
   "metadata": {
    "execution": {
     "iopub.execute_input": "2022-12-12T17:15:41.522977Z",
     "iopub.status.busy": "2022-12-12T17:15:41.521976Z",
     "iopub.status.idle": "2022-12-12T17:15:41.550977Z",
     "shell.execute_reply": "2022-12-12T17:15:41.549975Z",
     "shell.execute_reply.started": "2022-12-12T17:15:41.521976Z"
    },
    "tags": []
   },
   "outputs": [],
   "source": [
    "train_df = train_df.withColumn('Set', f.lit('Train'))\n",
    "test_df = test_df.withColumn('Set', f.lit('Test'))"
   ]
  },
  {
   "cell_type": "code",
   "execution_count": 10,
   "id": "d9a07e63-00a7-4a21-92fc-15997367eb55",
   "metadata": {
    "execution": {
     "iopub.execute_input": "2022-12-12T17:15:41.551977Z",
     "iopub.status.busy": "2022-12-12T17:15:41.551977Z",
     "iopub.status.idle": "2022-12-12T17:15:41.581974Z",
     "shell.execute_reply": "2022-12-12T17:15:41.580977Z",
     "shell.execute_reply.started": "2022-12-12T17:15:41.551977Z"
    },
    "tags": []
   },
   "outputs": [],
   "source": [
    "df = train_df.union(test_df)"
   ]
  },
  {
   "cell_type": "code",
   "execution_count": 11,
   "id": "4dbe7e57-d15b-49b0-9cd4-165bb45fb199",
   "metadata": {
    "execution": {
     "iopub.execute_input": "2022-12-12T17:15:41.583977Z",
     "iopub.status.busy": "2022-12-12T17:15:41.582975Z",
     "iopub.status.idle": "2022-12-12T17:15:41.612976Z",
     "shell.execute_reply": "2022-12-12T17:15:41.611974Z",
     "shell.execute_reply.started": "2022-12-12T17:15:41.583977Z"
    },
    "tags": []
   },
   "outputs": [],
   "source": [
    "for old, new in [('topic', 'Label'), ('q_title', 'Title'), ('q_content', 'Content')]:\n",
    "    df = df.withColumnRenamed(old, new)"
   ]
  },
  {
   "cell_type": "code",
   "execution_count": 12,
   "id": "d6c72c1b-7716-4829-8cc8-3c6bb55a092f",
   "metadata": {
    "execution": {
     "iopub.execute_input": "2022-12-12T17:15:41.614977Z",
     "iopub.status.busy": "2022-12-12T17:15:41.613975Z",
     "iopub.status.idle": "2022-12-12T17:15:41.834974Z",
     "shell.execute_reply": "2022-12-12T17:15:41.833975Z",
     "shell.execute_reply.started": "2022-12-12T17:15:41.614977Z"
    },
    "tags": []
   },
   "outputs": [
    {
     "name": "stdout",
     "output_type": "stream",
     "text": [
      "+-----+--------------------+--------------------+--------------------+-----+\n",
      "|Label|               Title|             Content|              answer|  Set|\n",
      "+-----+--------------------+--------------------+--------------------+-----+\n",
      "|    5|why doesn't an op...|or even on some s...|Optical mice use ...|Train|\n",
      "|    3|What is Trans Fat...|I heard that tras...|\"Trans fats occur...|Train|\n",
      "|    7|How many planes F...|I heard that it i...|according to the ...|Train|\n",
      "|    8|\"Is Lin Qingxia (...|This is according...|\"Well.  Everyone ...|Train|\n",
      "|    4|Who said the stat...|\"Can someone help...|\"That is kind of ...|Train|\n",
      "+-----+--------------------+--------------------+--------------------+-----+\n",
      "only showing top 5 rows\n",
      "\n"
     ]
    }
   ],
   "source": [
    "df.show(5)"
   ]
  },
  {
   "cell_type": "code",
   "execution_count": 13,
   "id": "4342a461-60b0-4b89-8045-3e1f398e07f0",
   "metadata": {
    "execution": {
     "iopub.execute_input": "2022-12-12T17:15:41.838977Z",
     "iopub.status.busy": "2022-12-12T17:15:41.837976Z",
     "iopub.status.idle": "2022-12-12T17:15:46.037975Z",
     "shell.execute_reply": "2022-12-12T17:15:46.036975Z",
     "shell.execute_reply.started": "2022-12-12T17:15:41.838977Z"
    },
    "tags": []
   },
   "outputs": [],
   "source": [
    "# save the reduced data\n",
    "train_df.write.csv(\"../data/train_reduced\")\n",
    "test_df.write.csv(\"../data/test_reduced\")"
   ]
  },
  {
   "cell_type": "code",
   "execution_count": 14,
   "id": "5e070129-1771-47b6-8ad7-e35563bab941",
   "metadata": {
    "execution": {
     "iopub.execute_input": "2022-12-12T17:15:46.041976Z",
     "iopub.status.busy": "2022-12-12T17:15:46.040979Z",
     "iopub.status.idle": "2022-12-12T17:15:49.915976Z",
     "shell.execute_reply": "2022-12-12T17:15:49.914974Z",
     "shell.execute_reply.started": "2022-12-12T17:15:46.041976Z"
    },
    "tags": []
   },
   "outputs": [],
   "source": [
    "df.write.csv('../data/reduced')"
   ]
  }
 ],
 "metadata": {
  "kernelspec": {
   "display_name": "Python 3 (ipykernel)",
   "language": "python",
   "name": "python3"
  },
  "language_info": {
   "codemirror_mode": {
    "name": "ipython",
    "version": 3
   },
   "file_extension": ".py",
   "mimetype": "text/x-python",
   "name": "python",
   "nbconvert_exporter": "python",
   "pygments_lexer": "ipython3",
   "version": "3.8.15"
  }
 },
 "nbformat": 4,
 "nbformat_minor": 5
}
