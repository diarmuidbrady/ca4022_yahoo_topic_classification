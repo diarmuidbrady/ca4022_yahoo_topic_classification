{
 "cells": [
  {
   "cell_type": "markdown",
   "id": "7ee38ba4-dc13-46b7-8f50-94f88b69dc52",
   "metadata": {},
   "source": [
    "# Yahoo Topic Classification"
   ]
  },
  {
   "cell_type": "markdown",
   "id": "0ff719a6-166a-41bb-acf3-8be5d0f2409c",
   "metadata": {
    "execution": {
     "iopub.execute_input": "2022-11-24T10:38:08.745184Z",
     "iopub.status.busy": "2022-11-24T10:38:08.743460Z",
     "iopub.status.idle": "2022-11-24T10:38:09.328424Z",
     "shell.execute_reply": "2022-11-24T10:38:09.325422Z",
     "shell.execute_reply.started": "2022-11-24T10:38:08.744184Z"
    },
    "tags": []
   },
   "source": [
    "## Setting up Libraries and Environments"
   ]
  },
  {
   "cell_type": "code",
   "execution_count": 1,
   "id": "cbb9a2b7-d4ec-4caf-bf1a-770986bfe332",
   "metadata": {
    "execution": {
     "iopub.execute_input": "2022-12-12T17:26:32.212106Z",
     "iopub.status.busy": "2022-12-12T17:26:32.211107Z",
     "iopub.status.idle": "2022-12-12T17:26:35.042401Z",
     "shell.execute_reply": "2022-12-12T17:26:35.039508Z",
     "shell.execute_reply.started": "2022-12-12T17:26:32.211107Z"
    },
    "tags": []
   },
   "outputs": [],
   "source": [
    "# Basic\n",
    "import pandas as pd\n",
    "import numpy as np\n",
    "import findspark\n",
    "import pyspark\n",
    "from pyspark import SparkFiles\n",
    "\n",
    "# Data Manipulation\n",
    "from pyspark.sql import SparkSession\n",
    "from pyspark.sql.types import IntegerType, StringType, StructType, StructField\n",
    "from pyspark.sql.functions import col, udf, concat, lit, length, size, row_number\n",
    "from pyspark.sql.window import Window\n",
    "\n",
    "# ML\n",
    "from pyspark.ml.feature import Tokenizer, RegexTokenizer, StopWordsRemover, NGram, VectorAssembler, CountVectorizer, IDF\n",
    "from pyspark.ml.linalg import Vector\n",
    "from pyspark.ml import Pipeline\n",
    "from pyspark.ml.classification import LinearSVC, OneVsRest\n",
    "from pyspark.ml.evaluation import MulticlassClassificationEvaluator"
   ]
  },
  {
   "cell_type": "code",
   "execution_count": 2,
   "id": "b4a745df-3b53-44d6-b49a-f3656dac14df",
   "metadata": {
    "execution": {
     "iopub.execute_input": "2022-12-12T17:26:35.046405Z",
     "iopub.status.busy": "2022-12-12T17:26:35.045407Z",
     "iopub.status.idle": "2022-12-12T17:26:45.548638Z",
     "shell.execute_reply": "2022-12-12T17:26:45.547634Z",
     "shell.execute_reply.started": "2022-12-12T17:26:35.046405Z"
    },
    "tags": []
   },
   "outputs": [],
   "source": [
    "findspark.init()\n",
    "\n",
    "spark = SparkSession.builder.appName('SparkByExamples.com').getOrCreate()"
   ]
  },
  {
   "cell_type": "markdown",
   "id": "97d591fd-51c5-46bc-987f-6ac8ca5360af",
   "metadata": {
    "execution": {
     "iopub.execute_input": "2022-11-25T15:12:38.695557Z",
     "iopub.status.busy": "2022-11-25T15:12:38.695557Z",
     "iopub.status.idle": "2022-11-25T15:12:42.365718Z",
     "shell.execute_reply": "2022-11-25T15:12:42.364754Z",
     "shell.execute_reply.started": "2022-11-25T15:12:38.695557Z"
    },
    "tags": []
   },
   "source": [
    "## Data Import"
   ]
  },
  {
   "cell_type": "code",
   "execution_count": 3,
   "id": "f51b2065-0187-468d-8c89-4a1c8e990f2e",
   "metadata": {
    "execution": {
     "iopub.execute_input": "2022-12-12T17:26:45.549651Z",
     "iopub.status.busy": "2022-12-12T17:26:45.549651Z",
     "iopub.status.idle": "2022-12-12T17:26:45.564641Z",
     "shell.execute_reply": "2022-12-12T17:26:45.563640Z",
     "shell.execute_reply.started": "2022-12-12T17:26:45.549651Z"
    },
    "tags": []
   },
   "outputs": [],
   "source": [
    "schema_list = [\n",
    "    StructField('Label', IntegerType(), False), \n",
    "    StructField('Title', StringType(), True), \n",
    "    StructField('Content', StringType(), True),\n",
    "    StructField('Answer', StringType(), True),\n",
    "    StructField('Set', StringType(), True)\n",
    "]\n",
    "schema_df = StructType(fields=schema_list)"
   ]
  },
  {
   "cell_type": "code",
   "execution_count": 4,
   "id": "5d88c51c-f25e-4c4e-98af-592fcf95e1ef",
   "metadata": {
    "execution": {
     "iopub.execute_input": "2022-12-12T17:26:45.569642Z",
     "iopub.status.busy": "2022-12-12T17:26:45.568643Z",
     "iopub.status.idle": "2022-12-12T17:26:48.903223Z",
     "shell.execute_reply": "2022-12-12T17:26:48.902217Z",
     "shell.execute_reply.started": "2022-12-12T17:26:45.569642Z"
    },
    "tags": []
   },
   "outputs": [],
   "source": [
    "# Import Data from reduced folders\n",
    "df = spark.read.csv(\"../data/reduced\", schema=schema_df)"
   ]
  },
  {
   "cell_type": "markdown",
   "id": "c15f0701-ee21-467d-9b24-3e666e211e1f",
   "metadata": {},
   "source": [
    "## Data Preview\n",
    "This includes some basic view of the data before processing"
   ]
  },
  {
   "cell_type": "code",
   "execution_count": 5,
   "id": "eee87c20-e092-4c65-b2b8-56f6742f2dbe",
   "metadata": {
    "execution": {
     "iopub.execute_input": "2022-12-12T17:26:48.904222Z",
     "iopub.status.busy": "2022-12-12T17:26:48.904222Z",
     "iopub.status.idle": "2022-12-12T17:26:51.228544Z",
     "shell.execute_reply": "2022-12-12T17:26:51.227536Z",
     "shell.execute_reply.started": "2022-12-12T17:26:48.904222Z"
    },
    "tags": []
   },
   "outputs": [
    {
     "name": "stdout",
     "output_type": "stream",
     "text": [
      "+-----+--------------------+--------+--------------------+-----+\n",
      "|Label|               Title| Content|              Answer|  Set|\n",
      "+-----+--------------------+--------+--------------------+-----+\n",
      "|    1|what is the frenc...|    null|Are you talking a...|Train|\n",
      "|    2|Do we realy need ...|    null|When surfaces are...|Train|\n",
      "|    5|How can I save my...|    null|\"Its 9 way to hac...|Train|\n",
      "|    7|I'm trying to fin...|help me.|        tagworld.com|Train|\n",
      "|    7|define Stability ...|    null|A Linear Time Inv...|Train|\n",
      "+-----+--------------------+--------+--------------------+-----+\n",
      "only showing top 5 rows\n",
      "\n"
     ]
    }
   ],
   "source": [
    "df.show(5)"
   ]
  },
  {
   "cell_type": "code",
   "execution_count": 6,
   "id": "f042ac05-7a79-40b4-82ca-3c8d33fa61d3",
   "metadata": {
    "execution": {
     "iopub.execute_input": "2022-12-12T17:26:51.229542Z",
     "iopub.status.busy": "2022-12-12T17:26:51.229542Z",
     "iopub.status.idle": "2022-12-12T17:26:59.974822Z",
     "shell.execute_reply": "2022-12-12T17:26:59.973822Z",
     "shell.execute_reply.started": "2022-12-12T17:26:51.229542Z"
    },
    "tags": []
   },
   "outputs": [
    {
     "name": "stdout",
     "output_type": "stream",
     "text": [
      "+-------+-----------------+--------------------+-----------------------------------+----------------------+------+\n",
      "|summary|            Label|               Title|                            Content|                Answer|   Set|\n",
      "+-------+-----------------+--------------------+-----------------------------------+----------------------+------+\n",
      "|  count|           364615|              364615|                             200607|                357904|364615|\n",
      "|   mean|5.494765711778177|                null|                           Infinity|              Infinity|  null|\n",
      "| stddev|2.872483870744461|                null|                                NaN|                   NaN|  null|\n",
      "|    min|                1|    ! only 4 girls!?|                                  !|  ! - 3 - 7 . Even ...|  Test|\n",
      "|    max|               10|Describe in your...|黙れこのくそやろう\\nむかつくんだ...|혼돈\\nhttp://dictio...| Train|\n",
      "+-------+-----------------+--------------------+-----------------------------------+----------------------+------+\n",
      "\n"
     ]
    }
   ],
   "source": [
    "df.describe().show()"
   ]
  },
  {
   "cell_type": "markdown",
   "id": "7baa9206-ef31-4de3-b2e0-aec5d148e249",
   "metadata": {},
   "source": [
    "## Data Processing"
   ]
  },
  {
   "cell_type": "markdown",
   "id": "0883b5f8-d895-470a-9310-1b632abeb35f",
   "metadata": {
    "execution": {
     "iopub.execute_input": "2022-12-11T15:11:29.355690Z",
     "iopub.status.busy": "2022-12-11T15:11:29.354796Z",
     "iopub.status.idle": "2022-12-11T15:11:29.362691Z",
     "shell.execute_reply": "2022-12-11T15:11:29.361689Z",
     "shell.execute_reply.started": "2022-12-11T15:11:29.355690Z"
    },
    "tags": []
   },
   "source": [
    "### Steps to Take\n",
    "- Merge Test and Train\n",
    "- Rename columns\n",
    "- Change data types\n",
    "- Tokenization\n",
    "- Stop Word Removal\n",
    "- NGram"
   ]
  },
  {
   "cell_type": "markdown",
   "id": "fe89d40c-1e5c-4f05-b860-190e90ce6be5",
   "metadata": {},
   "source": [
    "#### Column Concatenation"
   ]
  },
  {
   "cell_type": "code",
   "execution_count": 7,
   "id": "35ed22f5-24e9-4f72-a338-d95ec2c0102e",
   "metadata": {
    "execution": {
     "iopub.execute_input": "2022-12-12T17:26:59.976823Z",
     "iopub.status.busy": "2022-12-12T17:26:59.975823Z",
     "iopub.status.idle": "2022-12-12T17:27:00.210825Z",
     "shell.execute_reply": "2022-12-12T17:27:00.209825Z",
     "shell.execute_reply.started": "2022-12-12T17:26:59.976823Z"
    },
    "tags": []
   },
   "outputs": [
    {
     "name": "stdout",
     "output_type": "stream",
     "text": [
      "+--------------------+-----+-----+\n",
      "|            Document|  Set|Label|\n",
      "+--------------------+-----+-----+\n",
      "|                null|Train|    1|\n",
      "|                null|Train|    2|\n",
      "|                null|Train|    5|\n",
      "|I'm trying to fin...|Train|    7|\n",
      "|                null|Train|    7|\n",
      "+--------------------+-----+-----+\n",
      "only showing top 5 rows\n",
      "\n"
     ]
    }
   ],
   "source": [
    "df = df.withColumn('Document', concat(df['Title'], df['Content'], df['Answer'])).select(['Document', 'Set', 'Label'])\n",
    "df.show(5)"
   ]
  },
  {
   "cell_type": "code",
   "execution_count": 8,
   "id": "12cd0dbb-e291-4474-8ff1-b68c483a7851",
   "metadata": {
    "execution": {
     "iopub.execute_input": "2022-12-12T17:27:00.213824Z",
     "iopub.status.busy": "2022-12-12T17:27:00.212826Z",
     "iopub.status.idle": "2022-12-12T17:27:04.908820Z",
     "shell.execute_reply": "2022-12-12T17:27:04.908820Z",
     "shell.execute_reply.started": "2022-12-12T17:27:00.213824Z"
    },
    "tags": []
   },
   "outputs": [],
   "source": [
    "before = df.count()\n",
    "before_train = df.filter('Set == \"Train\"').count()\n",
    "before_test = df.filter('Set == \"Test\"').count()\n",
    "df = df.filter('Document is NOT NULL').withColumn('Length', length(df['Document']))\n",
    "after = df.count()\n",
    "after_train = df.filter('Set == \"Train\"').count()\n",
    "after_test = df.filter('Set == \"Test\"').count()"
   ]
  },
  {
   "cell_type": "code",
   "execution_count": 9,
   "id": "d6b1b6e7-73cf-4b96-bf71-b9348229cf42",
   "metadata": {
    "execution": {
     "iopub.execute_input": "2022-12-12T17:27:04.910823Z",
     "iopub.status.busy": "2022-12-12T17:27:04.910823Z",
     "iopub.status.idle": "2022-12-12T17:27:06.298830Z",
     "shell.execute_reply": "2022-12-12T17:27:06.294826Z",
     "shell.execute_reply.started": "2022-12-12T17:27:04.910823Z"
    },
    "tags": []
   },
   "outputs": [
    {
     "name": "stdout",
     "output_type": "stream",
     "text": [
      "There were 349605 training samples and 15010 test samples\n",
      "168244 rows were dropped, 161332 training samples and 6912 test samples.\n",
      "There are now 188273 training samples and 8098 test samples\n"
     ]
    }
   ],
   "source": [
    "print(f'''There were {before_train} training samples and {before_test} test samples''')\n",
    "print(f'{before - after} rows were dropped, {before_train - after_train} training samples and {before_test - after_test} test samples.')\n",
    "print(f'''There are now {df.filter('Set == \"Train\"').count()} training samples and {df.filter('Set == \"Test\"').count()} test samples''')"
   ]
  },
  {
   "cell_type": "markdown",
   "id": "bd2cd1f7-f5f1-4818-8592-be3ae06b18cb",
   "metadata": {},
   "source": [
    "#### Tokenization (Regex)"
   ]
  },
  {
   "cell_type": "code",
   "execution_count": 10,
   "id": "d8a5091d-2742-4ae8-92c3-f9486967f37d",
   "metadata": {
    "execution": {
     "iopub.execute_input": "2022-12-12T17:27:06.303830Z",
     "iopub.status.busy": "2022-12-12T17:27:06.302831Z",
     "iopub.status.idle": "2022-12-12T17:27:06.834824Z",
     "shell.execute_reply": "2022-12-12T17:27:06.833824Z",
     "shell.execute_reply.started": "2022-12-12T17:27:06.303830Z"
    },
    "tags": []
   },
   "outputs": [
    {
     "name": "stdout",
     "output_type": "stream",
     "text": [
      "+----------------------------------------------------------------------------------------------------+\n",
      "|                                                                                              Tokens|\n",
      "+----------------------------------------------------------------------------------------------------+\n",
      "|[i, m, trying, to, find, the, url, for, this, website, similar, to, myspace, called, tag, how, do...|\n",
      "|[in, baseball, game, or, just, baseball, wat, does, mrp, and, lrp, mean, its, on, my, mvp, 2004, ...|\n",
      "|[how, can, i, make, my, incoming, mails, auto, forwards, to, another, email, address, i, use, yah...|\n",
      "|[can, someone, tell, me, if, i, could, apply, for, permanent, residence, i, came, to, usa, 8, 1, ...|\n",
      "|[do, you, believe, in, astrology, if, so, cick, on, my, name, and, you, will, see, my, questions,...|\n",
      "+----------------------------------------------------------------------------------------------------+\n",
      "only showing top 5 rows\n",
      "\n"
     ]
    }
   ],
   "source": [
    "regex_tokenizer = RegexTokenizer(inputCol='Document', outputCol='Tokens', pattern='\\\\W')\n",
    "\n",
    "df_regex_token = regex_tokenizer.transform(df)\n",
    "\n",
    "df_regex_token.select('Tokens').show(5, truncate=100)"
   ]
  },
  {
   "cell_type": "markdown",
   "id": "bf77a77a-d338-4f09-97a5-83eb6fa2f5a2",
   "metadata": {},
   "source": [
    "#### Stop Word Removal"
   ]
  },
  {
   "cell_type": "code",
   "execution_count": 11,
   "id": "538affdc-7481-4378-8913-d752a76406d6",
   "metadata": {
    "execution": {
     "iopub.execute_input": "2022-12-12T17:27:06.836826Z",
     "iopub.status.busy": "2022-12-12T17:27:06.836826Z",
     "iopub.status.idle": "2022-12-12T17:27:07.247825Z",
     "shell.execute_reply": "2022-12-12T17:27:07.246823Z",
     "shell.execute_reply.started": "2022-12-12T17:27:06.836826Z"
    },
    "tags": []
   },
   "outputs": [
    {
     "name": "stdout",
     "output_type": "stream",
     "text": [
      "+-------------------------------------------------------+-------------------------------------------------------+\n",
      "|                                               Document|                                             StopTokens|\n",
      "+-------------------------------------------------------+-------------------------------------------------------+\n",
      "|I'm trying to find the Url for this website similar ...|[m, trying, find, url, website, similar, myspace, ca...|\n",
      "|In baseball game or just baseball,, wat does MRP and...|[baseball, game, baseball, wat, mrp, lrp, mean, mvp,...|\n",
      "|how can i make my incoming mails auto forwards to an...|[make, incoming, mails, auto, forwards, another, ema...|\n",
      "|Can someone tell me if I could apply for permanent r...|[someone, tell, apply, permanent, residence, came, u...|\n",
      "|Do you believe in Astrology?If so, Cick on my name a...|[believe, astrology, cick, name, see, questions, ans...|\n",
      "+-------------------------------------------------------+-------------------------------------------------------+\n",
      "only showing top 5 rows\n",
      "\n"
     ]
    }
   ],
   "source": [
    "remover = StopWordsRemover(inputCol=\"Tokens\", outputCol=\"StopTokens\")\n",
    "df_removed = remover.transform(df_regex_token)\n",
    "df_removed.select(['Document', 'StopTokens']).show(5,truncate=55)"
   ]
  },
  {
   "cell_type": "markdown",
   "id": "9bff9695-12dc-4e1e-8b4c-aab6c9ba626e",
   "metadata": {},
   "source": [
    "#### NGrams"
   ]
  },
  {
   "cell_type": "code",
   "execution_count": 12,
   "id": "2419a513-2598-4be4-85ec-bc2f53fe02e7",
   "metadata": {
    "execution": {
     "iopub.execute_input": "2022-12-12T17:27:07.249823Z",
     "iopub.status.busy": "2022-12-12T17:27:07.249823Z",
     "iopub.status.idle": "2022-12-12T17:27:07.452824Z",
     "shell.execute_reply": "2022-12-12T17:27:07.451824Z",
     "shell.execute_reply.started": "2022-12-12T17:27:07.249823Z"
    },
    "tags": []
   },
   "outputs": [
    {
     "name": "stdout",
     "output_type": "stream",
     "text": [
      "+-------------------------------------------------------+-------------------------------------------------------+\n",
      "|                                               Document|                                                 NGrams|\n",
      "+-------------------------------------------------------+-------------------------------------------------------+\n",
      "|I'm trying to find the Url for this website similar ...|[i m, m trying, trying to, to find, find the, the ur...|\n",
      "|In baseball game or just baseball,, wat does MRP and...|[in baseball, baseball game, game or, or just, just ...|\n",
      "|how can i make my incoming mails auto forwards to an...|[how can, can i, i make, make my, my incoming, incom...|\n",
      "|Can someone tell me if I could apply for permanent r...|[can someone, someone tell, tell me, me if, if i, i ...|\n",
      "|Do you believe in Astrology?If so, Cick on my name a...|[do you, you believe, believe in, in astrology, astr...|\n",
      "+-------------------------------------------------------+-------------------------------------------------------+\n",
      "only showing top 5 rows\n",
      "\n"
     ]
    }
   ],
   "source": [
    "ngram = NGram(n=2, inputCol=\"Tokens\", outputCol=\"NGrams\")\n",
    "\n",
    "df_ngrams = ngram.transform(df_removed)\n",
    "\n",
    "df_ngrams.select(['Document', 'NGrams']).show(5,truncate=55)"
   ]
  },
  {
   "cell_type": "code",
   "execution_count": 13,
   "id": "6f3aba4e-4dea-4ea9-be9a-b065e5b9818e",
   "metadata": {
    "execution": {
     "iopub.execute_input": "2022-12-12T17:27:07.457824Z",
     "iopub.status.busy": "2022-12-12T17:27:07.456825Z",
     "iopub.status.idle": "2022-12-12T17:27:07.722823Z",
     "shell.execute_reply": "2022-12-12T17:27:07.721822Z",
     "shell.execute_reply.started": "2022-12-12T17:27:07.457824Z"
    },
    "tags": []
   },
   "outputs": [
    {
     "name": "stdout",
     "output_type": "stream",
     "text": [
      "+-------------------------------------------------------+-------------------------------------------------------+\n",
      "|                                               Document|                                             StopNGrams|\n",
      "+-------------------------------------------------------+-------------------------------------------------------+\n",
      "|I'm trying to find the Url for this website similar ...|[i m, m trying, trying to, to find, find the, the ur...|\n",
      "|In baseball game or just baseball,, wat does MRP and...|[in baseball, baseball game, game or, or just, just ...|\n",
      "|how can i make my incoming mails auto forwards to an...|[how can, can i, i make, make my, my incoming, incom...|\n",
      "|Can someone tell me if I could apply for permanent r...|[can someone, someone tell, tell me, me if, if i, i ...|\n",
      "|Do you believe in Astrology?If so, Cick on my name a...|[do you, you believe, believe in, in astrology, astr...|\n",
      "+-------------------------------------------------------+-------------------------------------------------------+\n",
      "only showing top 5 rows\n",
      "\n"
     ]
    }
   ],
   "source": [
    "remover = StopWordsRemover(inputCol=\"NGrams\", outputCol=\"StopNGrams\")\n",
    "df_removed = remover.transform(df_ngrams)\n",
    "df_removed.select(['Document', 'StopNGrams']).show(5,truncate=55)"
   ]
  },
  {
   "cell_type": "markdown",
   "id": "e0dc6dc0-f17d-40a7-9dbd-b536aa15b91f",
   "metadata": {},
   "source": [
    "### Full Processing Pipeline"
   ]
  },
  {
   "cell_type": "code",
   "execution_count": 14,
   "id": "cf21d413-b838-4044-9757-98bdcf899f37",
   "metadata": {
    "execution": {
     "iopub.execute_input": "2022-12-12T17:27:07.724824Z",
     "iopub.status.busy": "2022-12-12T17:27:07.723823Z",
     "iopub.status.idle": "2022-12-12T17:27:07.817828Z",
     "shell.execute_reply": "2022-12-12T17:27:07.815837Z",
     "shell.execute_reply.started": "2022-12-12T17:27:07.724824Z"
    },
    "tags": []
   },
   "outputs": [],
   "source": [
    "reg_tokenizer = RegexTokenizer(inputCol='Document', outputCol='Tokens', pattern='\\\\W')\n",
    "stop_word_remover = StopWordsRemover(inputCol='Tokens', outputCol='StopTokens')\n",
    "count_vec = CountVectorizer(inputCol='StopTokens', outputCol='CountVec')\n",
    "idf = IDF(inputCol='CountVec', outputCol='TF-IDF')\n",
    "feature = VectorAssembler(inputCols=['TF-IDF', 'Length'], outputCol='Features')"
   ]
  },
  {
   "cell_type": "code",
   "execution_count": 15,
   "id": "295979b2-b37c-4eaf-9d38-b8a53585b453",
   "metadata": {
    "execution": {
     "iopub.execute_input": "2022-12-12T17:27:07.821833Z",
     "iopub.status.busy": "2022-12-12T17:27:07.819836Z",
     "iopub.status.idle": "2022-12-12T17:27:07.832829Z",
     "shell.execute_reply": "2022-12-12T17:27:07.831825Z",
     "shell.execute_reply.started": "2022-12-12T17:27:07.821833Z"
    },
    "tags": []
   },
   "outputs": [],
   "source": [
    "pipeline = Pipeline(stages=[\n",
    "    reg_tokenizer,\n",
    "    stop_word_remover,\n",
    "    count_vec,\n",
    "    idf,\n",
    "    feature\n",
    "])"
   ]
  },
  {
   "cell_type": "code",
   "execution_count": 16,
   "id": "c2504b19-958c-4af2-8482-03864c677fd6",
   "metadata": {
    "execution": {
     "iopub.execute_input": "2022-12-12T17:27:07.835831Z",
     "iopub.status.busy": "2022-12-12T17:27:07.834827Z",
     "iopub.status.idle": "2022-12-12T17:27:30.709760Z",
     "shell.execute_reply": "2022-12-12T17:27:30.708760Z",
     "shell.execute_reply.started": "2022-12-12T17:27:07.835831Z"
    },
    "tags": []
   },
   "outputs": [],
   "source": [
    "pipeline = pipeline.fit(df)"
   ]
  },
  {
   "cell_type": "code",
   "execution_count": 17,
   "id": "ab0f4620-246a-40c1-9716-04141cc1fa00",
   "metadata": {
    "execution": {
     "iopub.execute_input": "2022-12-12T17:27:30.710758Z",
     "iopub.status.busy": "2022-12-12T17:27:30.710758Z",
     "iopub.status.idle": "2022-12-12T17:27:31.279763Z",
     "shell.execute_reply": "2022-12-12T17:27:31.278761Z",
     "shell.execute_reply.started": "2022-12-12T17:27:30.710758Z"
    },
    "tags": []
   },
   "outputs": [],
   "source": [
    "df_processed = pipeline.transform(df)"
   ]
  },
  {
   "cell_type": "code",
   "execution_count": 26,
   "id": "2027bd77-9754-4c30-8363-1583ea32db64",
   "metadata": {
    "execution": {
     "iopub.execute_input": "2022-12-12T17:36:55.846705Z",
     "iopub.status.busy": "2022-12-12T17:36:55.844698Z",
     "iopub.status.idle": "2022-12-12T17:36:55.852699Z",
     "shell.execute_reply": "2022-12-12T17:36:55.851698Z",
     "shell.execute_reply.started": "2022-12-12T17:36:55.846705Z"
    },
    "tags": []
   },
   "outputs": [],
   "source": [
    "feature_size = udf(lambda x: size(x), IntegerType())"
   ]
  },
  {
   "cell_type": "code",
   "execution_count": 25,
   "id": "ded7d702-3693-470b-bb86-f2ee3738fbaa",
   "metadata": {
    "execution": {
     "iopub.execute_input": "2022-12-12T17:34:11.361452Z",
     "iopub.status.busy": "2022-12-12T17:34:11.360453Z",
     "iopub.status.idle": "2022-12-12T17:34:11.386454Z",
     "shell.execute_reply": "2022-12-12T17:34:11.385448Z",
     "shell.execute_reply.started": "2022-12-12T17:34:11.361452Z"
    },
    "tags": []
   },
   "outputs": [
    {
     "data": {
      "text/plain": [
       "Column<'Features'>"
      ]
     },
     "execution_count": 25,
     "metadata": {},
     "output_type": "execute_result"
    }
   ],
   "source": [
    "df_processed['Features']"
   ]
  },
  {
   "cell_type": "code",
   "execution_count": 18,
   "id": "90282d9b-c7ed-4e3f-8176-b67e8d472e43",
   "metadata": {
    "execution": {
     "iopub.execute_input": "2022-12-12T17:27:31.283760Z",
     "iopub.status.busy": "2022-12-12T17:27:31.281761Z",
     "iopub.status.idle": "2022-12-12T17:27:32.353339Z",
     "shell.execute_reply": "2022-12-12T17:27:32.352351Z",
     "shell.execute_reply.started": "2022-12-12T17:27:31.282760Z"
    },
    "tags": []
   },
   "outputs": [
    {
     "name": "stdout",
     "output_type": "stream",
     "text": [
      "+--------------------+-----+-----+------+--------------------+--------------------+--------------------+--------------------+--------------------+\n",
      "|            Document|  Set|Label|Length|              Tokens|          StopTokens|            CountVec|              TF-IDF|            Features|\n",
      "+--------------------+-----+-----+------+--------------------+--------------------+--------------------+--------------------+--------------------+\n",
      "|I'm trying to fin...|Train|    7|   112|[i, m, trying, to...|[m, trying, find,...|(262144,[9,14,19,...|(262144,[9,14,19,...|(262145,[9,14,19,...|\n",
      "|In baseball game ...|Train|    6|   672|[in, baseball, ga...|[baseball, game, ...|(262144,[0,3,8,18...|(262144,[0,3,8,18...|(262145,[0,3,8,18...|\n",
      "|how can i make my...|Train|    5|   197|[how, can, i, mak...|[make, incoming, ...|(262144,[11,16,36...|(262144,[11,16,36...|(262145,[11,16,36...|\n",
      "|Can someone tell ...|Train|   10|  1256|[can, someone, te...|[someone, tell, a...|(262144,[0,1,4,8,...|(262144,[0,1,4,8,...|(262145,[0,1,4,8,...|\n",
      "|Do you believe in...|Train|    8|   758|[do, you, believe...|[believe, astrolo...|(262144,[1,2,6,15...|(262144,[1,2,6,15...|(262145,[1,2,6,15...|\n",
      "+--------------------+-----+-----+------+--------------------+--------------------+--------------------+--------------------+--------------------+\n",
      "only showing top 5 rows\n",
      "\n"
     ]
    }
   ],
   "source": [
    "df_processed.show(5)"
   ]
  },
  {
   "cell_type": "code",
   "execution_count": 19,
   "id": "86e4111f-4393-41f3-8d06-13b2929040e7",
   "metadata": {
    "execution": {
     "iopub.execute_input": "2022-12-12T17:27:32.355340Z",
     "iopub.status.busy": "2022-12-12T17:27:32.354338Z",
     "iopub.status.idle": "2022-12-12T17:27:32.416340Z",
     "shell.execute_reply": "2022-12-12T17:27:32.415337Z",
     "shell.execute_reply.started": "2022-12-12T17:27:32.355340Z"
    },
    "tags": []
   },
   "outputs": [],
   "source": [
    "w = Window().orderBy(lit('A'))\n",
    "df_processed = df_processed.withColumn(\"RowNum\", row_number().over(w))"
   ]
  },
  {
   "cell_type": "code",
   "execution_count": 20,
   "id": "e91b8ea4-7811-414b-8cfc-e6deccaaa539",
   "metadata": {
    "execution": {
     "iopub.execute_input": "2022-12-12T17:27:32.418339Z",
     "iopub.status.busy": "2022-12-12T17:27:32.417339Z",
     "iopub.status.idle": "2022-12-12T17:27:32.464341Z",
     "shell.execute_reply": "2022-12-12T17:27:32.463338Z",
     "shell.execute_reply.started": "2022-12-12T17:27:32.418339Z"
    },
    "tags": []
   },
   "outputs": [],
   "source": [
    "df_train = df_processed.where(col(\"RowNum\").between(1, 100)).select('Features', 'Label')\n",
    "df_test = df_processed.where(col(\"RowNum\").between(190001, 190010)).select('Features', 'Label')"
   ]
  },
  {
   "cell_type": "code",
   "execution_count": 21,
   "id": "dba9335d-0cf6-42af-9f53-e1da2a2b0f2f",
   "metadata": {
    "execution": {
     "iopub.execute_input": "2022-12-12T17:27:32.466338Z",
     "iopub.status.busy": "2022-12-12T17:27:32.465338Z",
     "iopub.status.idle": "2022-12-12T17:27:35.253345Z",
     "shell.execute_reply": "2022-12-12T17:27:35.252342Z",
     "shell.execute_reply.started": "2022-12-12T17:27:32.466338Z"
    },
    "tags": []
   },
   "outputs": [
    {
     "name": "stdout",
     "output_type": "stream",
     "text": [
      "train: 100 and test: 10\n"
     ]
    }
   ],
   "source": [
    "print(f'train: {df_train.count()} and test: {df_test.count()}')"
   ]
  },
  {
   "cell_type": "code",
   "execution_count": 22,
   "id": "de6e3c53-151b-4e3e-a87f-1b97a3d418af",
   "metadata": {
    "execution": {
     "iopub.execute_input": "2022-12-12T17:27:35.256343Z",
     "iopub.status.busy": "2022-12-12T17:27:35.255345Z",
     "iopub.status.idle": "2022-12-12T17:27:55.918505Z",
     "shell.execute_reply": "2022-12-12T17:27:55.917500Z",
     "shell.execute_reply.started": "2022-12-12T17:27:35.256343Z"
    },
    "tags": []
   },
   "outputs": [
    {
     "name": "stdout",
     "output_type": "stream",
     "text": [
      "+--------------------+-----+\n",
      "|            Features|Label|\n",
      "+--------------------+-----+\n",
      "|(262145,[9,14,19,...|    7|\n",
      "|(262145,[0,3,8,18...|    6|\n",
      "|(262145,[11,16,36...|    5|\n",
      "|(262145,[0,1,4,8,...|   10|\n",
      "|(262145,[1,2,6,15...|    8|\n",
      "+--------------------+-----+\n",
      "only showing top 5 rows\n",
      "\n"
     ]
    }
   ],
   "source": [
    "df_train.show(5)"
   ]
  },
  {
   "cell_type": "markdown",
   "id": "44a309b3-239d-42b4-ad03-215f07a55034",
   "metadata": {},
   "source": [
    "### Classification - SVM"
   ]
  },
  {
   "cell_type": "code",
   "execution_count": 23,
   "id": "215dded0-d8e0-45bf-97d2-01b35f175dfe",
   "metadata": {
    "execution": {
     "iopub.execute_input": "2022-12-12T17:27:55.920500Z",
     "iopub.status.busy": "2022-12-12T17:27:55.919497Z",
     "iopub.status.idle": "2022-12-12T17:27:55.965496Z",
     "shell.execute_reply": "2022-12-12T17:27:55.964496Z",
     "shell.execute_reply.started": "2022-12-12T17:27:55.920500Z"
    },
    "tags": []
   },
   "outputs": [],
   "source": [
    "svm = LinearSVC()\n",
    "ovr = OneVsRest(classifier=svm, featuresCol='Features', labelCol='Label', parallelism=10)"
   ]
  },
  {
   "cell_type": "code",
   "execution_count": 1,
   "id": "cafeefd4-6f77-441d-82ec-469cc119d21c",
   "metadata": {
    "execution": {
     "iopub.execute_input": "2022-12-12T19:42:27.933208Z",
     "iopub.status.busy": "2022-12-12T19:42:27.932218Z",
     "iopub.status.idle": "2022-12-12T19:42:27.950205Z",
     "shell.execute_reply": "2022-12-12T19:42:27.949828Z",
     "shell.execute_reply.started": "2022-12-12T19:42:27.932218Z"
    },
    "tags": []
   },
   "outputs": [],
   "source": [
    "#ovrModel = ovr.fit(df_train)\n",
    "#predictions = ovrModel.transform(df_test)"
   ]
  },
  {
   "cell_type": "code",
   "execution_count": null,
   "id": "39f8e87c-e6bf-4681-8581-cefafcb22155",
   "metadata": {
    "execution": {
     "iopub.status.busy": "2022-12-12T17:31:40.108322Z",
     "iopub.status.idle": "2022-12-12T17:31:40.108322Z",
     "shell.execute_reply": "2022-12-12T17:31:40.108322Z",
     "shell.execute_reply.started": "2022-12-12T17:31:40.108322Z"
    },
    "tags": []
   },
   "outputs": [],
   "source": [
    "evaluator = MulticlassClassificationEvaluator()"
   ]
  }
 ],
 "metadata": {
  "kernelspec": {
   "display_name": "Python 3 (ipykernel)",
   "language": "python",
   "name": "python3"
  },
  "language_info": {
   "codemirror_mode": {
    "name": "ipython",
    "version": 3
   },
   "file_extension": ".py",
   "mimetype": "text/x-python",
   "name": "python",
   "nbconvert_exporter": "python",
   "pygments_lexer": "ipython3",
   "version": "3.8.15"
  }
 },
 "nbformat": 4,
 "nbformat_minor": 5
}
