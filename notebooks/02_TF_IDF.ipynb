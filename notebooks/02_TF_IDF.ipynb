{
 "cells": [
  {
   "cell_type": "markdown",
   "id": "7ee38ba4-dc13-46b7-8f50-94f88b69dc52",
   "metadata": {},
   "source": [
    "# Yahoo Topic Classification"
   ]
  },
  {
   "cell_type": "markdown",
   "id": "0ff719a6-166a-41bb-acf3-8be5d0f2409c",
   "metadata": {
    "execution": {
     "iopub.execute_input": "2022-11-24T10:38:08.745184Z",
     "iopub.status.busy": "2022-11-24T10:38:08.743460Z",
     "iopub.status.idle": "2022-11-24T10:38:09.328424Z",
     "shell.execute_reply": "2022-11-24T10:38:09.325422Z",
     "shell.execute_reply.started": "2022-11-24T10:38:08.744184Z"
    },
    "tags": []
   },
   "source": [
    "## Setting up Libraries and Environments"
   ]
  },
  {
   "cell_type": "code",
   "execution_count": 1,
   "id": "cbb9a2b7-d4ec-4caf-bf1a-770986bfe332",
   "metadata": {
    "execution": {
     "iopub.execute_input": "2022-12-13T16:05:39.550022Z",
     "iopub.status.busy": "2022-12-13T16:05:39.549022Z",
     "iopub.status.idle": "2022-12-13T16:05:40.509782Z",
     "shell.execute_reply": "2022-12-13T16:05:40.508938Z",
     "shell.execute_reply.started": "2022-12-13T16:05:39.550022Z"
    },
    "tags": []
   },
   "outputs": [],
   "source": [
    "# Basic\n",
    "import pandas as pd\n",
    "import numpy as np\n",
    "import findspark\n",
    "import pyspark\n",
    "from pyspark import SparkFiles\n",
    "\n",
    "# Data Manipulation\n",
    "from pyspark.sql import SparkSession\n",
    "from pyspark.sql.types import *\n",
    "from pyspark.sql.functions import *\n",
    "from pyspark.sql.window import Window\n",
    "\n",
    "# ML\n",
    "from pyspark.ml.feature import *\n",
    "from pyspark.ml.linalg import Vector\n",
    "from pyspark.ml import Pipeline\n",
    "from pyspark.ml.classification import LinearSVC, OneVsRest, LogisticRegression\n",
    "from pyspark.ml.evaluation import MulticlassClassificationEvaluator"
   ]
  },
  {
   "cell_type": "code",
   "execution_count": 2,
   "id": "b4a745df-3b53-44d6-b49a-f3656dac14df",
   "metadata": {
    "execution": {
     "iopub.execute_input": "2022-12-13T16:05:40.510734Z",
     "iopub.status.busy": "2022-12-13T16:05:40.510734Z",
     "iopub.status.idle": "2022-12-13T16:05:44.463480Z",
     "shell.execute_reply": "2022-12-13T16:05:44.462711Z",
     "shell.execute_reply.started": "2022-12-13T16:05:40.510734Z"
    },
    "tags": []
   },
   "outputs": [],
   "source": [
    "findspark.init()\n",
    "\n",
    "spark = SparkSession.builder.appName('SparkByExamples.com').getOrCreate()"
   ]
  },
  {
   "cell_type": "markdown",
   "id": "97d591fd-51c5-46bc-987f-6ac8ca5360af",
   "metadata": {
    "execution": {
     "iopub.execute_input": "2022-11-25T15:12:38.695557Z",
     "iopub.status.busy": "2022-11-25T15:12:38.695557Z",
     "iopub.status.idle": "2022-11-25T15:12:42.365718Z",
     "shell.execute_reply": "2022-11-25T15:12:42.364754Z",
     "shell.execute_reply.started": "2022-11-25T15:12:38.695557Z"
    },
    "tags": []
   },
   "source": [
    "## Data Import"
   ]
  },
  {
   "cell_type": "code",
   "execution_count": 3,
   "id": "f51b2065-0187-468d-8c89-4a1c8e990f2e",
   "metadata": {
    "execution": {
     "iopub.execute_input": "2022-12-13T16:05:44.465251Z",
     "iopub.status.busy": "2022-12-13T16:05:44.464478Z",
     "iopub.status.idle": "2022-12-13T16:05:44.479478Z",
     "shell.execute_reply": "2022-12-13T16:05:44.478548Z",
     "shell.execute_reply.started": "2022-12-13T16:05:44.465251Z"
    },
    "tags": []
   },
   "outputs": [],
   "source": [
    "schema_list = [\n",
    "    StructField('Label', StringType(), False), \n",
    "    StructField('Title', StringType(), True), \n",
    "    StructField('Content', StringType(), True),\n",
    "    StructField('Answer', StringType(), True),\n",
    "    StructField('Set', StringType(), True)\n",
    "]\n",
    "schema_df = StructType(fields=schema_list)"
   ]
  },
  {
   "cell_type": "code",
   "execution_count": 4,
   "id": "5d88c51c-f25e-4c4e-98af-592fcf95e1ef",
   "metadata": {
    "execution": {
     "iopub.execute_input": "2022-12-13T16:05:44.482477Z",
     "iopub.status.busy": "2022-12-13T16:05:44.481568Z",
     "iopub.status.idle": "2022-12-13T16:05:47.011818Z",
     "shell.execute_reply": "2022-12-13T16:05:47.010993Z",
     "shell.execute_reply.started": "2022-12-13T16:05:44.482477Z"
    },
    "tags": []
   },
   "outputs": [],
   "source": [
    "# Import Data from reduced folders\n",
    "df = spark.read.csv(\"../data/reduced\", schema=schema_df)"
   ]
  },
  {
   "cell_type": "markdown",
   "id": "c15f0701-ee21-467d-9b24-3e666e211e1f",
   "metadata": {},
   "source": [
    "## Data Preview\n",
    "This includes some basic view of the data before processing"
   ]
  },
  {
   "cell_type": "code",
   "execution_count": 5,
   "id": "eee87c20-e092-4c65-b2b8-56f6742f2dbe",
   "metadata": {
    "execution": {
     "iopub.execute_input": "2022-12-13T16:05:47.012819Z",
     "iopub.status.busy": "2022-12-13T16:05:47.012819Z",
     "iopub.status.idle": "2022-12-13T16:05:48.636128Z",
     "shell.execute_reply": "2022-12-13T16:05:48.635199Z",
     "shell.execute_reply.started": "2022-12-13T16:05:47.012819Z"
    },
    "tags": []
   },
   "outputs": [
    {
     "name": "stdout",
     "output_type": "stream",
     "text": [
      "+-----+--------------------+--------+--------------------+-----+\n",
      "|Label|               Title| Content|              Answer|  Set|\n",
      "+-----+--------------------+--------+--------------------+-----+\n",
      "|    1|what is the frenc...|    null|Are you talking a...|Train|\n",
      "|    2|Do we realy need ...|    null|When surfaces are...|Train|\n",
      "|    5|How can I save my...|    null|\"Its 9 way to hac...|Train|\n",
      "|    7|I'm trying to fin...|help me.|        tagworld.com|Train|\n",
      "|    7|define Stability ...|    null|A Linear Time Inv...|Train|\n",
      "+-----+--------------------+--------+--------------------+-----+\n",
      "only showing top 5 rows\n",
      "\n"
     ]
    }
   ],
   "source": [
    "df.show(5)"
   ]
  },
  {
   "cell_type": "code",
   "execution_count": 6,
   "id": "f042ac05-7a79-40b4-82ca-3c8d33fa61d3",
   "metadata": {
    "execution": {
     "iopub.execute_input": "2022-12-13T16:05:48.637133Z",
     "iopub.status.busy": "2022-12-13T16:05:48.637133Z",
     "iopub.status.idle": "2022-12-13T16:05:56.185657Z",
     "shell.execute_reply": "2022-12-13T16:05:56.184455Z",
     "shell.execute_reply.started": "2022-12-13T16:05:48.637133Z"
    },
    "tags": []
   },
   "outputs": [
    {
     "name": "stdout",
     "output_type": "stream",
     "text": [
      "+-------+-----------------+--------------------+-----------------------------------+----------------------+------+\n",
      "|summary|            Label|               Title|                            Content|                Answer|   Set|\n",
      "+-------+-----------------+--------------------+-----------------------------------+----------------------+------+\n",
      "|  count|           364615|              364615|                             200607|                357904|364615|\n",
      "|   mean|5.494765711778177|                null|                           Infinity|              Infinity|  null|\n",
      "| stddev|2.872483870744461|                null|                                NaN|                   NaN|  null|\n",
      "|    min|                1|    ! only 4 girls!?|                                  !|  ! - 3 - 7 . Even ...|  Test|\n",
      "|    max|                9|Describe in your...|黙れこのくそやろう\\nむかつくんだ...|혼돈\\nhttp://dictio...| Train|\n",
      "+-------+-----------------+--------------------+-----------------------------------+----------------------+------+\n",
      "\n"
     ]
    }
   ],
   "source": [
    "df.describe().show()"
   ]
  },
  {
   "cell_type": "markdown",
   "id": "7baa9206-ef31-4de3-b2e0-aec5d148e249",
   "metadata": {},
   "source": [
    "## Data Processing"
   ]
  },
  {
   "cell_type": "markdown",
   "id": "0883b5f8-d895-470a-9310-1b632abeb35f",
   "metadata": {
    "execution": {
     "iopub.execute_input": "2022-12-11T15:11:29.355690Z",
     "iopub.status.busy": "2022-12-11T15:11:29.354796Z",
     "iopub.status.idle": "2022-12-11T15:11:29.362691Z",
     "shell.execute_reply": "2022-12-11T15:11:29.361689Z",
     "shell.execute_reply.started": "2022-12-11T15:11:29.355690Z"
    },
    "tags": []
   },
   "source": [
    "### Steps to Take\n",
    "- Merge Test and Train\n",
    "- Rename columns\n",
    "- Change data types\n",
    "- Tokenization\n",
    "- Stop Word Removal\n",
    "- NGram"
   ]
  },
  {
   "cell_type": "markdown",
   "id": "fe89d40c-1e5c-4f05-b860-190e90ce6be5",
   "metadata": {},
   "source": [
    "#### Column Concatenation"
   ]
  },
  {
   "cell_type": "code",
   "execution_count": 7,
   "id": "1a597a0c-ec63-41b2-8cb1-a3ba11a8b757",
   "metadata": {
    "execution": {
     "iopub.execute_input": "2022-12-13T16:05:56.187657Z",
     "iopub.status.busy": "2022-12-13T16:05:56.186657Z",
     "iopub.status.idle": "2022-12-13T16:05:56.247651Z",
     "shell.execute_reply": "2022-12-13T16:05:56.247651Z",
     "shell.execute_reply.started": "2022-12-13T16:05:56.187657Z"
    },
    "tags": []
   },
   "outputs": [],
   "source": [
    "df = df.fillna('')"
   ]
  },
  {
   "cell_type": "code",
   "execution_count": 8,
   "id": "35ed22f5-24e9-4f72-a338-d95ec2c0102e",
   "metadata": {
    "execution": {
     "iopub.execute_input": "2022-12-13T16:05:56.249653Z",
     "iopub.status.busy": "2022-12-13T16:05:56.249653Z",
     "iopub.status.idle": "2022-12-13T16:05:56.512194Z",
     "shell.execute_reply": "2022-12-13T16:05:56.511191Z",
     "shell.execute_reply.started": "2022-12-13T16:05:56.249653Z"
    },
    "tags": []
   },
   "outputs": [
    {
     "name": "stdout",
     "output_type": "stream",
     "text": [
      "+--------------------+-----+-----+\n",
      "|            Document|  Set|Label|\n",
      "+--------------------+-----+-----+\n",
      "|what is the frenc...|Train|    1|\n",
      "|Do we realy need ...|Train|    2|\n",
      "|How can I save my...|Train|    5|\n",
      "|I'm trying to fin...|Train|    7|\n",
      "|define Stability ...|Train|    7|\n",
      "+--------------------+-----+-----+\n",
      "only showing top 5 rows\n",
      "\n"
     ]
    }
   ],
   "source": [
    "df = df.withColumn('Document', concat(df['Title'], df['Content'], df['Answer'])).select(['Document', 'Set', 'Label'])\n",
    "df.show(5)"
   ]
  },
  {
   "cell_type": "code",
   "execution_count": 9,
   "id": "12cd0dbb-e291-4474-8ff1-b68c483a7851",
   "metadata": {
    "execution": {
     "iopub.execute_input": "2022-12-13T16:05:56.514196Z",
     "iopub.status.busy": "2022-12-13T16:05:56.514196Z",
     "iopub.status.idle": "2022-12-13T16:05:59.636708Z",
     "shell.execute_reply": "2022-12-13T16:05:59.635706Z",
     "shell.execute_reply.started": "2022-12-13T16:05:56.514196Z"
    },
    "tags": []
   },
   "outputs": [],
   "source": [
    "before = df.count()\n",
    "before_train = df.filter('Set == \"Train\"').count()\n",
    "before_test = df.filter('Set == \"Test\"').count()\n",
    "df = df.filter('Document is NOT NULL').withColumn('Length', length(df['Document']))\n",
    "after = df.count()\n",
    "after_train = df.filter('Set == \"Train\"').count()\n",
    "after_test = df.filter('Set == \"Test\"').count()"
   ]
  },
  {
   "cell_type": "code",
   "execution_count": 10,
   "id": "d6b1b6e7-73cf-4b96-bf71-b9348229cf42",
   "metadata": {
    "execution": {
     "iopub.execute_input": "2022-12-13T16:05:59.638713Z",
     "iopub.status.busy": "2022-12-13T16:05:59.637708Z",
     "iopub.status.idle": "2022-12-13T16:06:00.666897Z",
     "shell.execute_reply": "2022-12-13T16:06:00.665896Z",
     "shell.execute_reply.started": "2022-12-13T16:05:59.638713Z"
    },
    "tags": []
   },
   "outputs": [
    {
     "name": "stdout",
     "output_type": "stream",
     "text": [
      "There were 349605 training samples and 15010 test samples\n",
      "0 rows were dropped, 0 training samples and 0 test samples.\n",
      "There are now 349605 training samples and 15010 test samples\n"
     ]
    }
   ],
   "source": [
    "print(f'''There were {before_train} training samples and {before_test} test samples''')\n",
    "print(f'{before - after} rows were dropped, {before_train - after_train} training samples and {before_test - after_test} test samples.')\n",
    "print(f'''There are now {df.filter('Set == \"Train\"').count()} training samples and {df.filter('Set == \"Test\"').count()} test samples''')"
   ]
  },
  {
   "cell_type": "markdown",
   "id": "bd2cd1f7-f5f1-4818-8592-be3ae06b18cb",
   "metadata": {},
   "source": [
    "#### Tokenization (Regex)"
   ]
  },
  {
   "cell_type": "code",
   "execution_count": 11,
   "id": "d8a5091d-2742-4ae8-92c3-f9486967f37d",
   "metadata": {
    "execution": {
     "iopub.execute_input": "2022-12-13T16:06:00.667897Z",
     "iopub.status.busy": "2022-12-13T16:06:00.667897Z",
     "iopub.status.idle": "2022-12-13T16:06:01.247132Z",
     "shell.execute_reply": "2022-12-13T16:06:01.246350Z",
     "shell.execute_reply.started": "2022-12-13T16:06:00.667897Z"
    },
    "tags": []
   },
   "outputs": [
    {
     "name": "stdout",
     "output_type": "stream",
     "text": [
      "+----------------------------------------------------------------------------------------------------+\n",
      "|                                                                                              Tokens|\n",
      "+----------------------------------------------------------------------------------------------------+\n",
      "|               [what, is, the, french, name, for, arm, cover, are, you, talking, about, a, gauntlet]|\n",
      "|[do, we, realy, need, oil, to, run, machines, when, surfaces, are, rubbed, against, each, other, ...|\n",
      "|[how, can, i, save, my, yahoo, id, to, the, hackers, tell, me, please, how, the, hacker, attack, ...|\n",
      "|[i, m, trying, to, find, the, url, for, this, website, similar, to, myspace, called, tag, how, do...|\n",
      "|[define, stability, of, linear, time, invariant, systems, a, linear, time, invariant, system, lti...|\n",
      "+----------------------------------------------------------------------------------------------------+\n",
      "only showing top 5 rows\n",
      "\n"
     ]
    }
   ],
   "source": [
    "regex_tokenizer = RegexTokenizer(inputCol='Document', outputCol='Tokens', pattern='\\\\W')\n",
    "\n",
    "df_regex_token = regex_tokenizer.transform(df)\n",
    "\n",
    "df_regex_token.select('Tokens').show(5, truncate=100)"
   ]
  },
  {
   "cell_type": "markdown",
   "id": "bf77a77a-d338-4f09-97a5-83eb6fa2f5a2",
   "metadata": {},
   "source": [
    "#### Stop Word Removal"
   ]
  },
  {
   "cell_type": "code",
   "execution_count": 12,
   "id": "538affdc-7481-4378-8913-d752a76406d6",
   "metadata": {
    "execution": {
     "iopub.execute_input": "2022-12-13T16:06:01.248967Z",
     "iopub.status.busy": "2022-12-13T16:06:01.248967Z",
     "iopub.status.idle": "2022-12-13T16:06:01.626055Z",
     "shell.execute_reply": "2022-12-13T16:06:01.625054Z",
     "shell.execute_reply.started": "2022-12-13T16:06:01.248967Z"
    },
    "tags": []
   },
   "outputs": [
    {
     "name": "stdout",
     "output_type": "stream",
     "text": [
      "+-------------------------------------------------------+-------------------------------------------------------+\n",
      "|                                               Document|                                             StopTokens|\n",
      "+-------------------------------------------------------+-------------------------------------------------------+\n",
      "|what is the french name for arm cover?Are you talkin...|          [french, name, arm, cover, talking, gauntlet]|\n",
      "|Do we realy need Oil to run machines?When surfaces a...|[realy, need, oil, run, machines, surfaces, rubbed, ...|\n",
      "|How can I save my yahoo id to the hackers?Tell me pl...|[save, yahoo, id, hackers, tell, please, hacker, att...|\n",
      "|I'm trying to find the Url for this website similar ...|[m, trying, find, url, website, similar, myspace, ca...|\n",
      "|define Stability of Linear Time-Invariant Systems?A ...|[define, stability, linear, time, invariant, systems...|\n",
      "+-------------------------------------------------------+-------------------------------------------------------+\n",
      "only showing top 5 rows\n",
      "\n"
     ]
    }
   ],
   "source": [
    "remover = StopWordsRemover(inputCol=\"Tokens\", outputCol=\"StopTokens\")\n",
    "df_removed = remover.transform(df_regex_token)\n",
    "df_removed.select(['Document', 'StopTokens']).show(5,truncate=55)"
   ]
  },
  {
   "cell_type": "markdown",
   "id": "9bff9695-12dc-4e1e-8b4c-aab6c9ba626e",
   "metadata": {},
   "source": [
    "#### NGrams"
   ]
  },
  {
   "cell_type": "code",
   "execution_count": 13,
   "id": "2419a513-2598-4be4-85ec-bc2f53fe02e7",
   "metadata": {
    "execution": {
     "iopub.execute_input": "2022-12-13T16:06:01.634060Z",
     "iopub.status.busy": "2022-12-13T16:06:01.633055Z",
     "iopub.status.idle": "2022-12-13T16:06:01.878085Z",
     "shell.execute_reply": "2022-12-13T16:06:01.877166Z",
     "shell.execute_reply.started": "2022-12-13T16:06:01.634060Z"
    },
    "tags": []
   },
   "outputs": [
    {
     "name": "stdout",
     "output_type": "stream",
     "text": [
      "+-------------------------------------------------------+-------------------------------------------------------+\n",
      "|                                               Document|                                                 NGrams|\n",
      "+-------------------------------------------------------+-------------------------------------------------------+\n",
      "|what is the french name for arm cover?Are you talkin...|[what is, is the, the french, french name, name for,...|\n",
      "|Do we realy need Oil to run machines?When surfaces a...|[do we, we realy, realy need, need oil, oil to, to r...|\n",
      "|How can I save my yahoo id to the hackers?Tell me pl...|[how can, can i, i save, save my, my yahoo, yahoo id...|\n",
      "|I'm trying to find the Url for this website similar ...|[i m, m trying, trying to, to find, find the, the ur...|\n",
      "|define Stability of Linear Time-Invariant Systems?A ...|[define stability, stability of, of linear, linear t...|\n",
      "+-------------------------------------------------------+-------------------------------------------------------+\n",
      "only showing top 5 rows\n",
      "\n"
     ]
    }
   ],
   "source": [
    "ngram = NGram(n=2, inputCol=\"Tokens\", outputCol=\"NGrams\")\n",
    "\n",
    "df_ngrams = ngram.transform(df_removed)\n",
    "\n",
    "df_ngrams.select(['Document', 'NGrams']).show(5,truncate=55)"
   ]
  },
  {
   "cell_type": "code",
   "execution_count": 14,
   "id": "6f3aba4e-4dea-4ea9-be9a-b065e5b9818e",
   "metadata": {
    "execution": {
     "iopub.execute_input": "2022-12-13T16:06:01.880369Z",
     "iopub.status.busy": "2022-12-13T16:06:01.880058Z",
     "iopub.status.idle": "2022-12-13T16:06:02.239139Z",
     "shell.execute_reply": "2022-12-13T16:06:02.238171Z",
     "shell.execute_reply.started": "2022-12-13T16:06:01.880369Z"
    },
    "tags": []
   },
   "outputs": [
    {
     "name": "stdout",
     "output_type": "stream",
     "text": [
      "+-------------------------------------------------------+-------------------------------------------------------+\n",
      "|                                               Document|                                             StopNGrams|\n",
      "+-------------------------------------------------------+-------------------------------------------------------+\n",
      "|what is the french name for arm cover?Are you talkin...|[what is, is the, the french, french name, name for,...|\n",
      "|Do we realy need Oil to run machines?When surfaces a...|[do we, we realy, realy need, need oil, oil to, to r...|\n",
      "|How can I save my yahoo id to the hackers?Tell me pl...|[how can, can i, i save, save my, my yahoo, yahoo id...|\n",
      "|I'm trying to find the Url for this website similar ...|[i m, m trying, trying to, to find, find the, the ur...|\n",
      "|define Stability of Linear Time-Invariant Systems?A ...|[define stability, stability of, of linear, linear t...|\n",
      "+-------------------------------------------------------+-------------------------------------------------------+\n",
      "only showing top 5 rows\n",
      "\n"
     ]
    }
   ],
   "source": [
    "remover = StopWordsRemover(inputCol=\"NGrams\", outputCol=\"StopNGrams\")\n",
    "df_removed = remover.transform(df_ngrams)\n",
    "df_removed.select(['Document', 'StopNGrams']).show(5,truncate=55)"
   ]
  },
  {
   "cell_type": "markdown",
   "id": "e0dc6dc0-f17d-40a7-9dbd-b536aa15b91f",
   "metadata": {},
   "source": [
    "### Full Processing Pipeline"
   ]
  },
  {
   "cell_type": "code",
   "execution_count": 15,
   "id": "cf21d413-b838-4044-9757-98bdcf899f37",
   "metadata": {
    "execution": {
     "iopub.execute_input": "2022-12-13T16:06:02.241190Z",
     "iopub.status.busy": "2022-12-13T16:06:02.241190Z",
     "iopub.status.idle": "2022-12-13T16:06:02.351478Z",
     "shell.execute_reply": "2022-12-13T16:06:02.348660Z",
     "shell.execute_reply.started": "2022-12-13T16:06:02.241190Z"
    },
    "tags": []
   },
   "outputs": [],
   "source": [
    "reg_tokenizer = RegexTokenizer(inputCol='Document', outputCol='Tokens', pattern='\\\\W')\n",
    "stop_word_remover = StopWordsRemover(inputCol='Tokens', outputCol='StopTokens')\n",
    "count_vec = CountVectorizer(inputCol='StopTokens', outputCol='CountVec')\n",
    "idf = IDF(inputCol='CountVec', outputCol='TF-IDF', minDocFreq=10)\n",
    "string_indexer = StringIndexer(inputCol='Label', outputCol='LabelString')\n",
    "#feature = VectorAssembler(inputCols=['TF-IDF', 'Length'], outputCol='Features')"
   ]
  },
  {
   "cell_type": "code",
   "execution_count": 17,
   "id": "295979b2-b37c-4eaf-9d38-b8a53585b453",
   "metadata": {
    "execution": {
     "iopub.execute_input": "2022-12-13T16:06:27.155218Z",
     "iopub.status.busy": "2022-12-13T16:06:27.154187Z",
     "iopub.status.idle": "2022-12-13T16:06:27.175181Z",
     "shell.execute_reply": "2022-12-13T16:06:27.174183Z",
     "shell.execute_reply.started": "2022-12-13T16:06:27.155218Z"
    },
    "tags": []
   },
   "outputs": [],
   "source": [
    "pipeline = Pipeline(stages=[\n",
    "    reg_tokenizer,\n",
    "    stop_word_remover,\n",
    "    count_vec,\n",
    "    idf,\n",
    "    string_indexer#,\n",
    "    #feature\n",
    "])"
   ]
  },
  {
   "cell_type": "code",
   "execution_count": 18,
   "id": "c2504b19-958c-4af2-8482-03864c677fd6",
   "metadata": {
    "execution": {
     "iopub.execute_input": "2022-12-13T16:06:30.377945Z",
     "iopub.status.busy": "2022-12-13T16:06:30.376946Z",
     "iopub.status.idle": "2022-12-13T16:06:57.345434Z",
     "shell.execute_reply": "2022-12-13T16:06:57.343428Z",
     "shell.execute_reply.started": "2022-12-13T16:06:30.377945Z"
    },
    "tags": []
   },
   "outputs": [],
   "source": [
    "pipeline = pipeline.fit(df)"
   ]
  },
  {
   "cell_type": "code",
   "execution_count": 19,
   "id": "ab0f4620-246a-40c1-9716-04141cc1fa00",
   "metadata": {
    "execution": {
     "iopub.execute_input": "2022-12-13T16:06:57.350433Z",
     "iopub.status.busy": "2022-12-13T16:06:57.349431Z",
     "iopub.status.idle": "2022-12-13T16:06:57.608292Z",
     "shell.execute_reply": "2022-12-13T16:06:57.607372Z",
     "shell.execute_reply.started": "2022-12-13T16:06:57.350433Z"
    },
    "tags": []
   },
   "outputs": [],
   "source": [
    "df_processed = pipeline.transform(df)"
   ]
  },
  {
   "cell_type": "code",
   "execution_count": 20,
   "id": "90282d9b-c7ed-4e3f-8176-b67e8d472e43",
   "metadata": {
    "execution": {
     "iopub.execute_input": "2022-12-13T16:06:57.610292Z",
     "iopub.status.busy": "2022-12-13T16:06:57.609292Z",
     "iopub.status.idle": "2022-12-13T16:06:58.217429Z",
     "shell.execute_reply": "2022-12-13T16:06:58.217116Z",
     "shell.execute_reply.started": "2022-12-13T16:06:57.610292Z"
    },
    "tags": []
   },
   "outputs": [
    {
     "name": "stdout",
     "output_type": "stream",
     "text": [
      "+--------------------+-----+-----+------+--------------------+--------------------+--------------------+--------------------+-----------+\n",
      "|            Document|  Set|Label|Length|              Tokens|          StopTokens|            CountVec|              TF-IDF|LabelString|\n",
      "+--------------------+-----+-----+------+--------------------+--------------------+--------------------+--------------------+-----------+\n",
      "|what is the frenc...|Train|    1|    71|[what, is, the, f...|[french, name, ar...|(262144,[74,321,1...|(262144,[74,321,1...|        0.0|\n",
      "|Do we realy need ...|Train|    2|  1124|[do, we, realy, n...|[realy, need, oil...|(262144,[0,12,16,...|(262144,[0,12,16,...|        4.0|\n",
      "|How can I save my...|Train|    5|   438|[how, can, i, sav...|[save, yahoo, id,...|(262144,[0,1,9,22...|(262144,[0,1,9,22...|        3.0|\n",
      "|I'm trying to fin...|Train|    7|   112|[i, m, trying, to...|[m, trying, find,...|(262144,[13,14,15...|(262144,[13,14,15...|        8.0|\n",
      "|define Stability ...|Train|    7|   166|[define, stabilit...|[define, stabilit...|(262144,[10,151,6...|(262144,[10,151,6...|        8.0|\n",
      "+--------------------+-----+-----+------+--------------------+--------------------+--------------------+--------------------+-----------+\n",
      "only showing top 5 rows\n",
      "\n"
     ]
    }
   ],
   "source": [
    "df_processed.show(5)"
   ]
  },
  {
   "cell_type": "code",
   "execution_count": 21,
   "id": "86e4111f-4393-41f3-8d06-13b2929040e7",
   "metadata": {
    "execution": {
     "iopub.execute_input": "2022-12-13T16:07:54.768638Z",
     "iopub.status.busy": "2022-12-13T16:07:54.767604Z",
     "iopub.status.idle": "2022-12-13T16:07:54.840596Z",
     "shell.execute_reply": "2022-12-13T16:07:54.839707Z",
     "shell.execute_reply.started": "2022-12-13T16:07:54.768638Z"
    },
    "tags": []
   },
   "outputs": [],
   "source": [
    "w = Window().orderBy(lit('A'))\n",
    "df_processed = df_processed.withColumn(\"RowNum\", row_number().over(w))"
   ]
  },
  {
   "cell_type": "code",
   "execution_count": 22,
   "id": "e91b8ea4-7811-414b-8cfc-e6deccaaa539",
   "metadata": {
    "execution": {
     "iopub.execute_input": "2022-12-13T16:07:54.842675Z",
     "iopub.status.busy": "2022-12-13T16:07:54.841594Z",
     "iopub.status.idle": "2022-12-13T16:07:54.887602Z",
     "shell.execute_reply": "2022-12-13T16:07:54.886594Z",
     "shell.execute_reply.started": "2022-12-13T16:07:54.842675Z"
    },
    "tags": []
   },
   "outputs": [],
   "source": [
    "df_train = df_processed.where(col(\"RowNum\").between(1, 100)).select('TF-IDF', 'LabelString')\n",
    "df_test = df_processed.where(col(\"RowNum\").between(190001, 190010)).select('TF-IDF', 'LabelString')"
   ]
  },
  {
   "cell_type": "code",
   "execution_count": 23,
   "id": "dba9335d-0cf6-42af-9f53-e1da2a2b0f2f",
   "metadata": {
    "execution": {
     "iopub.execute_input": "2022-12-13T16:07:54.889596Z",
     "iopub.status.busy": "2022-12-13T16:07:54.888593Z",
     "iopub.status.idle": "2022-12-13T16:07:56.468035Z",
     "shell.execute_reply": "2022-12-13T16:07:56.467367Z",
     "shell.execute_reply.started": "2022-12-13T16:07:54.888593Z"
    },
    "tags": []
   },
   "outputs": [
    {
     "name": "stdout",
     "output_type": "stream",
     "text": [
      "train: 100 and test: 10\n"
     ]
    }
   ],
   "source": [
    "print(f'train: {df_train.count()} and test: {df_test.count()}')"
   ]
  },
  {
   "cell_type": "code",
   "execution_count": 26,
   "id": "de6e3c53-151b-4e3e-a87f-1b97a3d418af",
   "metadata": {
    "execution": {
     "iopub.execute_input": "2022-12-13T16:08:21.702762Z",
     "iopub.status.busy": "2022-12-13T16:08:21.701794Z",
     "iopub.status.idle": "2022-12-13T16:08:33.702274Z",
     "shell.execute_reply": "2022-12-13T16:08:33.701406Z",
     "shell.execute_reply.started": "2022-12-13T16:08:21.702762Z"
    },
    "tags": []
   },
   "outputs": [
    {
     "name": "stdout",
     "output_type": "stream",
     "text": [
      "+----------------------------------------------------------------------------------------------------+-----------+\n",
      "|                                                                                              TF-IDF|LabelString|\n",
      "+----------------------------------------------------------------------------------------------------+-----------+\n",
      "|(262144,[74,321,1021,1157,1715,40575],[3.152856704547272,4.0007752110684045,5.375892941426043,5.2...|        0.0|\n",
      "|(262144,[0,12,16,26,27,35,57,80,182,185,221,282,317,399,424,487,507,533,593,603,664,747,762,791,8...|        4.0|\n",
      "|(262144,[0,1,9,22,28,32,43,49,50,60,85,101,155,203,219,238,325,344,365,386,392,495,517,529,648,88...|        3.0|\n",
      "|(262144,[13,14,15,20,121,168,174,659,859,2554,3225,34583],[2.215078340262761,2.3194174994370207,2...|        8.0|\n",
      "|(262144,[10,151,610,978,1211,1501,1688,1956,2174,2953,4092,5793,6034,34070],[4.311569836225594,3....|        8.0|\n",
      "+----------------------------------------------------------------------------------------------------+-----------+\n",
      "only showing top 5 rows\n",
      "\n"
     ]
    }
   ],
   "source": [
    "df_train.show(5, truncate=100)"
   ]
  },
  {
   "cell_type": "markdown",
   "id": "44a309b3-239d-42b4-ad03-215f07a55034",
   "metadata": {},
   "source": [
    "### Classification - SVM"
   ]
  },
  {
   "cell_type": "code",
   "execution_count": 29,
   "id": "8ae1b58a-c174-4ca5-bf7e-86225b4c92e0",
   "metadata": {
    "execution": {
     "iopub.execute_input": "2022-12-13T15:32:02.161924Z",
     "iopub.status.busy": "2022-12-13T15:32:02.161501Z",
     "iopub.status.idle": "2022-12-13T15:32:02.210504Z",
     "shell.execute_reply": "2022-12-13T15:32:02.209535Z",
     "shell.execute_reply.started": "2022-12-13T15:32:02.161924Z"
    },
    "tags": []
   },
   "outputs": [],
   "source": [
    "lr = LogisticRegression()"
   ]
  },
  {
   "cell_type": "code",
   "execution_count": 27,
   "id": "215dded0-d8e0-45bf-97d2-01b35f175dfe",
   "metadata": {
    "execution": {
     "iopub.execute_input": "2022-12-13T16:09:00.435207Z",
     "iopub.status.busy": "2022-12-13T16:09:00.433964Z",
     "iopub.status.idle": "2022-12-13T16:09:00.477603Z",
     "shell.execute_reply": "2022-12-13T16:09:00.476600Z",
     "shell.execute_reply.started": "2022-12-13T16:09:00.435207Z"
    },
    "tags": []
   },
   "outputs": [],
   "source": [
    "svm = LinearSVC()\n",
    "ovr = OneVsRest(classifier=svm, featuresCol='TF-IDF', labelCol='LabelString')"
   ]
  },
  {
   "cell_type": "code",
   "execution_count": 28,
   "id": "bab34c78-425d-4377-8b5b-2396ba94ea5a",
   "metadata": {
    "execution": {
     "iopub.execute_input": "2022-12-13T16:09:00.479600Z",
     "iopub.status.busy": "2022-12-13T16:09:00.478600Z",
     "iopub.status.idle": "2022-12-13T16:19:18.270406Z",
     "shell.execute_reply": "2022-12-13T16:19:18.269405Z",
     "shell.execute_reply.started": "2022-12-13T16:09:00.479600Z"
    },
    "tags": []
   },
   "outputs": [],
   "source": [
    "ovrModel = ovr.fit(df_train)\n",
    "predictions = ovrModel.transform(df_test)"
   ]
  },
  {
   "cell_type": "code",
   "execution_count": 29,
   "id": "26e953a5-ef84-43e4-b8af-598f5af112b5",
   "metadata": {
    "execution": {
     "iopub.execute_input": "2022-12-13T16:21:15.488629Z",
     "iopub.status.busy": "2022-12-13T16:21:15.487566Z",
     "iopub.status.idle": "2022-12-13T16:21:40.236636Z",
     "shell.execute_reply": "2022-12-13T16:21:40.235666Z",
     "shell.execute_reply.started": "2022-12-13T16:21:15.488629Z"
    },
    "tags": []
   },
   "outputs": [
    {
     "name": "stdout",
     "output_type": "stream",
     "text": [
      "+--------------------+-----------+--------------------+----------+\n",
      "|              TF-IDF|LabelString|       rawPrediction|prediction|\n",
      "+--------------------+-----------+--------------------+----------+\n",
      "|(262144,[2,7,8,9,...|        9.0|[-1.2539359408700...|       9.0|\n",
      "|(262144,[15,24,61...|        6.0|[-1.2619786496484...|       6.0|\n",
      "|(262144,[38,436,7...|        6.0|[-0.9123263291335...|       8.0|\n",
      "|(262144,[38,53,56...|        0.0|[-0.6404599342468...|       6.0|\n",
      "|(262144,[12,26,33...|        5.0|[-0.4117734576774...|       6.0|\n",
      "|(262144,[0,15,24,...|        3.0|[-1.3991276548908...|       3.0|\n",
      "|(262144,[0,6,14,2...|        7.0|[-0.5473978473741...|       5.0|\n",
      "|(262144,[61,67,81...|        1.0|[-1.2725461662587...|       1.0|\n",
      "|(262144,[0,7,9,13...|        3.0|[-0.7537007991925...|       3.0|\n",
      "|(262144,[7,16,50,...|        0.0|[-0.9184679012203...|       9.0|\n",
      "+--------------------+-----------+--------------------+----------+\n",
      "\n"
     ]
    }
   ],
   "source": [
    "predictions.show()"
   ]
  },
  {
   "cell_type": "code",
   "execution_count": 32,
   "id": "2af622df-3eeb-464d-80b1-09779caa7024",
   "metadata": {
    "execution": {
     "iopub.execute_input": "2022-12-13T16:21:49.289188Z",
     "iopub.status.busy": "2022-12-13T16:21:49.289188Z",
     "iopub.status.idle": "2022-12-13T16:21:49.304186Z",
     "shell.execute_reply": "2022-12-13T16:21:49.303216Z",
     "shell.execute_reply.started": "2022-12-13T16:21:49.289188Z"
    },
    "tags": []
   },
   "outputs": [],
   "source": [
    "evaluator = MulticlassClassificationEvaluator(labelCol='LabelString')"
   ]
  },
  {
   "cell_type": "code",
   "execution_count": 33,
   "id": "31a454e2-6954-48e7-a6aa-4aa37d75c4f0",
   "metadata": {
    "execution": {
     "iopub.execute_input": "2022-12-13T16:21:49.306350Z",
     "iopub.status.busy": "2022-12-13T16:21:49.306188Z",
     "iopub.status.idle": "2022-12-13T16:22:15.033095Z",
     "shell.execute_reply": "2022-12-13T16:22:15.032017Z",
     "shell.execute_reply.started": "2022-12-13T16:21:49.306350Z"
    },
    "tags": []
   },
   "outputs": [
    {
     "name": "stdout",
     "output_type": "stream",
     "text": [
      "Accuracy 0.44666666666666666\n"
     ]
    }
   ],
   "source": [
    "print(f'Accuracy {evaluator.evaluate(predictions)}')"
   ]
  },
  {
   "cell_type": "code",
   "execution_count": 31,
   "id": "cafeefd4-6f77-441d-82ec-469cc119d21c",
   "metadata": {
    "execution": {
     "iopub.execute_input": "2022-12-13T15:32:12.552702Z",
     "iopub.status.busy": "2022-12-13T15:32:12.551701Z",
     "iopub.status.idle": "2022-12-13T15:42:49.701238Z",
     "shell.execute_reply": "2022-12-13T15:42:49.700373Z",
     "shell.execute_reply.started": "2022-12-13T15:32:12.552702Z"
    },
    "tags": []
   },
   "outputs": [],
   "source": [
    "ovrModel = ovr.fit(df_train)\n",
    "predictions = ovrModel.transform(df_test)"
   ]
  },
  {
   "cell_type": "code",
   "execution_count": 32,
   "id": "10298afd-5eaa-4fa7-97a7-ddec677fd4ba",
   "metadata": {
    "execution": {
     "iopub.execute_input": "2022-12-13T15:43:34.430902Z",
     "iopub.status.busy": "2022-12-13T15:43:34.430654Z",
     "iopub.status.idle": "2022-12-13T15:44:00.227290Z",
     "shell.execute_reply": "2022-12-13T15:44:00.226298Z",
     "shell.execute_reply.started": "2022-12-13T15:43:34.430902Z"
    },
    "tags": []
   },
   "outputs": [
    {
     "name": "stdout",
     "output_type": "stream",
     "text": [
      "+--------------------+-----+--------------------+----------+\n",
      "|              TF-IDF|Label|       rawPrediction|prediction|\n",
      "+--------------------+-----+--------------------+----------+\n",
      "|(262144,[2,7,8,9,...|    9|[-Infinity,-19.59...|       9.0|\n",
      "|(262144,[15,24,61...|    4|[-Infinity,-19.36...|       4.0|\n",
      "|(262144,[38,436,7...|    4|[-Infinity,-14.85...|       4.0|\n",
      "|(262144,[38,53,56...|    1|[-Infinity,-14.03...|       4.0|\n",
      "|(262144,[12,26,33...|    3|[-Infinity,-5.015...|       4.0|\n",
      "|(262144,[0,15,24,...|    5|[-Infinity,-18.57...|       5.0|\n",
      "|(262144,[0,6,14,2...|   10|[-Infinity,-12.51...|       3.0|\n",
      "|(262144,[61,67,81...|    6|[-Infinity,-18.32...|       6.0|\n",
      "|(262144,[0,7,9,13...|    5|[-Infinity,-15.06...|       5.0|\n",
      "|(262144,[7,16,50,...|    1|[-Infinity,-17.91...|       4.0|\n",
      "+--------------------+-----+--------------------+----------+\n",
      "\n"
     ]
    }
   ],
   "source": [
    "predictions.show()"
   ]
  },
  {
   "cell_type": "code",
   "execution_count": 39,
   "id": "39f8e87c-e6bf-4681-8581-cefafcb22155",
   "metadata": {
    "execution": {
     "iopub.execute_input": "2022-12-13T15:47:22.418151Z",
     "iopub.status.busy": "2022-12-13T15:47:22.418151Z",
     "iopub.status.idle": "2022-12-13T15:47:22.440148Z",
     "shell.execute_reply": "2022-12-13T15:47:22.439149Z",
     "shell.execute_reply.started": "2022-12-13T15:47:22.418151Z"
    },
    "tags": []
   },
   "outputs": [],
   "source": [
    "evaluator = MulticlassClassificationEvaluator(labelCol='Label')"
   ]
  },
  {
   "cell_type": "code",
   "execution_count": 40,
   "id": "ae05a2b5-6a72-416c-bc37-200a45d48ad7",
   "metadata": {
    "execution": {
     "iopub.execute_input": "2022-12-13T15:47:24.299021Z",
     "iopub.status.busy": "2022-12-13T15:47:24.297379Z",
     "iopub.status.idle": "2022-12-13T15:47:49.643469Z",
     "shell.execute_reply": "2022-12-13T15:47:49.642502Z",
     "shell.execute_reply.started": "2022-12-13T15:47:24.299021Z"
    },
    "tags": []
   },
   "outputs": [
    {
     "name": "stdout",
     "output_type": "stream",
     "text": [
      "Accuracy 0.5142857142857143\n"
     ]
    }
   ],
   "source": [
    "print(f'Accuracy {evaluator.evaluate(predictions)}')"
   ]
  }
 ],
 "metadata": {
  "kernelspec": {
   "display_name": "Python 3 (ipykernel)",
   "language": "python",
   "name": "python3"
  },
  "language_info": {
   "codemirror_mode": {
    "name": "ipython",
    "version": 3
   },
   "file_extension": ".py",
   "mimetype": "text/x-python",
   "name": "python",
   "nbconvert_exporter": "python",
   "pygments_lexer": "ipython3",
   "version": "3.8.15"
  },
  "vscode": {
   "interpreter": {
    "hash": "8a1524db6d30cecd9499819b2838fc928f01903195772e5788511080a339eb2f"
   }
  }
 },
 "nbformat": 4,
 "nbformat_minor": 5
}
