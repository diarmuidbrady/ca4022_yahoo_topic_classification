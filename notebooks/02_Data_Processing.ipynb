{
 "cells": [
  {
   "cell_type": "markdown",
   "id": "7ee38ba4-dc13-46b7-8f50-94f88b69dc52",
   "metadata": {},
   "source": [
    "# Yahoo Topic Classification"
   ]
  },
  {
   "cell_type": "markdown",
   "id": "0ff719a6-166a-41bb-acf3-8be5d0f2409c",
   "metadata": {
    "execution": {
     "iopub.execute_input": "2022-11-24T10:38:08.745184Z",
     "iopub.status.busy": "2022-11-24T10:38:08.743460Z",
     "iopub.status.idle": "2022-11-24T10:38:09.328424Z",
     "shell.execute_reply": "2022-11-24T10:38:09.325422Z",
     "shell.execute_reply.started": "2022-11-24T10:38:08.744184Z"
    },
    "tags": []
   },
   "source": [
    "## Setting up Libraries and Environments"
   ]
  },
  {
   "cell_type": "code",
   "execution_count": 1,
   "id": "cbb9a2b7-d4ec-4caf-bf1a-770986bfe332",
   "metadata": {
    "execution": {
     "iopub.execute_input": "2022-12-11T14:23:22.288054Z",
     "iopub.status.busy": "2022-12-11T14:23:22.287058Z",
     "iopub.status.idle": "2022-12-11T14:23:22.931046Z",
     "shell.execute_reply": "2022-12-11T14:23:22.930260Z",
     "shell.execute_reply.started": "2022-12-11T14:23:22.288054Z"
    },
    "tags": []
   },
   "outputs": [],
   "source": [
    "# Basic\n",
    "import pandas as pd\n",
    "import numpy as np\n",
    "import findspark\n",
    "import pyspark\n",
    "from pyspark import SparkFiles\n",
    "from pyspark.sql import SparkSession"
   ]
  },
  {
   "cell_type": "code",
   "execution_count": 2,
   "id": "79ac2de3-468f-403d-af60-dacbb291eadc",
   "metadata": {
    "execution": {
     "iopub.execute_input": "2022-12-11T14:23:22.933045Z",
     "iopub.status.busy": "2022-12-11T14:23:22.932045Z",
     "iopub.status.idle": "2022-12-11T14:23:22.946044Z",
     "shell.execute_reply": "2022-12-11T14:23:22.945133Z",
     "shell.execute_reply.started": "2022-12-11T14:23:22.933045Z"
    },
    "tags": []
   },
   "outputs": [
    {
     "data": {
      "text/plain": [
       "'C:\\\\spark-3.3.1-bin-hadoop3\\\\'"
      ]
     },
     "execution_count": 2,
     "metadata": {},
     "output_type": "execute_result"
    }
   ],
   "source": [
    "findspark.init()\n",
    "findspark.find()"
   ]
  },
  {
   "cell_type": "code",
   "execution_count": 3,
   "id": "c4b71490-54c7-4673-9b76-c01ec64d39ac",
   "metadata": {
    "execution": {
     "iopub.execute_input": "2022-12-11T14:23:22.947046Z",
     "iopub.status.busy": "2022-12-11T14:23:22.947046Z",
     "iopub.status.idle": "2022-12-11T14:23:26.703333Z",
     "shell.execute_reply": "2022-12-11T14:23:26.703310Z",
     "shell.execute_reply.started": "2022-12-11T14:23:22.947046Z"
    },
    "tags": []
   },
   "outputs": [],
   "source": [
    "spark = SparkSession.builder.appName('SparkByExamples.com').getOrCreate()"
   ]
  },
  {
   "cell_type": "markdown",
   "id": "97d591fd-51c5-46bc-987f-6ac8ca5360af",
   "metadata": {
    "execution": {
     "iopub.execute_input": "2022-11-25T15:12:38.695557Z",
     "iopub.status.busy": "2022-11-25T15:12:38.695557Z",
     "iopub.status.idle": "2022-11-25T15:12:42.365718Z",
     "shell.execute_reply": "2022-11-25T15:12:42.364754Z",
     "shell.execute_reply.started": "2022-11-25T15:12:38.695557Z"
    },
    "tags": []
   },
   "source": [
    "## Data Import"
   ]
  },
  {
   "cell_type": "code",
   "execution_count": 5,
   "id": "5d88c51c-f25e-4c4e-98af-592fcf95e1ef",
   "metadata": {
    "execution": {
     "iopub.execute_input": "2022-12-11T14:23:39.978459Z",
     "iopub.status.busy": "2022-12-11T14:23:39.977464Z",
     "iopub.status.idle": "2022-12-11T14:23:45.200912Z",
     "shell.execute_reply": "2022-12-11T14:23:45.200025Z",
     "shell.execute_reply.started": "2022-12-11T14:23:39.978459Z"
    },
    "tags": []
   },
   "outputs": [],
   "source": [
    "# Import Data from reduced folders\n",
    "train = spark.read.csv(\"../data/train_reduced\")\n",
    "test = spark.read.csv(\"../data/test_reduced\")"
   ]
  },
  {
   "cell_type": "markdown",
   "id": "c15f0701-ee21-467d-9b24-3e666e211e1f",
   "metadata": {},
   "source": [
    "## Data Preview\n",
    "This includes some basic view of the data before processing"
   ]
  },
  {
   "cell_type": "code",
   "execution_count": 6,
   "id": "eee87c20-e092-4c65-b2b8-56f6742f2dbe",
   "metadata": {
    "execution": {
     "iopub.execute_input": "2022-12-11T14:23:52.314474Z",
     "iopub.status.busy": "2022-12-11T14:23:52.314474Z",
     "iopub.status.idle": "2022-12-11T14:23:52.545392Z",
     "shell.execute_reply": "2022-12-11T14:23:52.544393Z",
     "shell.execute_reply.started": "2022-12-11T14:23:52.314474Z"
    },
    "tags": []
   },
   "outputs": [
    {
     "name": "stdout",
     "output_type": "stream",
     "text": [
      "+---+--------------------+--------------------+--------------------+\n",
      "|_c0|                 _c1|                 _c2|                 _c3|\n",
      "+---+--------------------+--------------------+--------------------+\n",
      "| 10|Do you think this...|\"This happened to...|\"\" and the newspa...|\n",
      "|  3|I'm counting calo...|What will a high ...|Well sodium isn't...|\n",
      "| 10|How do you feel a...|Marijuana has bec...|That makes too mu...|\n",
      "|  2|Find the coordina...|Find the coordina...|\"Let P be (a,b). ...|\n",
      "|  8| ok this is 2 funny?|\"A true story out...|waiting to give h...|\n",
      "+---+--------------------+--------------------+--------------------+\n",
      "only showing top 5 rows\n",
      "\n"
     ]
    }
   ],
   "source": [
    "train.show(5)"
   ]
  },
  {
   "cell_type": "code",
   "execution_count": 7,
   "id": "fa2cd587-a9f8-4604-b6d6-21f3c6156c8e",
   "metadata": {
    "execution": {
     "iopub.execute_input": "2022-12-11T14:24:02.962705Z",
     "iopub.status.busy": "2022-12-11T14:24:02.961674Z",
     "iopub.status.idle": "2022-12-11T14:24:03.125674Z",
     "shell.execute_reply": "2022-12-11T14:24:03.124674Z",
     "shell.execute_reply.started": "2022-12-11T14:24:02.962705Z"
    },
    "tags": []
   },
   "outputs": [
    {
     "name": "stdout",
     "output_type": "stream",
     "text": [
      "+---+--------------------+--------------------+--------------------+\n",
      "|_c0|                 _c1|                 _c2|                 _c3|\n",
      "+---+--------------------+--------------------+--------------------+\n",
      "|  4|How many types of...|                null|person above bme ...|\n",
      "|  8|is there a stolen...|not steal this al...|\"so many ppl were...|\n",
      "|  2|Which city/town i...|I've heard a lot ...|\"Perth, Ontario.\\...|\n",
      "|  1|\"What does it mea...|                null| Thank you very much|\n",
      "|  4|y do some girls  ...|                null|\"Listen honey, a ...|\n",
      "+---+--------------------+--------------------+--------------------+\n",
      "only showing top 5 rows\n",
      "\n"
     ]
    }
   ],
   "source": [
    "test.show(5)"
   ]
  },
  {
   "cell_type": "code",
   "execution_count": 8,
   "id": "efea0d2b-d7c7-4549-87ae-5dfda80f6403",
   "metadata": {
    "execution": {
     "iopub.execute_input": "2022-12-11T14:40:01.071825Z",
     "iopub.status.busy": "2022-12-11T14:40:01.071825Z",
     "iopub.status.idle": "2022-12-11T14:40:06.525378Z",
     "shell.execute_reply": "2022-12-11T14:40:06.524377Z",
     "shell.execute_reply.started": "2022-12-11T14:40:01.071825Z"
    },
    "tags": []
   },
   "outputs": [
    {
     "data": {
      "text/plain": [
       "DataFrame[summary: string, _c0: string, _c1: string, _c2: string, _c3: string]"
      ]
     },
     "execution_count": 8,
     "metadata": {},
     "output_type": "execute_result"
    }
   ],
   "source": [
    "train.describe()"
   ]
  },
  {
   "cell_type": "code",
   "execution_count": 9,
   "id": "f042ac05-7a79-40b4-82ca-3c8d33fa61d3",
   "metadata": {
    "execution": {
     "iopub.execute_input": "2022-12-11T14:40:06.929657Z",
     "iopub.status.busy": "2022-12-11T14:40:06.929657Z",
     "iopub.status.idle": "2022-12-11T14:40:07.632400Z",
     "shell.execute_reply": "2022-12-11T14:40:07.631517Z",
     "shell.execute_reply.started": "2022-12-11T14:40:06.929657Z"
    },
    "tags": []
   },
   "outputs": [
    {
     "data": {
      "text/plain": [
       "DataFrame[summary: string, _c0: string, _c1: string, _c2: string, _c3: string]"
      ]
     },
     "execution_count": 9,
     "metadata": {},
     "output_type": "execute_result"
    }
   ],
   "source": [
    "test.describe()"
   ]
  }
 ],
 "metadata": {
  "kernelspec": {
   "display_name": "Python 3 (ipykernel)",
   "language": "python",
   "name": "python3"
  },
  "language_info": {
   "codemirror_mode": {
    "name": "ipython",
    "version": 3
   },
   "file_extension": ".py",
   "mimetype": "text/x-python",
   "name": "python",
   "nbconvert_exporter": "python",
   "pygments_lexer": "ipython3",
   "version": "3.8.15"
  }
 },
 "nbformat": 4,
 "nbformat_minor": 5
}
