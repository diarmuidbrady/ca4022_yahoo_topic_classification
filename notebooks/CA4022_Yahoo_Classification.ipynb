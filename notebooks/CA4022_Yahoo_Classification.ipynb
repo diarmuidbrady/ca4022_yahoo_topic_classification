{
 "cells": [
  {
   "cell_type": "markdown",
   "id": "7ee38ba4-dc13-46b7-8f50-94f88b69dc52",
   "metadata": {},
   "source": [
    "# Yahoo Topic Classification"
   ]
  },
  {
   "cell_type": "markdown",
   "id": "0ff719a6-166a-41bb-acf3-8be5d0f2409c",
   "metadata": {
    "execution": {
     "iopub.execute_input": "2022-11-24T10:38:08.745184Z",
     "iopub.status.busy": "2022-11-24T10:38:08.743460Z",
     "iopub.status.idle": "2022-11-24T10:38:09.328424Z",
     "shell.execute_reply": "2022-11-24T10:38:09.325422Z",
     "shell.execute_reply.started": "2022-11-24T10:38:08.744184Z"
    },
    "tags": []
   },
   "source": [
    "## Import Libraries"
   ]
  },
  {
   "cell_type": "code",
   "execution_count": 1,
   "id": "cbb9a2b7-d4ec-4caf-bf1a-770986bfe332",
   "metadata": {
    "execution": {
     "iopub.execute_input": "2022-11-24T11:38:37.054538Z",
     "iopub.status.busy": "2022-11-24T11:38:37.052537Z",
     "iopub.status.idle": "2022-11-24T11:38:38.992595Z",
     "shell.execute_reply": "2022-11-24T11:38:38.989659Z",
     "shell.execute_reply.started": "2022-11-24T11:38:37.054538Z"
    },
    "tags": []
   },
   "outputs": [],
   "source": [
    "# Basic\n",
    "import pandas as pd\n",
    "import numpy as np\n",
    "import findspark\n",
    "import pyspark\n",
    "from pyspark import SparkFiles\n",
    "from pyspark.sql import SparkSession"
   ]
  },
  {
   "cell_type": "code",
   "execution_count": 2,
   "id": "79ac2de3-468f-403d-af60-dacbb291eadc",
   "metadata": {
    "execution": {
     "iopub.execute_input": "2022-11-24T11:38:43.641869Z",
     "iopub.status.busy": "2022-11-24T11:38:43.640980Z",
     "iopub.status.idle": "2022-11-24T11:38:43.678870Z",
     "shell.execute_reply": "2022-11-24T11:38:43.675863Z",
     "shell.execute_reply.started": "2022-11-24T11:38:43.641869Z"
    },
    "tags": []
   },
   "outputs": [
    {
     "data": {
      "text/plain": [
       "'C:\\\\Users\\\\Diarmuid\\\\anaconda3\\\\envs\\\\yahoo\\\\lib\\\\site-packages\\\\pyspark'"
      ]
     },
     "execution_count": 2,
     "metadata": {},
     "output_type": "execute_result"
    }
   ],
   "source": [
    "findspark.init()\n",
    "findspark.find()"
   ]
  },
  {
   "cell_type": "code",
   "execution_count": 3,
   "id": "c4b71490-54c7-4673-9b76-c01ec64d39ac",
   "metadata": {
    "execution": {
     "iopub.execute_input": "2022-11-24T11:38:45.227680Z",
     "iopub.status.busy": "2022-11-24T11:38:45.226622Z",
     "iopub.status.idle": "2022-11-24T11:39:13.532705Z",
     "shell.execute_reply": "2022-11-24T11:39:13.527704Z",
     "shell.execute_reply.started": "2022-11-24T11:38:45.227680Z"
    },
    "tags": []
   },
   "outputs": [],
   "source": [
    "spark = SparkSession.builder.appName('SparkByExamples.com').getOrCreate()"
   ]
  }
 ],
 "metadata": {
  "kernelspec": {
   "display_name": "Python 3 (ipykernel)",
   "language": "python",
   "name": "python3"
  },
  "language_info": {
   "codemirror_mode": {
    "name": "ipython",
    "version": 3
   },
   "file_extension": ".py",
   "mimetype": "text/x-python",
   "name": "python",
   "nbconvert_exporter": "python",
   "pygments_lexer": "ipython3",
   "version": "3.8.15"
  }
 },
 "nbformat": 4,
 "nbformat_minor": 5
}
